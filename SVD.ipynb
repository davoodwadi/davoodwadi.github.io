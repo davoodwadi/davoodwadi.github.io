{
  "nbformat": 4,
  "nbformat_minor": 0,
  "metadata": {
    "colab": {
      "provenance": [],
      "authorship_tag": "ABX9TyMtcajH5lgx79r3cz+4nbbk",
      "include_colab_link": true
    },
    "kernelspec": {
      "name": "python3",
      "display_name": "Python 3"
    },
    "language_info": {
      "name": "python"
    }
  },
  "cells": [
    {
      "cell_type": "markdown",
      "metadata": {
        "id": "view-in-github",
        "colab_type": "text"
      },
      "source": [
        "<a href=\"https://colab.research.google.com/github/davoodwadi/davoodwadi.github.io/blob/main/SVD.ipynb\" target=\"_parent\"><img src=\"https://colab.research.google.com/assets/colab-badge.svg\" alt=\"Open In Colab\"/></a>"
      ]
    },
    {
      "cell_type": "code",
      "execution_count": 1,
      "metadata": {
        "id": "3rdSSINTu8Af"
      },
      "outputs": [],
      "source": [
        "import torch"
      ]
    },
    {
      "cell_type": "code",
      "source": [
        "a = torch.tensor([[1,0,0],\n",
        "                  [0,1,1],\n",
        "                  [0,-1,1],\n",
        "                  [0,1,1]],\n",
        "                 ).float()\n",
        "a"
      ],
      "metadata": {
        "colab": {
          "base_uri": "https://localhost:8080/"
        },
        "id": "bBB9ggAGu_LV",
        "outputId": "dd3dbeb7-3368-4342-b0b2-ecef10334d36"
      },
      "execution_count": 209,
      "outputs": [
        {
          "output_type": "execute_result",
          "data": {
            "text/plain": [
              "tensor([[ 1.,  0.,  0.],\n",
              "        [ 0.,  1.,  1.],\n",
              "        [ 0., -1.,  1.],\n",
              "        [ 0.,  1.,  1.]])"
            ]
          },
          "metadata": {},
          "execution_count": 209
        }
      ]
    },
    {
      "cell_type": "code",
      "source": [
        "k = 20\n",
        "u = torch.randn(a.shape[0],k,\n",
        "                 requires_grad=True)\n",
        "\n",
        "e = torch.randn(k,k,\n",
        "                 requires_grad=True)\n",
        "v = torch.randn(k,a.shape[1],\n",
        "                 requires_grad=True)\n",
        "v"
      ],
      "metadata": {
        "colab": {
          "base_uri": "https://localhost:8080/"
        },
        "id": "7LkCRdV121XF",
        "outputId": "cbde3c7e-583a-40dc-abfc-92ef4be112d1"
      },
      "execution_count": 210,
      "outputs": [
        {
          "output_type": "execute_result",
          "data": {
            "text/plain": [
              "tensor([[ 0.9015,  1.0255,  0.2431],\n",
              "        [-1.2664, -0.6683,  0.5521],\n",
              "        [ 0.4850,  0.2404,  0.5693],\n",
              "        [-1.1650,  0.4653,  0.5886],\n",
              "        [ 0.7403,  0.4950,  0.9561],\n",
              "        [ 0.9427,  0.0692, -0.7072],\n",
              "        [-0.7861,  1.5624, -0.1903],\n",
              "        [ 0.6444,  1.6078, -1.1009],\n",
              "        [-0.8088,  1.7394,  0.7134],\n",
              "        [-1.0839, -1.8242,  0.6143],\n",
              "        [-0.8885,  0.5079,  0.9730],\n",
              "        [-0.3428,  0.5006,  1.0436],\n",
              "        [-1.1146, -0.7251, -0.0483],\n",
              "        [-0.7944, -0.5456,  0.5030],\n",
              "        [ 0.2012, -0.5444, -0.7391],\n",
              "        [ 0.5292,  0.3408, -1.0711],\n",
              "        [-1.6246,  1.8258, -0.8090],\n",
              "        [-0.9683, -0.0782, -2.0903],\n",
              "        [-0.5788, -1.1266, -1.1112],\n",
              "        [ 0.3413,  0.5070, -0.4971]], requires_grad=True)"
            ]
          },
          "metadata": {},
          "execution_count": 210
        }
      ]
    },
    {
      "cell_type": "code",
      "source": [
        "with torch.no_grad():\n",
        "  print((u @ e) @ v)"
      ],
      "metadata": {
        "colab": {
          "base_uri": "https://localhost:8080/"
        },
        "id": "8VBn-EHR31HA",
        "outputId": "af89d552-5140-4616-b2d1-b58862991d30"
      },
      "execution_count": 211,
      "outputs": [
        {
          "output_type": "stream",
          "name": "stdout",
          "text": [
            "tensor([[ -6.4249,  20.2877,   3.4491],\n",
            "        [ 27.2574,  12.4964,   4.0062],\n",
            "        [ 22.9396,  19.2870, -10.5043],\n",
            "        [ 16.3157, -13.0167,  -3.0784]])\n"
          ]
        }
      ]
    },
    {
      "cell_type": "code",
      "source": [
        "a_hat = (u @ e) @ v\n",
        "loss = loss_fn(a_hat[mask], a[mask])\n",
        "loss.backward()"
      ],
      "metadata": {
        "id": "CxcFMKbA7rE5"
      },
      "execution_count": 212,
      "outputs": []
    },
    {
      "cell_type": "code",
      "source": [
        "u.grad"
      ],
      "metadata": {
        "colab": {
          "base_uri": "https://localhost:8080/"
        },
        "id": "XKzRHdPE7xjR",
        "outputId": "d53eeba8-dc31-4bca-e274-a9096fcda5a2"
      },
      "execution_count": 213,
      "outputs": [
        {
          "output_type": "execute_result",
          "data": {
            "text/plain": [
              "tensor([[-3.1585e+01, -2.1295e+00,  1.7229e+01, -2.9118e+01,  2.1858e+01,\n",
              "         -1.0075e+01,  6.5761e+00,  1.2604e+01,  2.8173e+01, -7.5108e+00,\n",
              "         -1.0504e+01,  6.2597e+00, -1.5025e+01, -2.1357e+01, -1.5101e+01,\n",
              "          2.9773e+00,  5.2052e+00, -8.2106e+00,  3.6537e+00,  6.6837e+00],\n",
              "        [-1.3986e+01,  2.6096e+00,  2.2352e+01,  2.4575e+01,  5.3397e+01,\n",
              "         -2.3649e+01, -5.5750e+01,  2.2495e+01,  1.6939e+01, -3.0122e+01,\n",
              "          2.9761e+01,  2.5503e+01,  2.6977e+01,  4.1092e+01,  3.7109e+00,\n",
              "          1.0263e+01, -2.2510e+01,  2.8549e+01,  2.1062e+01,  2.0827e+01],\n",
              "        [ 6.2770e+00,  1.3564e+01,  1.2677e+01,  3.1640e+01,  2.7399e+01,\n",
              "         -1.6760e+01, -4.6806e+01,  5.5829e+00,  7.8993e-02, -2.5555e+01,\n",
              "          2.7347e+01,  9.4444e+00,  1.7262e+01,  4.3731e+01,  1.8627e+01,\n",
              "          2.1008e+01, -2.2945e+01,  1.8907e+01,  1.4966e+01,  6.5067e+00],\n",
              "        [ 2.3790e+01,  4.6461e+00, -6.8382e+00,  3.5006e+01, -9.4395e-01,\n",
              "         -3.7348e-02, -2.6268e+01, -4.1966e+00, -1.9225e+01, -5.1356e+00,\n",
              "          2.0174e+01,  2.3740e+00,  2.1545e+01,  3.4501e+01,  1.6427e+01,\n",
              "          3.4800e+00, -1.3387e+01,  1.6582e+01,  4.4162e+00,  4.4221e-01]])"
            ]
          },
          "metadata": {},
          "execution_count": 213
        }
      ]
    },
    {
      "cell_type": "code",
      "source": [
        "u.shape"
      ],
      "metadata": {
        "colab": {
          "base_uri": "https://localhost:8080/"
        },
        "id": "eRGB1FZj714V",
        "outputId": "c5d8d265-2c8a-42db-fcc9-f626c2eed693"
      },
      "execution_count": 214,
      "outputs": [
        {
          "output_type": "execute_result",
          "data": {
            "text/plain": [
              "torch.Size([4, 20])"
            ]
          },
          "metadata": {},
          "execution_count": 214
        }
      ]
    },
    {
      "cell_type": "code",
      "source": [
        "optim = torch.optim.SGD([u, e, v], lr = 0.001)\n",
        "loss_fn = torch.nn.MSELoss()\n",
        "epoch = 1000\n",
        "mask = a >= 0\n",
        "for ep in range(epoch):\n",
        "  a_hat = (u @ e) @ v # added sigmoid to force (0, 1)\n",
        "  loss = loss_fn(a_hat[mask], a[mask])\n",
        "  loss.backward()\n",
        "  optim.step()\n",
        "  optim.zero_grad()\n",
        "  if ep%100==0:\n",
        "    print(f'epoch {ep}: loss {loss.detach().item():0.4f}')\n"
      ],
      "metadata": {
        "colab": {
          "base_uri": "https://localhost:8080/"
        },
        "id": "SQlenLqOyoNC",
        "outputId": "1f3a6041-4037-41fe-9b95-2258f1e6e5d5"
      },
      "execution_count": 190,
      "outputs": [
        {
          "output_type": "stream",
          "name": "stdout",
          "text": [
            "epoch 0: loss 139.4312\n",
            "epoch 100: loss 0.0049\n",
            "epoch 200: loss 0.0000\n",
            "epoch 300: loss 0.0000\n",
            "epoch 400: loss 0.0000\n",
            "epoch 500: loss 0.0000\n",
            "epoch 600: loss 0.0000\n",
            "epoch 700: loss 0.0000\n",
            "epoch 800: loss 0.0000\n",
            "epoch 900: loss 0.0000\n"
          ]
        }
      ]
    },
    {
      "cell_type": "code",
      "source": [
        "with torch.no_grad():\n",
        "  print((u @ e) @ v)"
      ],
      "metadata": {
        "colab": {
          "base_uri": "https://localhost:8080/"
        },
        "id": "KG1qz7Znyg7i",
        "outputId": "47358f3b-62fc-4e18-e4d1-b199f24c483c"
      },
      "execution_count": 191,
      "outputs": [
        {
          "output_type": "stream",
          "name": "stdout",
          "text": [
            "tensor([[ 1.0000e+00, -7.4953e-06, -1.2398e-05],\n",
            "        [-1.4305e-06,  1.0000e+00,  1.0000e+00],\n",
            "        [-1.9073e-06,  3.4807e+00,  9.9999e-01],\n",
            "        [ 5.7220e-06,  1.0000e+00,  9.9999e-01]])\n"
          ]
        }
      ]
    },
    {
      "cell_type": "code",
      "source": [
        "a"
      ],
      "metadata": {
        "colab": {
          "base_uri": "https://localhost:8080/"
        },
        "id": "GXFHPKzw1NCl",
        "outputId": "5ec6677c-88dd-4aff-d287-d65ef298223b"
      },
      "execution_count": 192,
      "outputs": [
        {
          "output_type": "execute_result",
          "data": {
            "text/plain": [
              "tensor([[ 1.,  0.,  0.],\n",
              "        [ 0.,  1.,  1.],\n",
              "        [ 0., -1.,  1.],\n",
              "        [ 0.,  1.,  1.]])"
            ]
          },
          "metadata": {},
          "execution_count": 192
        }
      ]
    },
    {
      "cell_type": "code",
      "source": [
        "a_hat[mask], a[mask]"
      ],
      "metadata": {
        "colab": {
          "base_uri": "https://localhost:8080/"
        },
        "id": "yYx6IQj61Otq",
        "outputId": "b71716d2-d9e1-43b3-f0ed-c8b971060d1d"
      },
      "execution_count": 180,
      "outputs": [
        {
          "output_type": "execute_result",
          "data": {
            "text/plain": [
              "(tensor([ 1.0000e+00,  0.0000e+00, -2.3842e-07,  1.0000e+00,  0.0000e+00],\n",
              "        grad_fn=<IndexBackward0>),\n",
              " tensor([1., 0., 0., 1., 0.]))"
            ]
          },
          "metadata": {},
          "execution_count": 180
        }
      ]
    },
    {
      "cell_type": "markdown",
      "source": [
        "add a neural netwrok in the middle"
      ],
      "metadata": {
        "id": "DycB6CJt5i2I"
      }
    },
    {
      "cell_type": "code",
      "source": [
        "class NN(torch.nn.Module):\n",
        "  def __init__(self,a, hidden_size):\n",
        "    super(NN, self).__init__()\n",
        "    self.u = torch.nn.Linear(a.shape[0], hidden_size, bias=False)\n",
        "    self.e1 = torch.nn.Linear(hidden_size, hidden_size)\n",
        "    self.v = torch.nn.Linear(hidden_size, a.shape[1])\n",
        "    self.relu = torch.nn.ReLU()\n",
        "  def forward(self):\n",
        "    x = self.e1(self.u.weight.T)\n",
        "    x = self.relu(x)\n",
        "    x = self.v(x)\n",
        "    return x"
      ],
      "metadata": {
        "id": "E3X2oozl5iBr"
      },
      "execution_count": 200,
      "outputs": []
    },
    {
      "cell_type": "code",
      "source": [
        "hidden_size = 20\n",
        "lr = 0.001\n",
        "model = NN(a, hidden_size)\n",
        "optim = torch.optim.SGD(model.parameters(), lr=lr)\n",
        "loss_fn = torch.nn.MSELoss()"
      ],
      "metadata": {
        "id": "kzBG_SLf5hlN"
      },
      "execution_count": 215,
      "outputs": []
    },
    {
      "cell_type": "code",
      "source": [
        "epoch = 10000\n",
        "mask = a >= 0\n",
        "for ep in range(epoch):\n",
        "  a_hat = model()\n",
        "  loss = loss_fn(a_hat[mask], a[mask])\n",
        "  loss.backward()\n",
        "  optim.step()\n",
        "  optim.zero_grad()\n",
        "  if ep%1000==0:\n",
        "    print(f'epoch {ep}: loss {loss.detach().item():0.4f}')\n"
      ],
      "metadata": {
        "colab": {
          "base_uri": "https://localhost:8080/"
        },
        "id": "gV8xUPNR5hdb",
        "outputId": "38aa7f7e-b3bf-40b7-84a8-50c7edb2d04d"
      },
      "execution_count": 217,
      "outputs": [
        {
          "output_type": "stream",
          "name": "stdout",
          "text": [
            "epoch 0: loss 0.2243\n",
            "epoch 100: loss 0.2116\n",
            "epoch 200: loss 0.2001\n",
            "epoch 300: loss 0.1898\n",
            "epoch 400: loss 0.1804\n",
            "epoch 500: loss 0.1718\n",
            "epoch 600: loss 0.1637\n",
            "epoch 700: loss 0.1563\n",
            "epoch 800: loss 0.1492\n",
            "epoch 900: loss 0.1426\n",
            "epoch 1000: loss 0.1362\n",
            "epoch 1100: loss 0.1301\n",
            "epoch 1200: loss 0.1242\n",
            "epoch 1300: loss 0.1185\n",
            "epoch 1400: loss 0.1129\n",
            "epoch 1500: loss 0.1075\n",
            "epoch 1600: loss 0.1023\n",
            "epoch 1700: loss 0.0971\n",
            "epoch 1800: loss 0.0921\n",
            "epoch 1900: loss 0.0872\n",
            "epoch 2000: loss 0.0825\n",
            "epoch 2100: loss 0.0780\n",
            "epoch 2200: loss 0.0737\n",
            "epoch 2300: loss 0.0694\n",
            "epoch 2400: loss 0.0652\n",
            "epoch 2500: loss 0.0612\n",
            "epoch 2600: loss 0.0573\n",
            "epoch 2700: loss 0.0535\n",
            "epoch 2800: loss 0.0499\n",
            "epoch 2900: loss 0.0465\n",
            "epoch 3000: loss 0.0431\n",
            "epoch 3100: loss 0.0400\n",
            "epoch 3200: loss 0.0370\n",
            "epoch 3300: loss 0.0342\n",
            "epoch 3400: loss 0.0316\n",
            "epoch 3500: loss 0.0291\n",
            "epoch 3600: loss 0.0268\n",
            "epoch 3700: loss 0.0247\n",
            "epoch 3800: loss 0.0227\n",
            "epoch 3900: loss 0.0208\n",
            "epoch 4000: loss 0.0191\n",
            "epoch 4100: loss 0.0175\n",
            "epoch 4200: loss 0.0161\n",
            "epoch 4300: loss 0.0147\n",
            "epoch 4400: loss 0.0135\n",
            "epoch 4500: loss 0.0124\n",
            "epoch 4600: loss 0.0114\n",
            "epoch 4700: loss 0.0104\n",
            "epoch 4800: loss 0.0096\n",
            "epoch 4900: loss 0.0088\n",
            "epoch 5000: loss 0.0081\n",
            "epoch 5100: loss 0.0075\n",
            "epoch 5200: loss 0.0069\n",
            "epoch 5300: loss 0.0064\n",
            "epoch 5400: loss 0.0059\n",
            "epoch 5500: loss 0.0054\n",
            "epoch 5600: loss 0.0050\n",
            "epoch 5700: loss 0.0047\n",
            "epoch 5800: loss 0.0043\n",
            "epoch 5900: loss 0.0040\n",
            "epoch 6000: loss 0.0038\n",
            "epoch 6100: loss 0.0035\n",
            "epoch 6200: loss 0.0033\n",
            "epoch 6300: loss 0.0031\n",
            "epoch 6400: loss 0.0029\n",
            "epoch 6500: loss 0.0027\n",
            "epoch 6600: loss 0.0026\n",
            "epoch 6700: loss 0.0024\n",
            "epoch 6800: loss 0.0023\n",
            "epoch 6900: loss 0.0022\n",
            "epoch 7000: loss 0.0021\n",
            "epoch 7100: loss 0.0020\n",
            "epoch 7200: loss 0.0019\n",
            "epoch 7300: loss 0.0018\n",
            "epoch 7400: loss 0.0017\n",
            "epoch 7500: loss 0.0016\n",
            "epoch 7600: loss 0.0015\n",
            "epoch 7700: loss 0.0015\n",
            "epoch 7800: loss 0.0014\n",
            "epoch 7900: loss 0.0013\n",
            "epoch 8000: loss 0.0013\n",
            "epoch 8100: loss 0.0012\n",
            "epoch 8200: loss 0.0012\n",
            "epoch 8300: loss 0.0011\n",
            "epoch 8400: loss 0.0011\n",
            "epoch 8500: loss 0.0011\n",
            "epoch 8600: loss 0.0010\n",
            "epoch 8700: loss 0.0010\n",
            "epoch 8800: loss 0.0010\n",
            "epoch 8900: loss 0.0009\n",
            "epoch 9000: loss 0.0009\n",
            "epoch 9100: loss 0.0009\n",
            "epoch 9200: loss 0.0008\n",
            "epoch 9300: loss 0.0008\n",
            "epoch 9400: loss 0.0008\n",
            "epoch 9500: loss 0.0008\n",
            "epoch 9600: loss 0.0008\n",
            "epoch 9700: loss 0.0007\n",
            "epoch 9800: loss 0.0007\n",
            "epoch 9900: loss 0.0007\n"
          ]
        }
      ]
    },
    {
      "cell_type": "code",
      "source": [
        "with torch.no_grad():\n",
        "  a_hat = model()"
      ],
      "metadata": {
        "id": "nE9_ZQgv6w_T"
      },
      "execution_count": 218,
      "outputs": []
    },
    {
      "cell_type": "code",
      "source": [
        "a_hat"
      ],
      "metadata": {
        "colab": {
          "base_uri": "https://localhost:8080/"
        },
        "id": "hjFGDoy97btL",
        "outputId": "791c3138-0e7b-4ba1-96c9-4885b3cfd888"
      },
      "execution_count": 219,
      "outputs": [
        {
          "output_type": "execute_result",
          "data": {
            "text/plain": [
              "tensor([[ 1.0052,  0.0095,  0.0043],\n",
              "        [-0.0270,  0.9689,  0.9363],\n",
              "        [ 0.0084,  0.9217,  1.0360],\n",
              "        [ 0.0139,  1.0079,  1.0017]])"
            ]
          },
          "metadata": {},
          "execution_count": 219
        }
      ]
    },
    {
      "cell_type": "code",
      "source": [
        "a"
      ],
      "metadata": {
        "colab": {
          "base_uri": "https://localhost:8080/"
        },
        "id": "dNhZDwaX8NJn",
        "outputId": "5996f885-58f5-42ea-b17a-4962ce0b616e"
      },
      "execution_count": 220,
      "outputs": [
        {
          "output_type": "execute_result",
          "data": {
            "text/plain": [
              "tensor([[ 1.,  0.,  0.],\n",
              "        [ 0.,  1.,  1.],\n",
              "        [ 0., -1.,  1.],\n",
              "        [ 0.,  1.,  1.]])"
            ]
          },
          "metadata": {},
          "execution_count": 220
        }
      ]
    },
    {
      "cell_type": "markdown",
      "source": [
        "Time series"
      ],
      "metadata": {
        "id": "nOHAv6Otzbwt"
      }
    },
    {
      "cell_type": "code",
      "source": [
        "a = torch.tensor([[1,-1],\n",
        "                  [2,6],\n",
        "                  [3,7],\n",
        "                  [4,8]],\n",
        "                 ).float()\n",
        "a"
      ],
      "metadata": {
        "colab": {
          "base_uri": "https://localhost:8080/"
        },
        "id": "redi8y3myiVi",
        "outputId": "35e97f1f-cf06-4731-a53f-c904a9be7efa"
      },
      "execution_count": 221,
      "outputs": [
        {
          "output_type": "execute_result",
          "data": {
            "text/plain": [
              "tensor([[ 1., -1.],\n",
              "        [ 2.,  6.],\n",
              "        [ 3.,  7.],\n",
              "        [ 4.,  8.]])"
            ]
          },
          "metadata": {},
          "execution_count": 221
        }
      ]
    },
    {
      "cell_type": "code",
      "source": [
        "hidden_size = 20\n",
        "lr = 0.001\n",
        "model = NN(a, hidden_size)\n",
        "optim = torch.optim.SGD(model.parameters(), lr=lr)\n",
        "loss_fn = torch.nn.MSELoss()"
      ],
      "metadata": {
        "id": "BPbRrmbAykVu"
      },
      "execution_count": 222,
      "outputs": []
    },
    {
      "cell_type": "code",
      "source": [
        "epoch = 10000\n",
        "mask = a >= 0\n",
        "for ep in range(epoch):\n",
        "  a_hat = model()\n",
        "  loss = loss_fn(a_hat[mask], a[mask])\n",
        "  loss.backward()\n",
        "  optim.step()\n",
        "  optim.zero_grad()\n",
        "  if ep%1000==0:\n",
        "    print(f'epoch {ep}: loss {loss.detach().item():0.4f}')"
      ],
      "metadata": {
        "colab": {
          "base_uri": "https://localhost:8080/"
        },
        "id": "tnADIkoRzhiM",
        "outputId": "1c500674-7b8c-4d75-fe5b-0503446b21f1"
      },
      "execution_count": 223,
      "outputs": [
        {
          "output_type": "stream",
          "name": "stdout",
          "text": [
            "epoch 0: loss 25.8822\n",
            "epoch 1000: loss 0.0961\n",
            "epoch 2000: loss 0.0413\n",
            "epoch 3000: loss 0.0239\n",
            "epoch 4000: loss 0.0134\n",
            "epoch 5000: loss 0.0071\n",
            "epoch 6000: loss 0.0036\n",
            "epoch 7000: loss 0.0019\n",
            "epoch 8000: loss 0.0010\n",
            "epoch 9000: loss 0.0005\n"
          ]
        }
      ]
    },
    {
      "cell_type": "code",
      "source": [
        "with torch.no_grad():\n",
        "  a_hat = model()\n",
        "a_hat"
      ],
      "metadata": {
        "colab": {
          "base_uri": "https://localhost:8080/"
        },
        "id": "d6oy0tU0zrcy",
        "outputId": "7ef07dec-e737-4c71-a90a-37d772928741"
      },
      "execution_count": 225,
      "outputs": [
        {
          "output_type": "execute_result",
          "data": {
            "text/plain": [
              "tensor([[1.0000, 2.8161],\n",
              "        [2.0031, 5.9983],\n",
              "        [3.0273, 6.9852],\n",
              "        [3.9747, 8.0136]])"
            ]
          },
          "metadata": {},
          "execution_count": 225
        }
      ]
    },
    {
      "cell_type": "code",
      "source": [
        "a"
      ],
      "metadata": {
        "colab": {
          "base_uri": "https://localhost:8080/"
        },
        "id": "ssefhAwyzv2J",
        "outputId": "735b68d4-eba8-4b95-87e6-b2fc79943a52"
      },
      "execution_count": 226,
      "outputs": [
        {
          "output_type": "execute_result",
          "data": {
            "text/plain": [
              "tensor([[ 1., -1.],\n",
              "        [ 2.,  6.],\n",
              "        [ 3.,  7.],\n",
              "        [ 4.,  8.]])"
            ]
          },
          "metadata": {},
          "execution_count": 226
        }
      ]
    },
    {
      "cell_type": "code",
      "source": [],
      "metadata": {
        "id": "RI84-Gja8sVq"
      },
      "execution_count": null,
      "outputs": []
    }
  ]
}