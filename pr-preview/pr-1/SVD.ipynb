{
  "nbformat": 4,
  "nbformat_minor": 0,
  "metadata": {
    "colab": {
      "provenance": [],
      "authorship_tag": "ABX9TyOo59ceIkvdsYejLeXAd0OD",
      "include_colab_link": true
    },
    "kernelspec": {
      "name": "python3",
      "display_name": "Python 3"
    },
    "language_info": {
      "name": "python"
    }
  },
  "cells": [
    {
      "cell_type": "markdown",
      "metadata": {
        "id": "view-in-github",
        "colab_type": "text"
      },
      "source": [
        "<a href=\"https://colab.research.google.com/github/davoodwadi/davoodwadi.github.io/blob/main/SVD.ipynb\" target=\"_parent\"><img src=\"https://colab.research.google.com/assets/colab-badge.svg\" alt=\"Open In Colab\"/></a>"
      ]
    },
    {
      "cell_type": "code",
      "execution_count": 1,
      "metadata": {
        "id": "3rdSSINTu8Af"
      },
      "outputs": [],
      "source": [
        "import torch"
      ]
    },
    {
      "cell_type": "code",
      "source": [
        "a = torch.tensor([[1,0,0],\n",
        "                  [0,1,1],\n",
        "                  [0,-1,1],\n",
        "                  [0,1,1]],\n",
        "                 ).float()\n",
        "a"
      ],
      "metadata": {
        "colab": {
          "base_uri": "https://localhost:8080/"
        },
        "id": "bBB9ggAGu_LV",
        "outputId": "23e3e37c-3a24-4d10-fd30-75e792916200"
      },
      "execution_count": 2,
      "outputs": [
        {
          "output_type": "execute_result",
          "data": {
            "text/plain": [
              "tensor([[ 1.,  0.,  0.],\n",
              "        [ 0.,  1.,  1.],\n",
              "        [ 0., -1.,  1.],\n",
              "        [ 0.,  1.,  1.]])"
            ]
          },
          "metadata": {},
          "execution_count": 2
        }
      ]
    },
    {
      "cell_type": "code",
      "source": [
        "k = 20\n",
        "u = torch.randn(a.shape[0],k,\n",
        "                 requires_grad=True)\n",
        "\n",
        "e = torch.randn(k,k,\n",
        "                 requires_grad=True)\n",
        "v = torch.randn(k,a.shape[1],\n",
        "                 requires_grad=True)\n",
        "v"
      ],
      "metadata": {
        "colab": {
          "base_uri": "https://localhost:8080/"
        },
        "id": "7LkCRdV121XF",
        "outputId": "59e2b85e-7527-4f7e-f2fe-806faabf0a88"
      },
      "execution_count": 3,
      "outputs": [
        {
          "output_type": "execute_result",
          "data": {
            "text/plain": [
              "tensor([[ 0.3727,  0.4020, -0.5528],\n",
              "        [-0.2050, -0.4838, -0.2506],\n",
              "        [-1.5798, -0.2937,  1.2738],\n",
              "        [ 1.0125,  0.5758,  0.0430],\n",
              "        [ 0.1004,  0.9923,  0.5611],\n",
              "        [-1.2531, -0.7247,  1.5790],\n",
              "        [ 1.6918,  2.4901, -0.6655],\n",
              "        [ 0.1845, -1.2979,  0.3447],\n",
              "        [-0.8393,  0.1415,  1.4891],\n",
              "        [-0.2766, -1.1580,  0.7771],\n",
              "        [-0.4322,  0.8322,  0.2769],\n",
              "        [-0.7442,  0.1456, -0.2111],\n",
              "        [ 0.6675, -0.0240, -0.6332],\n",
              "        [-2.3263, -0.6030,  0.5034],\n",
              "        [ 0.5356, -0.0642, -0.4217],\n",
              "        [-0.5647,  0.3019, -0.6941],\n",
              "        [ 1.7027, -0.6539, -0.9952],\n",
              "        [-0.0654,  0.4789, -0.3537],\n",
              "        [-0.1381,  0.1470,  0.8018],\n",
              "        [-2.5433,  0.3890,  0.0380]], requires_grad=True)"
            ]
          },
          "metadata": {},
          "execution_count": 3
        }
      ]
    },
    {
      "cell_type": "code",
      "source": [
        "with torch.no_grad():\n",
        "  print((u @ e) @ v)"
      ],
      "metadata": {
        "colab": {
          "base_uri": "https://localhost:8080/"
        },
        "id": "8VBn-EHR31HA",
        "outputId": "8c1aa03c-3be0-46d4-a286-3c0e307f36c7"
      },
      "execution_count": 4,
      "outputs": [
        {
          "output_type": "stream",
          "name": "stdout",
          "text": [
            "tensor([[ 13.9237,  15.2582,  -9.2116],\n",
            "        [  6.6544, -12.3802,  -4.2403],\n",
            "        [-16.9099, -32.8751,  11.2544],\n",
            "        [ 30.6219,  15.0554,  -2.8704]])\n"
          ]
        }
      ]
    },
    {
      "cell_type": "code",
      "source": [
        "a_hat = (u @ e) @ v\n",
        "loss = loss_fn(a_hat[mask], a[mask])\n",
        "loss.backward()"
      ],
      "metadata": {
        "id": "CxcFMKbA7rE5"
      },
      "execution_count": null,
      "outputs": []
    },
    {
      "cell_type": "code",
      "source": [
        "u.grad"
      ],
      "metadata": {
        "colab": {
          "base_uri": "https://localhost:8080/"
        },
        "id": "XKzRHdPE7xjR",
        "outputId": "d53eeba8-dc31-4bca-e274-a9096fcda5a2"
      },
      "execution_count": null,
      "outputs": [
        {
          "output_type": "execute_result",
          "data": {
            "text/plain": [
              "tensor([[-3.1585e+01, -2.1295e+00,  1.7229e+01, -2.9118e+01,  2.1858e+01,\n",
              "         -1.0075e+01,  6.5761e+00,  1.2604e+01,  2.8173e+01, -7.5108e+00,\n",
              "         -1.0504e+01,  6.2597e+00, -1.5025e+01, -2.1357e+01, -1.5101e+01,\n",
              "          2.9773e+00,  5.2052e+00, -8.2106e+00,  3.6537e+00,  6.6837e+00],\n",
              "        [-1.3986e+01,  2.6096e+00,  2.2352e+01,  2.4575e+01,  5.3397e+01,\n",
              "         -2.3649e+01, -5.5750e+01,  2.2495e+01,  1.6939e+01, -3.0122e+01,\n",
              "          2.9761e+01,  2.5503e+01,  2.6977e+01,  4.1092e+01,  3.7109e+00,\n",
              "          1.0263e+01, -2.2510e+01,  2.8549e+01,  2.1062e+01,  2.0827e+01],\n",
              "        [ 6.2770e+00,  1.3564e+01,  1.2677e+01,  3.1640e+01,  2.7399e+01,\n",
              "         -1.6760e+01, -4.6806e+01,  5.5829e+00,  7.8993e-02, -2.5555e+01,\n",
              "          2.7347e+01,  9.4444e+00,  1.7262e+01,  4.3731e+01,  1.8627e+01,\n",
              "          2.1008e+01, -2.2945e+01,  1.8907e+01,  1.4966e+01,  6.5067e+00],\n",
              "        [ 2.3790e+01,  4.6461e+00, -6.8382e+00,  3.5006e+01, -9.4395e-01,\n",
              "         -3.7348e-02, -2.6268e+01, -4.1966e+00, -1.9225e+01, -5.1356e+00,\n",
              "          2.0174e+01,  2.3740e+00,  2.1545e+01,  3.4501e+01,  1.6427e+01,\n",
              "          3.4800e+00, -1.3387e+01,  1.6582e+01,  4.4162e+00,  4.4221e-01]])"
            ]
          },
          "metadata": {},
          "execution_count": 213
        }
      ]
    },
    {
      "cell_type": "code",
      "source": [
        "u.shape"
      ],
      "metadata": {
        "colab": {
          "base_uri": "https://localhost:8080/"
        },
        "id": "eRGB1FZj714V",
        "outputId": "c5d8d265-2c8a-42db-fcc9-f626c2eed693"
      },
      "execution_count": null,
      "outputs": [
        {
          "output_type": "execute_result",
          "data": {
            "text/plain": [
              "torch.Size([4, 20])"
            ]
          },
          "metadata": {},
          "execution_count": 214
        }
      ]
    },
    {
      "cell_type": "code",
      "source": [
        "k = 20\n",
        "u = torch.randn(a.shape[0],k,\n",
        "                 requires_grad=True)\n",
        "\n",
        "e = torch.randn(k,k,\n",
        "                 requires_grad=True)\n",
        "v = torch.randn(k,a.shape[1],\n",
        "                 requires_grad=True)"
      ],
      "metadata": {
        "id": "lO88bjmeOSOd"
      },
      "execution_count": 36,
      "outputs": []
    },
    {
      "cell_type": "code",
      "source": [
        "optim = torch.optim.SGD([u, e, v], lr = 0.001, momentum=0)\n",
        "loss_fn = torch.nn.MSELoss()\n",
        "epoch = 20\n",
        "mask = a >= 0\n",
        "for ep in range(epoch):\n",
        "  a_hat = (u @ e) @ v # added sigmoid to force (0, 1)\n",
        "  loss = loss_fn(a_hat[mask], a[mask])\n",
        "  loss.backward()\n",
        "  optim.step()\n",
        "  optim.zero_grad()\n",
        "  if ep%1==0:\n",
        "    print(f'epoch {ep}: loss {loss.detach().item():0.4f}')\n"
      ],
      "metadata": {
        "colab": {
          "base_uri": "https://localhost:8080/"
        },
        "id": "SQlenLqOyoNC",
        "outputId": "26308586-7869-49c0-ae5a-3f7ea27e8b2d"
      },
      "execution_count": 37,
      "outputs": [
        {
          "output_type": "stream",
          "name": "stdout",
          "text": [
            "epoch 0: loss 269.1609\n",
            "epoch 1: loss 146.8698\n",
            "epoch 2: loss 87.0954\n",
            "epoch 3: loss 54.5714\n",
            "epoch 4: loss 35.6558\n",
            "epoch 5: loss 24.1037\n",
            "epoch 6: loss 16.7645\n",
            "epoch 7: loss 11.9434\n",
            "epoch 8: loss 8.6836\n",
            "epoch 9: loss 6.4236\n",
            "epoch 10: loss 4.8222\n",
            "epoch 11: loss 3.6658\n",
            "epoch 12: loss 2.8168\n",
            "epoch 13: loss 2.1845\n",
            "epoch 14: loss 1.7076\n",
            "epoch 15: loss 1.3441\n",
            "epoch 16: loss 1.0642\n",
            "epoch 17: loss 0.8469\n",
            "epoch 18: loss 0.6770\n",
            "epoch 19: loss 0.5433\n"
          ]
        }
      ]
    },
    {
      "cell_type": "code",
      "source": [
        "with torch.no_grad():\n",
        "  print((u @ e) @ v)"
      ],
      "metadata": {
        "colab": {
          "base_uri": "https://localhost:8080/"
        },
        "id": "KG1qz7Znyg7i",
        "outputId": "47358f3b-62fc-4e18-e4d1-b199f24c483c"
      },
      "execution_count": null,
      "outputs": [
        {
          "output_type": "stream",
          "name": "stdout",
          "text": [
            "tensor([[ 1.0000e+00, -7.4953e-06, -1.2398e-05],\n",
            "        [-1.4305e-06,  1.0000e+00,  1.0000e+00],\n",
            "        [-1.9073e-06,  3.4807e+00,  9.9999e-01],\n",
            "        [ 5.7220e-06,  1.0000e+00,  9.9999e-01]])\n"
          ]
        }
      ]
    },
    {
      "cell_type": "code",
      "source": [
        "a"
      ],
      "metadata": {
        "colab": {
          "base_uri": "https://localhost:8080/"
        },
        "id": "GXFHPKzw1NCl",
        "outputId": "5ec6677c-88dd-4aff-d287-d65ef298223b"
      },
      "execution_count": null,
      "outputs": [
        {
          "output_type": "execute_result",
          "data": {
            "text/plain": [
              "tensor([[ 1.,  0.,  0.],\n",
              "        [ 0.,  1.,  1.],\n",
              "        [ 0., -1.,  1.],\n",
              "        [ 0.,  1.,  1.]])"
            ]
          },
          "metadata": {},
          "execution_count": 192
        }
      ]
    },
    {
      "cell_type": "markdown",
      "source": [
        "# Get ActiveSGD algorithm\n",
        "\"Read The Signs\" [paper](https://arxiv.org/abs/2301.10133)\n",
        "\n",
        "PyTorch [optimizer](https://raw.githubusercontent.com/davoodwadi/active-lr/main/optimizers/ActiveSGD.py)"
      ],
      "metadata": {
        "id": "V585IscsOefq"
      }
    },
    {
      "cell_type": "code",
      "source": [
        "!wget https://raw.githubusercontent.com/davoodwadi/active-lr/main/optimizers/ActiveSGD.py"
      ],
      "metadata": {
        "id": "RppglutkOeTi",
        "outputId": "412c2d6d-9b0d-4b5e-b637-0a80ea997bdd",
        "colab": {
          "base_uri": "https://localhost:8080/"
        }
      },
      "execution_count": 10,
      "outputs": [
        {
          "output_type": "stream",
          "name": "stdout",
          "text": [
            "--2023-09-25 12:09:51--  https://raw.githubusercontent.com/davoodwadi/active-lr/main/optimizers/ActiveSGD.py\n",
            "Resolving raw.githubusercontent.com (raw.githubusercontent.com)... 185.199.109.133, 185.199.111.133, 185.199.110.133, ...\n",
            "Connecting to raw.githubusercontent.com (raw.githubusercontent.com)|185.199.109.133|:443... connected.\n",
            "HTTP request sent, awaiting response... 200 OK\n",
            "Length: 4148 (4.1K) [text/plain]\n",
            "Saving to: ‘ActiveSGD.py’\n",
            "\n",
            "\rActiveSGD.py          0%[                    ]       0  --.-KB/s               \rActiveSGD.py        100%[===================>]   4.05K  --.-KB/s    in 0s      \n",
            "\n",
            "2023-09-25 12:09:51 (68.1 MB/s) - ‘ActiveSGD.py’ saved [4148/4148]\n",
            "\n"
          ]
        }
      ]
    },
    {
      "cell_type": "code",
      "source": [
        "from ActiveSGD import ActiveSGD"
      ],
      "metadata": {
        "id": "dwvUJCkmPwOi"
      },
      "execution_count": 11,
      "outputs": []
    },
    {
      "cell_type": "code",
      "source": [
        "k = 20\n",
        "u = torch.randn(a.shape[0],k,\n",
        "                 requires_grad=True)\n",
        "\n",
        "e = torch.randn(k,k,\n",
        "                 requires_grad=True)\n",
        "v = torch.randn(k,a.shape[1],\n",
        "                 requires_grad=True)"
      ],
      "metadata": {
        "id": "yYx6IQj61Otq"
      },
      "execution_count": 43,
      "outputs": []
    },
    {
      "cell_type": "code",
      "source": [
        "stepSize = 1\n",
        "optim = ActiveSGD([u, e, v], stepSize=1, lr = 0.001, momentum=0, lrLow=0.5, lrHigh=2.)\n",
        "loss_fn = torch.nn.MSELoss()\n",
        "epoch = 20\n",
        "mask = a >= 0\n",
        "for ep in range(epoch):\n",
        "  a_hat = (u @ e) @ v # added sigmoid to force (0, 1)\n",
        "  loss = loss_fn(a_hat[mask], a[mask])\n",
        "  loss.backward()\n",
        "  optim.step()\n",
        "  optim.zero_grad()\n",
        "  if ep%1==0:\n",
        "    print(f'epoch {ep}: loss {loss.detach().item():0.4f}')"
      ],
      "metadata": {
        "id": "dJiKiiB_P19q",
        "outputId": "b227087f-0c25-4d67-ee76-74f18737440e",
        "colab": {
          "base_uri": "https://localhost:8080/"
        }
      },
      "execution_count": 44,
      "outputs": [
        {
          "output_type": "stream",
          "name": "stdout",
          "text": [
            "epoch 0: loss 401.8856\n",
            "epoch 1: loss 204.4616\n",
            "epoch 2: loss 121.5371\n",
            "epoch 3: loss 74.8861\n",
            "epoch 4: loss 46.9087\n",
            "epoch 5: loss 29.4424\n",
            "epoch 6: loss 18.3647\n",
            "epoch 7: loss 11.3499\n",
            "epoch 8: loss 6.9511\n",
            "epoch 9: loss 4.2248\n",
            "epoch 10: loss 2.5522\n",
            "epoch 11: loss 1.5333\n",
            "epoch 12: loss 0.9155\n",
            "epoch 13: loss 0.5422\n",
            "epoch 14: loss 0.3176\n",
            "epoch 15: loss 0.1835\n",
            "epoch 16: loss 0.1043\n",
            "epoch 17: loss 0.0581\n",
            "epoch 18: loss 0.0317\n",
            "epoch 19: loss 0.0169\n"
          ]
        }
      ]
    },
    {
      "cell_type": "markdown",
      "source": [
        "add a neural netwrok in the middle"
      ],
      "metadata": {
        "id": "DycB6CJt5i2I"
      }
    },
    {
      "cell_type": "code",
      "source": [
        "class NN(torch.nn.Module):\n",
        "  def __init__(self,a, hidden_size):\n",
        "    super(NN, self).__init__()\n",
        "    self.u = torch.nn.Linear(a.shape[0], hidden_size, bias=False)\n",
        "    self.e1 = torch.nn.Linear(hidden_size, hidden_size)\n",
        "    self.v = torch.nn.Linear(hidden_size, a.shape[1])\n",
        "    self.relu = torch.nn.ReLU()\n",
        "  def forward(self):\n",
        "    x = self.e1(self.u.weight.T)\n",
        "    x = self.relu(x)\n",
        "    x = self.v(x)\n",
        "    return x"
      ],
      "metadata": {
        "id": "E3X2oozl5iBr"
      },
      "execution_count": 45,
      "outputs": []
    },
    {
      "cell_type": "code",
      "source": [
        "hidden_size = 20\n",
        "lr = 0.001\n",
        "model = NN(a, hidden_size)\n",
        "optim = torch.optim.SGD(model.parameters(), lr=lr)\n",
        "loss_fn = torch.nn.MSELoss()"
      ],
      "metadata": {
        "id": "kzBG_SLf5hlN"
      },
      "execution_count": 47,
      "outputs": []
    },
    {
      "cell_type": "code",
      "source": [
        "epoch = 100\n",
        "mask = a >= 0\n",
        "for ep in range(epoch):\n",
        "  a_hat = model()\n",
        "  loss = loss_fn(a_hat[mask], a[mask])\n",
        "  loss.backward()\n",
        "  optim.step()\n",
        "  optim.zero_grad()\n",
        "  if ep%10==0:\n",
        "    print(f'epoch {ep}: loss {loss.detach().item():0.4f}')\n"
      ],
      "metadata": {
        "colab": {
          "base_uri": "https://localhost:8080/"
        },
        "id": "gV8xUPNR5hdb",
        "outputId": "9ae44732-3306-4093-ee71-e2f8fdd3d075"
      },
      "execution_count": 48,
      "outputs": [
        {
          "output_type": "stream",
          "name": "stdout",
          "text": [
            "epoch 0: loss 0.7275\n",
            "epoch 10: loss 0.7156\n",
            "epoch 20: loss 0.7040\n",
            "epoch 30: loss 0.6926\n",
            "epoch 40: loss 0.6815\n",
            "epoch 50: loss 0.6707\n",
            "epoch 60: loss 0.6601\n",
            "epoch 70: loss 0.6498\n",
            "epoch 80: loss 0.6397\n",
            "epoch 90: loss 0.6298\n"
          ]
        }
      ]
    },
    {
      "cell_type": "markdown",
      "source": [
        "ActiveSGD"
      ],
      "metadata": {
        "id": "Ot0movprRiTt"
      }
    },
    {
      "cell_type": "code",
      "source": [
        "hidden_size = 20\n",
        "lr = 0.001\n",
        "model = NN(a, hidden_size)\n",
        "optim = ActiveSGD(model.parameters(), 1, lr=lr, lrHigh=2., lrLow=0.5)\n",
        "loss_fn = torch.nn.MSELoss()"
      ],
      "metadata": {
        "id": "jzTz7eZIRE3l"
      },
      "execution_count": 55,
      "outputs": []
    },
    {
      "cell_type": "code",
      "source": [
        "epoch = 100\n",
        "mask = a >= 0\n",
        "for ep in range(epoch):\n",
        "  a_hat = model()\n",
        "  loss = loss_fn(a_hat[mask], a[mask])\n",
        "  loss.backward()\n",
        "  optim.step()\n",
        "  optim.zero_grad()\n",
        "  if ep%10==0:\n",
        "    print(f'epoch {ep}: loss {loss.detach().item():0.4f}')\n"
      ],
      "metadata": {
        "id": "-PcwMfG9REto",
        "outputId": "e14f813c-24e8-4a7a-d4e7-2dfe54726e67",
        "colab": {
          "base_uri": "https://localhost:8080/"
        }
      },
      "execution_count": 56,
      "outputs": [
        {
          "output_type": "stream",
          "name": "stdout",
          "text": [
            "epoch 0: loss 0.6306\n",
            "epoch 10: loss 0.5806\n",
            "epoch 20: loss 0.4504\n",
            "epoch 30: loss 0.3030\n",
            "epoch 40: loss 0.1950\n",
            "epoch 50: loss 0.1383\n",
            "epoch 60: loss 0.1081\n",
            "epoch 70: loss 0.0785\n",
            "epoch 80: loss 0.0492\n",
            "epoch 90: loss 0.0243\n"
          ]
        }
      ]
    },
    {
      "cell_type": "code",
      "source": [
        "with torch.no_grad():\n",
        "  a_hat = model()"
      ],
      "metadata": {
        "id": "nE9_ZQgv6w_T"
      },
      "execution_count": 57,
      "outputs": []
    },
    {
      "cell_type": "code",
      "source": [
        "a_hat"
      ],
      "metadata": {
        "colab": {
          "base_uri": "https://localhost:8080/"
        },
        "id": "hjFGDoy97btL",
        "outputId": "9cf0c291-3357-4976-bf82-0d2f1392d5ae"
      },
      "execution_count": 58,
      "outputs": [
        {
          "output_type": "execute_result",
          "data": {
            "text/plain": [
              "tensor([[ 0.9203,  0.1739,  0.1112],\n",
              "        [-0.0391,  0.8130,  0.9532],\n",
              "        [ 0.0461,  0.4488,  0.9737],\n",
              "        [ 0.0257,  1.0491,  0.9791]])"
            ]
          },
          "metadata": {},
          "execution_count": 58
        }
      ]
    },
    {
      "cell_type": "code",
      "source": [
        "a"
      ],
      "metadata": {
        "colab": {
          "base_uri": "https://localhost:8080/"
        },
        "id": "dNhZDwaX8NJn",
        "outputId": "f6a5c1cb-da82-4586-c22e-13b85ca02ae5"
      },
      "execution_count": 59,
      "outputs": [
        {
          "output_type": "execute_result",
          "data": {
            "text/plain": [
              "tensor([[ 1.,  0.,  0.],\n",
              "        [ 0.,  1.,  1.],\n",
              "        [ 0., -1.,  1.],\n",
              "        [ 0.,  1.,  1.]])"
            ]
          },
          "metadata": {},
          "execution_count": 59
        }
      ]
    },
    {
      "cell_type": "code",
      "source": [],
      "metadata": {
        "id": "-KQT3eogRDpr"
      },
      "execution_count": null,
      "outputs": []
    },
    {
      "cell_type": "code",
      "source": [],
      "metadata": {
        "id": "BCS8gxy-RDje"
      },
      "execution_count": null,
      "outputs": []
    },
    {
      "cell_type": "markdown",
      "source": [
        "Time series"
      ],
      "metadata": {
        "id": "nOHAv6Otzbwt"
      }
    },
    {
      "cell_type": "code",
      "source": [
        "a = torch.tensor([[1,-1],\n",
        "                  [2,6],\n",
        "                  [3,7],\n",
        "                  [4,8]],\n",
        "                 ).float()\n",
        "a"
      ],
      "metadata": {
        "colab": {
          "base_uri": "https://localhost:8080/"
        },
        "id": "redi8y3myiVi",
        "outputId": "ee5b9629-ccff-4d9b-b35c-ef69b86c68be"
      },
      "execution_count": 60,
      "outputs": [
        {
          "output_type": "execute_result",
          "data": {
            "text/plain": [
              "tensor([[ 1., -1.],\n",
              "        [ 2.,  6.],\n",
              "        [ 3.,  7.],\n",
              "        [ 4.,  8.]])"
            ]
          },
          "metadata": {},
          "execution_count": 60
        }
      ]
    },
    {
      "cell_type": "code",
      "source": [
        "hidden_size = 20\n",
        "lr = 0.001\n",
        "model = NN(a, hidden_size)\n",
        "optim = torch.optim.SGD(model.parameters(), lr=lr)\n",
        "loss_fn = torch.nn.MSELoss()"
      ],
      "metadata": {
        "id": "BPbRrmbAykVu"
      },
      "execution_count": 61,
      "outputs": []
    },
    {
      "cell_type": "code",
      "source": [
        "epoch = 100\n",
        "mask = a >= 0\n",
        "for ep in range(epoch):\n",
        "  a_hat = model()\n",
        "  loss = loss_fn(a_hat[mask], a[mask])\n",
        "  loss.backward()\n",
        "  optim.step()\n",
        "  optim.zero_grad()\n",
        "  if ep%10==0:\n",
        "    print(f'epoch {ep}: loss {loss.detach().item():0.4f}')"
      ],
      "metadata": {
        "colab": {
          "base_uri": "https://localhost:8080/"
        },
        "id": "tnADIkoRzhiM",
        "outputId": "7b449c74-996a-4b40-a732-4aa792729e5d"
      },
      "execution_count": 62,
      "outputs": [
        {
          "output_type": "stream",
          "name": "stdout",
          "text": [
            "epoch 0: loss 27.2724\n",
            "epoch 10: loss 26.6480\n",
            "epoch 20: loss 26.0484\n",
            "epoch 30: loss 25.4727\n",
            "epoch 40: loss 24.9193\n",
            "epoch 50: loss 24.3772\n",
            "epoch 60: loss 23.8444\n",
            "epoch 70: loss 23.3177\n",
            "epoch 80: loss 22.7949\n",
            "epoch 90: loss 22.2743\n"
          ]
        }
      ]
    },
    {
      "cell_type": "markdown",
      "source": [
        "ActiveSGD"
      ],
      "metadata": {
        "id": "OsBgmO8jRoai"
      }
    },
    {
      "cell_type": "code",
      "source": [
        "hidden_size = 20\n",
        "lr = 0.001\n",
        "model = NN(a, hidden_size)\n",
        "optim = ActiveSGD(model.parameters(), 1, lr=lr, lrHigh=2., lrLow=0.5)\n",
        "loss_fn = torch.nn.MSELoss()"
      ],
      "metadata": {
        "id": "Msfw-K13Rp0g"
      },
      "execution_count": 63,
      "outputs": []
    },
    {
      "cell_type": "code",
      "source": [
        "epoch = 100\n",
        "mask = a >= 0\n",
        "for ep in range(epoch):\n",
        "  a_hat = model()\n",
        "  loss = loss_fn(a_hat[mask], a[mask])\n",
        "  loss.backward()\n",
        "  optim.step()\n",
        "  optim.zero_grad()\n",
        "  if ep%10==0:\n",
        "    print(f'epoch {ep}: loss {loss.detach().item():0.4f}')"
      ],
      "metadata": {
        "id": "iJYADpLCRpwE",
        "outputId": "991a1421-14e3-435c-b417-66699c757788",
        "colab": {
          "base_uri": "https://localhost:8080/"
        }
      },
      "execution_count": 64,
      "outputs": [
        {
          "output_type": "stream",
          "name": "stdout",
          "text": [
            "epoch 0: loss 25.9642\n",
            "epoch 10: loss 21.8671\n",
            "epoch 20: loss 8.9271\n",
            "epoch 30: loss 2.8119\n",
            "epoch 40: loss 0.4167\n",
            "epoch 50: loss 0.2853\n",
            "epoch 60: loss 0.1742\n",
            "epoch 70: loss 0.0756\n",
            "epoch 80: loss 0.0228\n",
            "epoch 90: loss 0.0072\n"
          ]
        }
      ]
    },
    {
      "cell_type": "code",
      "source": [
        "with torch.no_grad():\n",
        "  a_hat = model()\n",
        "a_hat"
      ],
      "metadata": {
        "colab": {
          "base_uri": "https://localhost:8080/"
        },
        "id": "d6oy0tU0zrcy",
        "outputId": "da27d58e-938d-4417-dd4e-46a46fbf4913"
      },
      "execution_count": 65,
      "outputs": [
        {
          "output_type": "execute_result",
          "data": {
            "text/plain": [
              "tensor([[0.9897, 3.7320],\n",
              "        [2.0361, 6.0216],\n",
              "        [3.0824, 6.9881],\n",
              "        [3.9730, 8.0825]])"
            ]
          },
          "metadata": {},
          "execution_count": 65
        }
      ]
    },
    {
      "cell_type": "code",
      "source": [
        "a"
      ],
      "metadata": {
        "colab": {
          "base_uri": "https://localhost:8080/"
        },
        "id": "ssefhAwyzv2J",
        "outputId": "0dade13b-a064-4ea1-8d28-bc45fe6aca56"
      },
      "execution_count": 66,
      "outputs": [
        {
          "output_type": "execute_result",
          "data": {
            "text/plain": [
              "tensor([[ 1., -1.],\n",
              "        [ 2.,  6.],\n",
              "        [ 3.,  7.],\n",
              "        [ 4.,  8.]])"
            ]
          },
          "metadata": {},
          "execution_count": 66
        }
      ]
    },
    {
      "cell_type": "code",
      "source": [],
      "metadata": {
        "id": "RI84-Gja8sVq"
      },
      "execution_count": null,
      "outputs": []
    }
  ]
}