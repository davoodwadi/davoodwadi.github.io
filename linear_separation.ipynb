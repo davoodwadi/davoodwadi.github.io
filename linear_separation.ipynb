{
  "nbformat": 4,
  "nbformat_minor": 0,
  "metadata": {
    "colab": {
      "provenance": [],
      "authorship_tag": "ABX9TyPyVSWi7kvDc8+s5rB+uIk5",
      "include_colab_link": true
    },
    "kernelspec": {
      "name": "python3",
      "display_name": "Python 3"
    },
    "language_info": {
      "name": "python"
    }
  },
  "cells": [
    {
      "cell_type": "markdown",
      "metadata": {
        "id": "view-in-github",
        "colab_type": "text"
      },
      "source": [
        "<a href=\"https://colab.research.google.com/github/davoodwadi/davoodwadi.github.io/blob/main/linear_separation.ipynb\" target=\"_parent\"><img src=\"https://colab.research.google.com/assets/colab-badge.svg\" alt=\"Open In Colab\"/></a>"
      ]
    },
    {
      "cell_type": "code",
      "execution_count": 122,
      "metadata": {
        "id": "d5d4U_A8eM7c"
      },
      "outputs": [],
      "source": [
        "import torch\n",
        "from torch import nn\n",
        "import matplotlib.pyplot as plt\n",
        "import numpy as np"
      ]
    },
    {
      "cell_type": "code",
      "source": [
        "data = torch.arange(n)\n",
        "np.random.choice(data, n)"
      ],
      "metadata": {
        "colab": {
          "base_uri": "https://localhost:8080/"
        },
        "id": "dZQkYQACtOTY",
        "outputId": "8b87bf70-a880-434d-8bae-64d8a11ce2f4"
      },
      "execution_count": 124,
      "outputs": [
        {
          "output_type": "execute_result",
          "data": {
            "text/plain": [
              "array([ 4, 13, 11,  1, 13,  5, 14, 14, 13, 17,  4,  4,  7, 17,  1, 12,  0,\n",
              "        7, 11,  6])"
            ]
          },
          "metadata": {},
          "execution_count": 124
        }
      ]
    },
    {
      "cell_type": "code",
      "source": [
        "n = 20\n",
        "data = torch.arange(n)\n",
        "data = torch.tensor(np.random.choice(data, n)).view(-1,1).float()\n",
        "x = data[1:]\n",
        "yLin = x * 2\n",
        "yAR = [(data[i-1]) for i in range(1, n)]\n",
        "yAR = torch.tensor(yAR).view(-1,1).float()\n",
        "\n",
        "x_train = x[:7]\n",
        "x_test = x[7:]\n",
        "yLin_train = yLin[:7]\n",
        "yLin_test = yLin[7:]\n",
        "yAR_train = yAR[:7]\n",
        "yAR_test = yAR[7:]\n",
        "\n",
        "plt.scatter(x_train, yLin_train, color='green', label='Linear train')\n",
        "plt.scatter(x_test, yLin_test, color='green', label='Linear test', marker='*')\n",
        "plt.scatter(x_train, yAR_train, color='red', label='Auto-regressive train')\n",
        "plt.scatter(x_test, yAR_test, color='red', label='Auto-regressive test', marker='*')\n",
        "plt.legend()"
      ],
      "metadata": {
        "colab": {
          "base_uri": "https://localhost:8080/",
          "height": 448
        },
        "id": "-i0IzDvKeY1u",
        "outputId": "76045811-386e-46ca-b6c4-aaf7244343e1"
      },
      "execution_count": 125,
      "outputs": [
        {
          "output_type": "execute_result",
          "data": {
            "text/plain": [
              "<matplotlib.legend.Legend at 0x7afea3039d50>"
            ]
          },
          "metadata": {},
          "execution_count": 125
        },
        {
          "output_type": "display_data",
          "data": {
            "text/plain": [
              "<Figure size 640x480 with 1 Axes>"
            ],
            "image/png": "[encoded data removed]"
          },
          "metadata": {}
        }
      ]
    },
    {
      "cell_type": "code",
      "source": [
        "x, yAR"
      ],
      "metadata": {
        "colab": {
          "base_uri": "https://localhost:8080/"
        },
        "id": "wQDfIDVAr_x0",
        "outputId": "95da0cd4-b2dd-4414-f7b3-5e1bb802e7d2"
      },
      "execution_count": 128,
      "outputs": [
        {
          "output_type": "execute_result",
          "data": {
            "text/plain": [
              "(tensor([[ 5.],\n",
              "         [13.],\n",
              "         [ 2.],\n",
              "         [10.],\n",
              "         [13.],\n",
              "         [ 0.],\n",
              "         [ 4.],\n",
              "         [ 7.],\n",
              "         [10.],\n",
              "         [ 0.],\n",
              "         [ 9.],\n",
              "         [ 6.],\n",
              "         [15.],\n",
              "         [16.],\n",
              "         [14.],\n",
              "         [ 8.],\n",
              "         [16.],\n",
              "         [10.],\n",
              "         [ 8.]]),\n",
              " tensor([[ 3.],\n",
              "         [ 5.],\n",
              "         [13.],\n",
              "         [ 2.],\n",
              "         [10.],\n",
              "         [13.],\n",
              "         [ 0.],\n",
              "         [ 4.],\n",
              "         [ 7.],\n",
              "         [10.],\n",
              "         [ 0.],\n",
              "         [ 9.],\n",
              "         [ 6.],\n",
              "         [15.],\n",
              "         [16.],\n",
              "         [14.],\n",
              "         [ 8.],\n",
              "         [16.],\n",
              "         [10.]]))"
            ]
          },
          "metadata": {},
          "execution_count": 128
        }
      ]
    },
    {
      "cell_type": "code",
      "source": [
        "class LinearModel(nn.Module):\n",
        "  def __init__(self, ):\n",
        "    super(LinearModel, self).__init__()\n",
        "\n",
        "    self.fc = nn.Linear(1, 1)\n",
        "\n",
        "  def forward(self, x):\n",
        "    out = self.fc(x)\n",
        "    return out"
      ],
      "metadata": {
        "id": "997hQ6-cfmjM"
      },
      "execution_count": 129,
      "outputs": []
    },
    {
      "cell_type": "code",
      "source": [
        "linmodel = LinearModel()\n",
        "out = linmodel(x_train)\n",
        "out"
      ],
      "metadata": {
        "colab": {
          "base_uri": "https://localhost:8080/"
        },
        "id": "WdXdnldghL0I",
        "outputId": "31d9fb78-df52-414e-d22c-f95abac93c47"
      },
      "execution_count": 130,
      "outputs": [
        {
          "output_type": "execute_result",
          "data": {
            "text/plain": [
              "tensor([[-2.0616],\n",
              "        [-6.6569],\n",
              "        [-0.3384],\n",
              "        [-4.9337],\n",
              "        [-6.6569],\n",
              "        [ 0.8104],\n",
              "        [-1.4872]], grad_fn=<AddmmBackward0>)"
            ]
          },
          "metadata": {},
          "execution_count": 130
        }
      ]
    },
    {
      "cell_type": "code",
      "source": [
        "linmodel.fc.weight"
      ],
      "metadata": {
        "colab": {
          "base_uri": "https://localhost:8080/"
        },
        "id": "aFeyVVdghau0",
        "outputId": "47ea5ecf-b12a-46fa-885f-4376806a8cbd"
      },
      "execution_count": 131,
      "outputs": [
        {
          "output_type": "execute_result",
          "data": {
            "text/plain": [
              "Parameter containing:\n",
              "tensor([[-0.5744]], requires_grad=True)"
            ]
          },
          "metadata": {},
          "execution_count": 131
        }
      ]
    },
    {
      "cell_type": "code",
      "source": [
        "optimizer = torch.optim.SGD(linmodel.parameters(), lr=0.01)\n",
        "loss_fn = nn.MSELoss()\n",
        "for e in range(10):\n",
        "  out = linmodel(x_train)\n",
        "  loss = loss_fn(out, yLin_train)\n",
        "  loss.backward()\n",
        "  optimizer.step()\n",
        "  optimizer.zero_grad()\n",
        "  print(f'w: {linmodel.fc.weight.detach().item():.2f}, loss: {loss.detach().item():.2f}')"
      ],
      "metadata": {
        "colab": {
          "base_uri": "https://localhost:8080/"
        },
        "id": "LJjGnj1rhq9_",
        "outputId": "c4b0e21d-f493-4231-9cc2-8481bb75d6cd"
      },
      "execution_count": 132,
      "outputs": [
        {
          "output_type": "stream",
          "name": "stdout",
          "text": [
            "w: 2.87, loss: 429.94\n",
            "w: 1.52, loss: 66.77\n",
            "w: 2.05, loss: 10.63\n",
            "w: 1.84, loss: 1.95\n",
            "w: 1.92, loss: 0.61\n",
            "w: 1.89, loss: 0.40\n",
            "w: 1.91, loss: 0.36\n",
            "w: 1.90, loss: 0.35\n",
            "w: 1.90, loss: 0.34\n",
            "w: 1.90, loss: 0.34\n"
          ]
        }
      ]
    },
    {
      "cell_type": "code",
      "source": [
        "yLin_train, out"
      ],
      "metadata": {
        "colab": {
          "base_uri": "https://localhost:8080/"
        },
        "id": "ilhBGHyeh_SD",
        "outputId": "092ca9b5-afd4-4023-e121-77712630f65e"
      },
      "execution_count": 134,
      "outputs": [
        {
          "output_type": "execute_result",
          "data": {
            "text/plain": [
              "(tensor([[10.],\n",
              "         [26.],\n",
              "         [ 4.],\n",
              "         [20.],\n",
              "         [26.],\n",
              "         [ 0.],\n",
              "         [ 8.]]),\n",
              " tensor([[10.5082],\n",
              "         [25.7389],\n",
              "         [ 4.7966],\n",
              "         [20.0274],\n",
              "         [25.7389],\n",
              "         [ 0.9889],\n",
              "         [ 8.6043]], grad_fn=<AddmmBackward0>))"
            ]
          },
          "metadata": {},
          "execution_count": 134
        }
      ]
    },
    {
      "cell_type": "markdown",
      "source": [
        "Train on AR data"
      ],
      "metadata": {
        "id": "y-6awadcihWU"
      }
    },
    {
      "cell_type": "code",
      "source": [
        "linmodel = LinearModel()\n",
        "out = linmodel(x_train)\n",
        "out"
      ],
      "metadata": {
        "colab": {
          "base_uri": "https://localhost:8080/"
        },
        "id": "vjr1B19piah8",
        "outputId": "95f19827-0d65-46bf-f158-68a819ef0e5c"
      },
      "execution_count": 135,
      "outputs": [
        {
          "output_type": "execute_result",
          "data": {
            "text/plain": [
              "tensor([[3.3852],\n",
              "        [8.7801],\n",
              "        [1.3621],\n",
              "        [6.7570],\n",
              "        [8.7801],\n",
              "        [0.0134],\n",
              "        [2.7108]], grad_fn=<AddmmBackward0>)"
            ]
          },
          "metadata": {},
          "execution_count": 135
        }
      ]
    },
    {
      "cell_type": "code",
      "source": [
        "linmodel.fc.weight"
      ],
      "metadata": {
        "colab": {
          "base_uri": "https://localhost:8080/"
        },
        "id": "pjWTkNs_ikFx",
        "outputId": "89d19c30-9cea-4b60-f7e8-cfb84b36addc"
      },
      "execution_count": 136,
      "outputs": [
        {
          "output_type": "execute_result",
          "data": {
            "text/plain": [
              "Parameter containing:\n",
              "tensor([[0.6744]], requires_grad=True)"
            ]
          },
          "metadata": {},
          "execution_count": 136
        }
      ]
    },
    {
      "cell_type": "code",
      "source": [
        "optimizer = torch.optim.SGD(linmodel.parameters(), lr=0.01)\n",
        "loss_fn = nn.MSELoss()\n",
        "for e in range(10000):\n",
        "  out = linmodel(x_train)\n",
        "  loss = loss_fn(out, yAR_train)\n",
        "  loss.backward()\n",
        "  optimizer.step()\n",
        "  optimizer.zero_grad()\n",
        "  if e%1000==0: print(f'w: {linmodel.fc.weight.detach().item():.2f}, loss: {loss.detach().item():.2f}')"
      ],
      "metadata": {
        "colab": {
          "base_uri": "https://localhost:8080/"
        },
        "id": "e4c003rYioQH",
        "outputId": "12cba915-3adf-4d42-bf2e-83be58249f74"
      },
      "execution_count": 138,
      "outputs": [
        {
          "output_type": "stream",
          "name": "stdout",
          "text": [
            "w: 0.11, loss: 29.03\n",
            "w: -0.32, loss: 22.43\n",
            "w: -0.32, loss: 22.43\n",
            "w: -0.32, loss: 22.43\n",
            "w: -0.32, loss: 22.43\n",
            "w: -0.32, loss: 22.43\n",
            "w: -0.32, loss: 22.43\n",
            "w: -0.32, loss: 22.43\n",
            "w: -0.32, loss: 22.43\n",
            "w: -0.32, loss: 22.43\n"
          ]
        }
      ]
    },
    {
      "cell_type": "markdown",
      "source": [
        "test set performance"
      ],
      "metadata": {
        "id": "sDLf5Ogei3Ud"
      }
    },
    {
      "cell_type": "code",
      "source": [
        "with torch.no_grad():\n",
        "  out = linmodel(x_test)\n",
        "out, yAR_test"
      ],
      "metadata": {
        "colab": {
          "base_uri": "https://localhost:8080/"
        },
        "id": "MUyyqXxbiqlO",
        "outputId": "7660c251-dc98-4651-efe4-5aff600408a8"
      },
      "execution_count": 139,
      "outputs": [
        {
          "output_type": "execute_result",
          "data": {
            "text/plain": [
              "(tensor([[6.4812],\n",
              "         [5.5341],\n",
              "         [8.6911],\n",
              "         [5.8498],\n",
              "         [6.7969],\n",
              "         [3.9557],\n",
              "         [3.6400],\n",
              "         [4.2714],\n",
              "         [6.1655],\n",
              "         [3.6400],\n",
              "         [5.5341],\n",
              "         [6.1655]]),\n",
              " tensor([[ 4.],\n",
              "         [ 7.],\n",
              "         [10.],\n",
              "         [ 0.],\n",
              "         [ 9.],\n",
              "         [ 6.],\n",
              "         [15.],\n",
              "         [16.],\n",
              "         [14.],\n",
              "         [ 8.],\n",
              "         [16.],\n",
              "         [10.]]))"
            ]
          },
          "metadata": {},
          "execution_count": 139
        }
      ]
    },
    {
      "cell_type": "code",
      "source": [
        "plt.scatter(x_test, yAR_test, color='green', label='Ground truth')\n",
        "plt.scatter(x_test, out, color='red', label='Predicted')\n",
        "plt.legend()"
      ],
      "metadata": {
        "colab": {
          "base_uri": "https://localhost:8080/",
          "height": 448
        },
        "id": "BgMgwXrRjC_F",
        "outputId": "a3aaabd3-ce19-4747-fa63-ec8bafe3ed66"
      },
      "execution_count": 140,
      "outputs": [
        {
          "output_type": "execute_result",
          "data": {
            "text/plain": [
              "<matplotlib.legend.Legend at 0x7afea2dd9720>"
            ]
          },
          "metadata": {},
          "execution_count": 140
        },
        {
          "output_type": "display_data",
          "data": {
            "text/plain": [
              "<Figure size 640x480 with 1 Axes>"
            ],
            "image/png": "[encoded data removed]"
          },
          "metadata": {}
        }
      ]
    },
    {
      "cell_type": "code",
      "source": [
        "class LinearModel(nn.Module):\n",
        "  def __init__(self, ):\n",
        "    super(LinearModel, self).__init__()\n",
        "\n",
        "    self.fc1 = nn.Linear(1, 10)\n",
        "    self.relu = nn.ReLU()\n",
        "    self.fc2 = nn.Linear(10, 1)\n",
        "\n",
        "  def forward(self, x):\n",
        "    x = self.fc1(x)\n",
        "    x = self.relu(x)\n",
        "    out = self.fc2(x)\n",
        "    return out"
      ],
      "metadata": {
        "id": "gyAzZm0YjVcM"
      },
      "execution_count": 141,
      "outputs": []
    },
    {
      "cell_type": "code",
      "source": [
        "linmodel = LinearModel()\n",
        "optimizer = torch.optim.SGD(linmodel.parameters(), lr=0.01)\n",
        "loss_fn = nn.MSELoss()\n",
        "for e in range(10000):\n",
        "  out = linmodel(x_train)\n",
        "  loss = loss_fn(out, yAR_train)\n",
        "  loss.backward()\n",
        "  optimizer.step()\n",
        "  optimizer.zero_grad()\n",
        "  if e%1000==0: print(f'loss: {loss.detach().item():.2f}')"
      ],
      "metadata": {
        "colab": {
          "base_uri": "https://localhost:8080/"
        },
        "id": "T5jjEQb2jpgT",
        "outputId": "2d5ef517-bca2-4b70-d376-1fd8dd78f807"
      },
      "execution_count": 193,
      "outputs": [
        {
          "output_type": "stream",
          "name": "stdout",
          "text": [
            "loss: 58.04\n",
            "loss: 3.58\n",
            "loss: 3.46\n",
            "loss: 3.46\n",
            "loss: 3.46\n",
            "loss: 3.46\n",
            "loss: 3.46\n",
            "loss: 3.46\n",
            "loss: 3.46\n",
            "loss: 3.46\n"
          ]
        }
      ]
    },
    {
      "cell_type": "code",
      "source": [
        "with torch.no_grad():\n",
        "  out = linmodel(x_train)\n",
        "out, yAR_train"
      ],
      "metadata": {
        "colab": {
          "base_uri": "https://localhost:8080/"
        },
        "id": "b8BqRjwPj03X",
        "outputId": "846d660b-f1a9-4f4f-dd2b-6483ec7cefe5"
      },
      "execution_count": 194,
      "outputs": [
        {
          "output_type": "execute_result",
          "data": {
            "text/plain": [
              "(tensor([[ 1.2973],\n",
              "         [ 6.7027],\n",
              "         [13.0000],\n",
              "         [ 4.6757],\n",
              "         [ 6.7027],\n",
              "         [13.0000],\n",
              "         [ 0.6216]]),\n",
              " tensor([[ 3.],\n",
              "         [ 5.],\n",
              "         [13.],\n",
              "         [ 2.],\n",
              "         [10.],\n",
              "         [13.],\n",
              "         [ 0.]]))"
            ]
          },
          "metadata": {},
          "execution_count": 194
        }
      ]
    },
    {
      "cell_type": "code",
      "source": [
        "plt.scatter(x_train, yAR_train, color='green', label='Ground truth')\n",
        "plt.scatter(x_train, out, color='red', label='Predicted')\n",
        "plt.legend()"
      ],
      "metadata": {
        "colab": {
          "base_uri": "https://localhost:8080/",
          "height": 448
        },
        "id": "CVlHMgTAkB4O",
        "outputId": "a6bcd23f-7654-49a6-f146-affcc9cbb8f5"
      },
      "execution_count": 195,
      "outputs": [
        {
          "output_type": "execute_result",
          "data": {
            "text/plain": [
              "<matplotlib.legend.Legend at 0x7afea2647700>"
            ]
          },
          "metadata": {},
          "execution_count": 195
        },
        {
          "output_type": "display_data",
          "data": {
            "text/plain": [
              "<Figure size 640x480 with 1 Axes>"
            ],
            "image/png": "[encoded data removed]"
          },
          "metadata": {}
        }
      ]
    },
    {
      "cell_type": "code",
      "source": [
        "with torch.no_grad():\n",
        "  out_testlin = linmodel(x_test)\n",
        "out_testlin, yAR_test"
      ],
      "metadata": {
        "colab": {
          "base_uri": "https://localhost:8080/"
        },
        "id": "GENF7Un1yq7E",
        "outputId": "82ae8484-55cb-4a11-ad7a-d8d7cdd0f617"
      },
      "execution_count": 229,
      "outputs": [
        {
          "output_type": "execute_result",
          "data": {
            "text/plain": [
              "(tensor([[ 2.6487],\n",
              "         [ 4.6757],\n",
              "         [13.0000],\n",
              "         [ 4.0000],\n",
              "         [ 1.9730],\n",
              "         [ 8.0540],\n",
              "         [ 8.7297],\n",
              "         [ 7.3784],\n",
              "         [ 3.3243],\n",
              "         [ 8.7297],\n",
              "         [ 4.6757],\n",
              "         [ 3.3243]]),\n",
              " tensor([[ 4.],\n",
              "         [ 7.],\n",
              "         [10.],\n",
              "         [ 0.],\n",
              "         [ 9.],\n",
              "         [ 6.],\n",
              "         [15.],\n",
              "         [16.],\n",
              "         [14.],\n",
              "         [ 8.],\n",
              "         [16.],\n",
              "         [10.]]))"
            ]
          },
          "metadata": {},
          "execution_count": 229
        }
      ]
    },
    {
      "cell_type": "code",
      "source": [
        "plt.scatter(x_test, yAR_test, color='green', label='Ground truth')\n",
        "plt.scatter(x_test, out, color='red', label='Predicted')\n",
        "plt.legend()"
      ],
      "metadata": {
        "colab": {
          "base_uri": "https://localhost:8080/",
          "height": 448
        },
        "id": "2t8uJMrcyxbZ",
        "outputId": "10201cca-1b9a-424a-8e1d-428eee30db3f"
      },
      "execution_count": 197,
      "outputs": [
        {
          "output_type": "execute_result",
          "data": {
            "text/plain": [
              "<matplotlib.legend.Legend at 0x7afea3837670>"
            ]
          },
          "metadata": {},
          "execution_count": 197
        },
        {
          "output_type": "display_data",
          "data": {
            "text/plain": [
              "<Figure size 640x480 with 1 Axes>"
            ],
            "image/png": "[encoded data removed]"
          },
          "metadata": {}
        }
      ]
    },
    {
      "cell_type": "code",
      "source": [
        "class SequenceModel(nn.Module):\n",
        "  def __init__(self, ):\n",
        "    super(SequenceModel, self).__init__()\n",
        "    self.hidden_size = 10\n",
        "    self.sequence_length = 2\n",
        "    self.rnn = nn.RNN(1, hidden_size=self.hidden_size, batch_first=True)\n",
        "    # self.fc = nn.Linear(self.hidden_size * self.sequence_length, 1)\n",
        "    self.fc = nn.Linear(self.hidden_size, 1)\n",
        "\n",
        "  def forward(self, x):\n",
        "    out, _ = self.rnn(x)\n",
        "    # out.shape: [bs, seq_length, hidden_size]\n",
        "    out = self.fc(out[:, -2, :])\n",
        "    # out = self.fc(out.contiguous().view(x.shape[0], self.sequence_length * self.hidden_size))\n",
        "    return out"
      ],
      "metadata": {
        "id": "a8jWeLIokE7H"
      },
      "execution_count": 264,
      "outputs": []
    },
    {
      "cell_type": "code",
      "source": [
        "seq_length = 2\n",
        "x_seq = []\n",
        "y_seq = []\n",
        "for i in range(x.shape[0]-seq_length):\n",
        "  x_seq.append(x[i:i+seq_length])\n",
        "  y_seq.append(yAR[i+seq_length-1])\n",
        "x_seq = torch.stack(x_seq)\n",
        "y_seq = torch.stack(y_seq)\n",
        "x_seq.shape, y_seq.shape"
      ],
      "metadata": {
        "colab": {
          "base_uri": "https://localhost:8080/"
        },
        "id": "4IDlh_1Hl_2z",
        "outputId": "5ced74f5-3712-433f-f6c8-79bf851153f8"
      },
      "execution_count": 265,
      "outputs": [
        {
          "output_type": "execute_result",
          "data": {
            "text/plain": [
              "(torch.Size([17, 2, 1]), torch.Size([17, 1]))"
            ]
          },
          "metadata": {},
          "execution_count": 265
        }
      ]
    },
    {
      "cell_type": "code",
      "source": [
        "x_seq[2], y_seq[2]"
      ],
      "metadata": {
        "colab": {
          "base_uri": "https://localhost:8080/"
        },
        "id": "3DlNP8_8m3L-",
        "outputId": "3019a235-5615-4081-9a1d-bda011d22b68"
      },
      "execution_count": 266,
      "outputs": [
        {
          "output_type": "execute_result",
          "data": {
            "text/plain": [
              "(tensor([[ 2.],\n",
              "         [10.]]),\n",
              " tensor([2.]))"
            ]
          },
          "metadata": {},
          "execution_count": 266
        }
      ]
    },
    {
      "cell_type": "code",
      "source": [
        "x_seq_train = x_seq[:5]\n",
        "x_seq_test = x_seq[5:]\n",
        "\n",
        "y_seq_train = y_seq[:5]\n",
        "y_seq_test = y_seq[5:]"
      ],
      "metadata": {
        "id": "kB9z-C9fnZjA"
      },
      "execution_count": 267,
      "outputs": []
    },
    {
      "cell_type": "code",
      "source": [
        "seq_model = SequenceModel()\n",
        "\n",
        "optimizer = torch.optim.SGD(seq_model.parameters(), lr=0.01)\n",
        "\n",
        "for e in range(10000):\n",
        "  out = seq_model(x_seq_train)\n",
        "  loss = loss_fn(out, y_seq_train)\n",
        "  loss.backward()\n",
        "  optimizer.step()\n",
        "  optimizer.zero_grad()\n",
        "\n",
        "  if e%1000==0: print(f'loss: {loss.detach().item():.2f}')"
      ],
      "metadata": {
        "colab": {
          "base_uri": "https://localhost:8080/"
        },
        "id": "s3dAWnzxloG7",
        "outputId": "a7b6a880-f2e0-428d-ae1a-3c3d736c48ed"
      },
      "execution_count": 275,
      "outputs": [
        {
          "output_type": "stream",
          "name": "stdout",
          "text": [
            "loss: 72.52\n",
            "loss: 0.32\n",
            "loss: 0.19\n",
            "loss: 0.08\n",
            "loss: 0.02\n",
            "loss: 0.00\n",
            "loss: 0.00\n",
            "loss: 0.00\n",
            "loss: 0.00\n",
            "loss: 0.00\n"
          ]
        }
      ]
    },
    {
      "cell_type": "code",
      "source": [
        "with torch.no_grad():\n",
        "  out = seq_model(x_seq_train)\n",
        "out, y_seq_train"
      ],
      "metadata": {
        "colab": {
          "base_uri": "https://localhost:8080/"
        },
        "id": "0i_MtdTgoxCM",
        "outputId": "3408d22c-112f-46a1-add5-f2590a1b0c1e"
      },
      "execution_count": 276,
      "outputs": [
        {
          "output_type": "execute_result",
          "data": {
            "text/plain": [
              "(tensor([[ 4.9995],\n",
              "         [12.9988],\n",
              "         [ 1.9998],\n",
              "         [ 9.9979],\n",
              "         [12.9988]]),\n",
              " tensor([[ 5.],\n",
              "         [13.],\n",
              "         [ 2.],\n",
              "         [10.],\n",
              "         [13.]]))"
            ]
          },
          "metadata": {},
          "execution_count": 276
        }
      ]
    },
    {
      "cell_type": "code",
      "source": [
        "seq_model.rnn.weight_ih_l0.shape, seq_model.rnn.weight_hh_l0.shape"
      ],
      "metadata": {
        "colab": {
          "base_uri": "https://localhost:8080/"
        },
        "id": "Zy6oerwbpTEd",
        "outputId": "8c2c0a31-ba47-4522-c72c-5452912d1a6d"
      },
      "execution_count": 277,
      "outputs": [
        {
          "output_type": "execute_result",
          "data": {
            "text/plain": [
              "(torch.Size([10, 1]), torch.Size([10, 10]))"
            ]
          },
          "metadata": {},
          "execution_count": 277
        }
      ]
    },
    {
      "cell_type": "code",
      "source": [
        "plt.scatter(x_train[:-2], y_seq_train, color='green', label='Ground truth')\n",
        "plt.scatter(x_train[:-2], out, color='red', label='Predicted')\n",
        "plt.legend()"
      ],
      "metadata": {
        "colab": {
          "base_uri": "https://localhost:8080/",
          "height": 448
        },
        "id": "SoJwYrrvpyWD",
        "outputId": "eeedf951-b91f-47fe-a0db-e24e8a989683"
      },
      "execution_count": 278,
      "outputs": [
        {
          "output_type": "execute_result",
          "data": {
            "text/plain": [
              "<matplotlib.legend.Legend at 0x7afea1eecf40>"
            ]
          },
          "metadata": {},
          "execution_count": 278
        },
        {
          "output_type": "display_data",
          "data": {
            "text/plain": [
              "<Figure size 640x480 with 1 Axes>"
            ],
            "image/png": "[encoded data removed]"
          },
          "metadata": {}
        }
      ]
    },
    {
      "cell_type": "code",
      "source": [
        "with torch.no_grad():\n",
        "  out_testRNN = seq_model(x_seq_test)\n",
        "out_testRNN, y_seq_test"
      ],
      "metadata": {
        "colab": {
          "base_uri": "https://localhost:8080/"
        },
        "id": "Xj8urAf8wMen",
        "outputId": "e16df587-d8e1-4cb7-c84c-cacd7a8dc0ea"
      },
      "execution_count": 279,
      "outputs": [
        {
          "output_type": "execute_result",
          "data": {
            "text/plain": [
              "(tensor([[-0.3538],\n",
              "         [ 4.0694],\n",
              "         [ 6.7783],\n",
              "         [ 9.9979],\n",
              "         [-0.3538],\n",
              "         [ 8.7896],\n",
              "         [ 5.8890],\n",
              "         [13.6075],\n",
              "         [13.7195],\n",
              "         [13.3962],\n",
              "         [ 7.7244],\n",
              "         [13.7195]]),\n",
              " tensor([[ 0.],\n",
              "         [ 4.],\n",
              "         [ 7.],\n",
              "         [10.],\n",
              "         [ 0.],\n",
              "         [ 9.],\n",
              "         [ 6.],\n",
              "         [15.],\n",
              "         [16.],\n",
              "         [14.],\n",
              "         [ 8.],\n",
              "         [16.]]))"
            ]
          },
          "metadata": {},
          "execution_count": 279
        }
      ]
    },
    {
      "cell_type": "code",
      "source": [
        "plt.scatter(x_test, y_seq_test, color='green', label='Ground truth')\n",
        "plt.scatter(x_test, out_testRNN, color='red', label='Predicted')\n",
        "plt.legend()"
      ],
      "metadata": {
        "colab": {
          "base_uri": "https://localhost:8080/",
          "height": 448
        },
        "id": "610iQBwQySnY",
        "outputId": "4583feec-5518-4317-ed9f-b5d5434443f6"
      },
      "execution_count": 280,
      "outputs": [
        {
          "output_type": "execute_result",
          "data": {
            "text/plain": [
              "<matplotlib.legend.Legend at 0x7afea1a1a380>"
            ]
          },
          "metadata": {},
          "execution_count": 280
        },
        {
          "output_type": "display_data",
          "data": {
            "text/plain": [
              "<Figure size 640x480 with 1 Axes>"
            ],
            "image/png": "[encoded data removed]"
          },
          "metadata": {}
        }
      ]
    },
    {
      "cell_type": "code",
      "source": [
        "fig, axes = plt.subplots(1,2, figsize=(10, 6))\n",
        "for ax, output in zip(axes.flat, [out_testlin, out_testRNN]):\n",
        "  ax.scatter(x_test, y_seq_test, color='green', label='Ground truth')\n",
        "  ax.scatter(x_test, output, color='red', label='Predicted')\n",
        "  ax.legend()"
      ],
      "metadata": {
        "colab": {
          "base_uri": "https://localhost:8080/",
          "height": 522
        },
        "id": "TfKsa2xcyem5",
        "outputId": "807f5390-8c34-4d40-ab90-3907430b2670"
      },
      "execution_count": 281,
      "outputs": [
        {
          "output_type": "display_data",
          "data": {
            "text/plain": [
              "<Figure size 1000x600 with 2 Axes>"
            ],
            "image/png": "[encoded data removed]"
          },
          "metadata": {}
        }
      ]
    },
    {
      "cell_type": "code",
      "source": [],
      "metadata": {
        "id": "F8r5ixiy1OGr"
      },
      "execution_count": 247,
      "outputs": []
    }
  ]
}