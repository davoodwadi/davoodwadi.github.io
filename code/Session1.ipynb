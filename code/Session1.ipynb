{
 "cells": [
  {
   "cell_type": "markdown",
   "id": "d1b48b01",
   "metadata": {},
   "source": [
    "# Python Basics"
   ]
  },
  {
   "cell_type": "code",
   "execution_count": 27,
   "id": "b5dd09de",
   "metadata": {},
   "outputs": [],
   "source": [
    "#| echo: false\n",
    "\n",
    "import warnings\n",
    "warnings.filterwarnings(\"ignore\")"
   ]
  },
  {
   "cell_type": "markdown",
   "id": "284f134e",
   "metadata": {},
   "source": [
    "## Loading necessary packages\n",
    "To start let's load `NumPy`, a package for scientific computing with Python. We usually load it as the `np` shorthand."
   ]
  },
  {
   "cell_type": "code",
   "execution_count": 1,
   "id": "fff8ebe3",
   "metadata": {},
   "outputs": [],
   "source": [
    "import numpy as np"
   ]
  },
  {
   "cell_type": "markdown",
   "id": "4621eb05-71ed-4b9f-969f-aee23cdba6c3",
   "metadata": {},
   "source": [
    "Let's initialize two arrays"
   ]
  },
  {
   "cell_type": "code",
   "execution_count": 2,
   "id": "2e18eb84",
   "metadata": {},
   "outputs": [],
   "source": [
    "a = np.random.randn(1,5)\n",
    "b = np.random.randn(1,5)"
   ]
  },
  {
   "cell_type": "markdown",
   "id": "e079bb3d",
   "metadata": {},
   "source": [
    "## Dot product\n",
    "To perform a dot product of two arrays, the `shape` of the arrays should match. Let's get the shape of our arrays."
   ]
  },
  {
   "cell_type": "code",
   "execution_count": 3,
   "id": "c34c30e7",
   "metadata": {},
   "outputs": [
    {
     "data": {
      "text/plain": [
       "((1, 5), (1, 5))"
      ]
     },
     "execution_count": 3,
     "metadata": {},
     "output_type": "execute_result"
    }
   ],
   "source": [
    "a.shape, b.shape"
   ]
  },
  {
   "cell_type": "markdown",
   "id": "b5a07332",
   "metadata": {},
   "source": [
    "both arrays have a shape of $(1, 5)$.\n",
    "\n",
    "In general, the shape of the two arrays should be\n",
    "$(n, k) (k, m)$, where $k$ is the common dimension of the two arrays.\n",
    "\n",
    "For our example, we can transpose the array `b` to make the shapes match. The `NumPy` command for transposition of arrays is `.T`."
   ]
  },
  {
   "cell_type": "code",
   "execution_count": 4,
   "id": "9198ae22",
   "metadata": {},
   "outputs": [
    {
     "data": {
      "text/plain": [
       "((1, 5), (5, 1))"
      ]
     },
     "execution_count": 4,
     "metadata": {},
     "output_type": "execute_result"
    }
   ],
   "source": [
    "a.shape, b.T.shape"
   ]
  },
  {
   "cell_type": "markdown",
   "id": "9d90489d",
   "metadata": {},
   "source": [
    "Now that the two arrays have the matching shapes, we can calculate their dot product using the `@` operator."
   ]
  },
  {
   "cell_type": "code",
   "execution_count": 5,
   "id": "1cb16770",
   "metadata": {},
   "outputs": [
    {
     "data": {
      "text/plain": [
       "array([[0.56077435]])"
      ]
     },
     "execution_count": 5,
     "metadata": {},
     "output_type": "execute_result"
    }
   ],
   "source": [
    "a @ b.T"
   ]
  },
  {
   "cell_type": "markdown",
   "id": "700938a0",
   "metadata": {},
   "source": [
    "The result of the dot product is an array of shape $(1,1)$, or a scalar. In general, the result of a dot product has a shape of $(n, m)$"
   ]
  },
  {
   "cell_type": "markdown",
   "id": "e3dd57a4",
   "metadata": {},
   "source": [
    "## Best fit line\n",
    "Let us now simulate a some data and find the **best fit line**, a line that minimizes the average distance of all data points to the line."
   ]
  },
  {
   "cell_type": "markdown",
   "id": "66588895",
   "metadata": {},
   "source": [
    "Here our `X` is a vector of shape $(100, 1)$ samples from a standard normal distribution. Here we have $100$ points with $1$ feature for each point.\n",
    "\n",
    "The `y` is 10 times x, with the shape $(100, 1)$.\n",
    "\n",
    "$$y = X \\cdot coeff$$"
   ]
  },
  {
   "cell_type": "code",
   "execution_count": 11,
   "id": "c559c917",
   "metadata": {},
   "outputs": [
    {
     "data": {
      "text/plain": [
       "(100, 1)"
      ]
     },
     "execution_count": 11,
     "metadata": {},
     "output_type": "execute_result"
    }
   ],
   "source": [
    "X = np.random.randn(100, 1)\n",
    "coeff = np.ones((1, 1)) * 10\n",
    "y = X @ coeff\n",
    "y.shape"
   ]
  },
  {
   "cell_type": "markdown",
   "id": "323ebe29",
   "metadata": {},
   "source": [
    "# Data visualization\n",
    "To visualize the data, we can use [`Matplotlib`](https://en.wikipedia.org/wiki/Matplotlib), which is a python plotting library inspired by `MATLAB`. While `Matplotlib` is a low-level plotting library with a high level of flexibility, for data science and ML applications, we tend to use `seaborn`. \n",
    "\n",
    "`seaborn` is a high-level plotting library that contains many common plots (e.g. `countplot`) as pre-built functions. It also has high compatibility with `pandas` dataframes.\n"
   ]
  },
  {
   "cell_type": "code",
   "execution_count": 22,
   "id": "9c8c1f40",
   "metadata": {},
   "outputs": [],
   "source": [
    "import matplotlib.pyplot as plt\n",
    "import seaborn as sns"
   ]
  },
  {
   "cell_type": "code",
   "execution_count": 26,
   "id": "718a09ec",
   "metadata": {},
   "outputs": [
    {
     "data": {
      "image/png": "[encoded data removed]",
      "text/plain": [
       "<Figure size 640x480 with 1 Axes>"
      ]
     },
     "metadata": {},
     "output_type": "display_data"
    }
   ],
   "source": [
    "#| label: fig-scatterxy\n",
    "#| fig-cap: \"Scatter plot of y against X\"\n",
    "\n",
    "sns.scatterplot(x= X[:,0], y = y[:,0])\n",
    "plt.show()"
   ]
  },
  {
   "cell_type": "markdown",
   "id": "34c3246b",
   "metadata": {},
   "source": [
    "As you can see in the scatter plot @fig-scatterxy, $X$ and $y$ form a perfect line, as we didn't add any noise to our $y$ variable. "
   ]
  },
  {
   "cell_type": "markdown",
   "id": "2a2ba2a8",
   "metadata": {},
   "source": [
    "To find the *best fit line*, we need to find `a` in the following equation:\n",
    "\n",
    "$$y = X \\cdot a$$"
   ]
  },
  {
   "cell_type": "markdown",
   "id": "c47a3784",
   "metadata": {},
   "source": [
    "# Performance measure\n",
    "The "
   ]
  },
  {
   "cell_type": "code",
   "execution_count": 33,
   "id": "719b3cd0",
   "metadata": {},
   "outputs": [],
   "source": [
    "def error_function(y,y_hat):\n",
    "    return ((y - y_hat)**2).mean()"
   ]
  },
  {
   "cell_type": "code",
   "execution_count": 34,
   "id": "739b636c",
   "metadata": {},
   "outputs": [],
   "source": [
    "A = np.random.randn(100)"
   ]
  },
  {
   "cell_type": "code",
   "execution_count": 35,
   "id": "31ace789",
   "metadata": {},
   "outputs": [
    {
     "data": {
      "text/plain": [
       "99.60232836567859"
      ]
     },
     "execution_count": 35,
     "metadata": {},
     "output_type": "execute_result"
    }
   ],
   "source": [
    "y_hat = A*X\n",
    "error = error_function(y,y_hat)\n",
    "error"
   ]
  },
  {
   "cell_type": "code",
   "execution_count": 42,
   "id": "befb3957",
   "metadata": {},
   "outputs": [],
   "source": [
    " from sklearn.linear_model import LinearRegression"
   ]
  },
  {
   "cell_type": "code",
   "execution_count": 45,
   "id": "f4c7d08b",
   "metadata": {},
   "outputs": [],
   "source": [
    "lr = LinearRegression()"
   ]
  },
  {
   "cell_type": "code",
   "execution_count": 46,
   "id": "a402184e",
   "metadata": {},
   "outputs": [
    {
     "data": {
      "text/html": [
       "<style>#sk-container-id-2 {color: black;}#sk-container-id-2 pre{padding: 0;}#sk-container-id-2 div.sk-toggleable {background-color: white;}#sk-container-id-2 label.sk-toggleable__label {cursor: pointer;display: block;width: 100%;margin-bottom: 0;padding: 0.3em;box-sizing: border-box;text-align: center;}#sk-container-id-2 label.sk-toggleable__label-arrow:before {content: \"▸\";float: left;margin-right: 0.25em;color: #696969;}#sk-container-id-2 label.sk-toggleable__label-arrow:hover:before {color: black;}#sk-container-id-2 div.sk-estimator:hover label.sk-toggleable__label-arrow:before {color: black;}#sk-container-id-2 div.sk-toggleable__content {max-height: 0;max-width: 0;overflow: hidden;text-align: left;background-color: #f0f8ff;}#sk-container-id-2 div.sk-toggleable__content pre {margin: 0.2em;color: black;border-radius: 0.25em;background-color: #f0f8ff;}#sk-container-id-2 input.sk-toggleable__control:checked~div.sk-toggleable__content {max-height: 200px;max-width: 100%;overflow: auto;}#sk-container-id-2 input.sk-toggleable__control:checked~label.sk-toggleable__label-arrow:before {content: \"▾\";}#sk-container-id-2 div.sk-estimator input.sk-toggleable__control:checked~label.sk-toggleable__label {background-color: #d4ebff;}#sk-container-id-2 div.sk-label input.sk-toggleable__control:checked~label.sk-toggleable__label {background-color: #d4ebff;}#sk-container-id-2 input.sk-hidden--visually {border: 0;clip: rect(1px 1px 1px 1px);clip: rect(1px, 1px, 1px, 1px);height: 1px;margin: -1px;overflow: hidden;padding: 0;position: absolute;width: 1px;}#sk-container-id-2 div.sk-estimator {font-family: monospace;background-color: #f0f8ff;border: 1px dotted black;border-radius: 0.25em;box-sizing: border-box;margin-bottom: 0.5em;}#sk-container-id-2 div.sk-estimator:hover {background-color: #d4ebff;}#sk-container-id-2 div.sk-parallel-item::after {content: \"\";width: 100%;border-bottom: 1px solid gray;flex-grow: 1;}#sk-container-id-2 div.sk-label:hover label.sk-toggleable__label {background-color: #d4ebff;}#sk-container-id-2 div.sk-serial::before {content: \"\";position: absolute;border-left: 1px solid gray;box-sizing: border-box;top: 0;bottom: 0;left: 50%;z-index: 0;}#sk-container-id-2 div.sk-serial {display: flex;flex-direction: column;align-items: center;background-color: white;padding-right: 0.2em;padding-left: 0.2em;position: relative;}#sk-container-id-2 div.sk-item {position: relative;z-index: 1;}#sk-container-id-2 div.sk-parallel {display: flex;align-items: stretch;justify-content: center;background-color: white;position: relative;}#sk-container-id-2 div.sk-item::before, #sk-container-id-2 div.sk-parallel-item::before {content: \"\";position: absolute;border-left: 1px solid gray;box-sizing: border-box;top: 0;bottom: 0;left: 50%;z-index: -1;}#sk-container-id-2 div.sk-parallel-item {display: flex;flex-direction: column;z-index: 1;position: relative;background-color: white;}#sk-container-id-2 div.sk-parallel-item:first-child::after {align-self: flex-end;width: 50%;}#sk-container-id-2 div.sk-parallel-item:last-child::after {align-self: flex-start;width: 50%;}#sk-container-id-2 div.sk-parallel-item:only-child::after {width: 0;}#sk-container-id-2 div.sk-dashed-wrapped {border: 1px dashed gray;margin: 0 0.4em 0.5em 0.4em;box-sizing: border-box;padding-bottom: 0.4em;background-color: white;}#sk-container-id-2 div.sk-label label {font-family: monospace;font-weight: bold;display: inline-block;line-height: 1.2em;}#sk-container-id-2 div.sk-label-container {text-align: center;}#sk-container-id-2 div.sk-container {/* jupyter's `normalize.less` sets `[hidden] { display: none; }` but bootstrap.min.css set `[hidden] { display: none !important; }` so we also need the `!important` here to be able to override the default hidden behavior on the sphinx rendered scikit-learn.org. See: https://github.com/scikit-learn/scikit-learn/issues/21755 */display: inline-block !important;position: relative;}#sk-container-id-2 div.sk-text-repr-fallback {display: none;}</style><div id=\"sk-container-id-2\" class=\"sk-top-container\"><div class=\"sk-text-repr-fallback\"><pre>LinearRegression()</pre><b>In a Jupyter environment, please rerun this cell to show the HTML representation or trust the notebook. <br />On GitHub, the HTML representation is unable to render, please try loading this page with nbviewer.org.</b></div><div class=\"sk-container\" hidden><div class=\"sk-item\"><div class=\"sk-estimator sk-toggleable\"><input class=\"sk-toggleable__control sk-hidden--visually\" id=\"sk-estimator-id-2\" type=\"checkbox\" checked><label for=\"sk-estimator-id-2\" class=\"sk-toggleable__label sk-toggleable__label-arrow\">LinearRegression</label><div class=\"sk-toggleable__content\"><pre>LinearRegression()</pre></div></div></div></div></div>"
      ],
      "text/plain": [
       "LinearRegression()"
      ]
     },
     "execution_count": 46,
     "metadata": {},
     "output_type": "execute_result"
    }
   ],
   "source": [
    "lr.fit(X.reshape(-1,1),y)"
   ]
  },
  {
   "cell_type": "code",
   "execution_count": 47,
   "id": "48e0c5c8",
   "metadata": {},
   "outputs": [
    {
     "data": {
      "text/plain": [
       "array([10.])"
      ]
     },
     "execution_count": 47,
     "metadata": {},
     "output_type": "execute_result"
    }
   ],
   "source": [
    "a = lr.coef_"
   ]
  },
  {
   "cell_type": "code",
   "execution_count": 48,
   "id": "927203e5",
   "metadata": {},
   "outputs": [
    {
     "data": {
      "text/plain": [
       "-2.220446049250313e-16"
      ]
     },
     "execution_count": 48,
     "metadata": {},
     "output_type": "execute_result"
    }
   ],
   "source": [
    "b = lr.intercept_"
   ]
  }
 ],
 "metadata": {
  "kernelspec": {
   "display_name": "Python 3 (ipykernel)",
   "language": "python",
   "name": "python3"
  },
  "language_info": {
   "codemirror_mode": {
    "name": "ipython",
    "version": 3
   },
   "file_extension": ".py",
   "mimetype": "text/x-python",
   "name": "python",
   "nbconvert_exporter": "python",
   "pygments_lexer": "ipython3",
   "version": "3.10.12"
  }
 },
 "nbformat": 4,
 "nbformat_minor": 5
}
