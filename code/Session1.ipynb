{
 "cells": [
  {
   "cell_type": "markdown",
   "id": "d1b48b01",
   "metadata": {},
   "source": [
    "# Python Basics"
   ]
  },
  {
   "cell_type": "code",
   "execution_count": 27,
   "id": "b5dd09de",
   "metadata": {},
   "outputs": [],
   "source": [
    "#| echo: false\n",
    "\n",
    "import warnings\n",
    "warnings.filterwarnings(\"ignore\")"
   ]
  },
  {
   "cell_type": "markdown",
   "id": "284f134e",
   "metadata": {},
   "source": [
    "## Loading necessary packages\n",
    "To start let's load `NumPy`, a package for scientific computing with Python. We usually load it as the `np` shorthand."
   ]
  },
  {
   "cell_type": "code",
   "execution_count": 1,
   "id": "fff8ebe3",
   "metadata": {},
   "outputs": [],
   "source": [
    "import numpy as np"
   ]
  },
  {
   "cell_type": "markdown",
   "id": "4621eb05-71ed-4b9f-969f-aee23cdba6c3",
   "metadata": {},
   "source": [
    "Let's initialize two arrays"
   ]
  },
  {
   "cell_type": "code",
   "execution_count": 2,
   "id": "2e18eb84",
   "metadata": {},
   "outputs": [],
   "source": [
    "a = np.random.randn(1,5)\n",
    "b = np.random.randn(1,5)"
   ]
  },
  {
   "cell_type": "markdown",
   "id": "e079bb3d",
   "metadata": {},
   "source": [
    "## Dot product\n",
    "To perform a dot product of two arrays, the `shape` of the arrays should match. Let's get the shape of our arrays."
   ]
  },
  {
   "cell_type": "code",
   "execution_count": 3,
   "id": "c34c30e7",
   "metadata": {},
   "outputs": [
    {
     "data": {
      "text/plain": [
       "((1, 5), (1, 5))"
      ]
     },
     "execution_count": 3,
     "metadata": {},
     "output_type": "execute_result"
    }
   ],
   "source": [
    "a.shape, b.shape"
   ]
  },
  {
   "cell_type": "markdown",
   "id": "b5a07332",
   "metadata": {},
   "source": [
    "both arrays have a shape of $(1, 5)$.\n",
    "\n",
    "In general, the shape of the two arrays should be\n",
    "$(n, k) (k, m)$, where $k$ is the common dimension of the two arrays.\n",
    "\n",
    "For our example, we can transpose the array `b` to make the shapes match. The `NumPy` command for transposition of arrays is `.T`."
   ]
  },
  {
   "cell_type": "code",
   "execution_count": 4,
   "id": "9198ae22",
   "metadata": {},
   "outputs": [
    {
     "data": {
      "text/plain": [
       "((1, 5), (5, 1))"
      ]
     },
     "execution_count": 4,
     "metadata": {},
     "output_type": "execute_result"
    }
   ],
   "source": [
    "a.shape, b.T.shape"
   ]
  },
  {
   "cell_type": "markdown",
   "id": "9d90489d",
   "metadata": {},
   "source": [
    "Now that the two arrays have the matching shapes, we can calculate their dot product using the `@` operator."
   ]
  },
  {
   "cell_type": "code",
   "execution_count": 5,
   "id": "1cb16770",
   "metadata": {},
   "outputs": [
    {
     "data": {
      "text/plain": [
       "array([[0.56077435]])"
      ]
     },
     "execution_count": 5,
     "metadata": {},
     "output_type": "execute_result"
    }
   ],
   "source": [
    "a @ b.T"
   ]
  },
  {
   "cell_type": "markdown",
   "id": "700938a0",
   "metadata": {},
   "source": [
    "The result of the dot product is an array of shape $(1,1)$, or a scalar. In general, the result of a dot product has a shape of $(n, m)$"
   ]
  },
  {
   "cell_type": "markdown",
   "id": "e3dd57a4",
   "metadata": {},
   "source": [
    "## Best fit line\n",
    "Let us now simulate a some data and find the **best fit line**, a line that minimizes the average distance of all data points to the line."
   ]
  },
  {
   "cell_type": "markdown",
   "id": "66588895",
   "metadata": {},
   "source": [
    "Here our `X` is a vector of shape $(100, 1)$ samples from a standard normal distribution. Here we have $100$ points with $1$ feature for each point.\n",
    "\n",
    "The `y` is 10 times x, with the shape $(100, 1)$.\n",
    "\n",
    "$$y = X \\cdot coeff$$"
   ]
  },
  {
   "cell_type": "code",
   "execution_count": 11,
   "id": "c559c917",
   "metadata": {},
   "outputs": [
    {
     "data": {
      "text/plain": [
       "(100, 1)"
      ]
     },
     "execution_count": 11,
     "metadata": {},
     "output_type": "execute_result"
    }
   ],
   "source": [
    "X = np.random.randn(100, 1)\n",
    "coeff = np.ones((1, 1)) * 10\n",
    "y = X @ coeff\n",
    "y.shape"
   ]
  },
  {
   "cell_type": "markdown",
   "id": "323ebe29",
   "metadata": {},
   "source": [
    "# Data visualization\n",
    "To visualize the data, we can use [`Matplotlib`](https://en.wikipedia.org/wiki/Matplotlib), which is a python plotting library inspired by `MATLAB`. While `Matplotlib` is a low-level plotting library with a high level of flexibility, for data science and ML applications, we tend to use `seaborn`. \n",
    "\n",
    "`seaborn` is a high-level plotting library that contains many common plots (e.g. `countplot`, `distplot`) as pre-built functions. It also has high compatibility with `pandas` dataframes.\n"
   ]
  },
  {
   "cell_type": "code",
   "execution_count": 22,
   "id": "9c8c1f40",
   "metadata": {},
   "outputs": [],
   "source": [
    "import matplotlib.pyplot as plt\n",
    "import seaborn as sns"
   ]
  },
  {
   "cell_type": "code",
   "execution_count": 26,
   "id": "718a09ec",
   "metadata": {},
   "outputs": [
    {
     "data": {
      "image/png": "[encoded data removed]",
      "text/plain": [
       "<Figure size 640x480 with 1 Axes>"
      ]
     },
     "metadata": {},
     "output_type": "display_data"
    }
   ],
   "source": [
    "#| label: fig-scatterxy\n",
    "#| fig-cap: \"Scatter plot of y against X\"\n",
    "\n",
    "sns.scatterplot(x= X[:,0], y = y[:,0])\n",
    "plt.show()"
   ]
  },
  {
   "cell_type": "markdown",
   "id": "34c3246b",
   "metadata": {},
   "source": [
    "As you can see in the scatter plot @fig-scatterxy, $X$ and $y$ form a perfect line, as we didn't add any noise to our $y$ variable. "
   ]
  },
  {
   "cell_type": "markdown",
   "id": "2a2ba2a8",
   "metadata": {},
   "source": [
    "To find the *best fit line*, we need to find $a$ in the following equation:\n",
    "\n",
    "$$y = X \\cdot a$$"
   ]
  },
  {
   "cell_type": "markdown",
   "id": "7055699a",
   "metadata": {},
   "source": [
    "$a$ would be a scalar, or an array of shape $(1,)$"
   ]
  },
  {
   "cell_type": "markdown",
   "id": "c47a3784",
   "metadata": {},
   "source": [
    "# Performance measure\n",
    "Since our target variable, $y$, is a continuous variable, we are dealing with a regression task. For regression **M**ean **S**quared **E**rror (MSE) is one of the most common loss functions (i.e. measure of performance).\n",
    "$$MSE = \\frac{1}{n} \\sum_{i=1}^{n}{(y_i - \\hat{y}_i)^2}$$\n",
    "\n",
    "Thus, we define a function to calculate the average sum of the squared of the error."
   ]
  },
  {
   "cell_type": "code",
   "execution_count": 28,
   "id": "719b3cd0",
   "metadata": {},
   "outputs": [],
   "source": [
    "def error_function(y,y_hat):\n",
    "    return ((y - y_hat)**2).mean()"
   ]
  },
  {
   "cell_type": "markdown",
   "id": "e3066065",
   "metadata": {},
   "source": [
    "Next, we randomly initialize our a as an array of shape $(1,1)$"
   ]
  },
  {
   "cell_type": "code",
   "execution_count": 30,
   "id": "739b636c",
   "metadata": {},
   "outputs": [
    {
     "data": {
      "text/plain": [
       "array([[-0.83905875]])"
      ]
     },
     "execution_count": 30,
     "metadata": {},
     "output_type": "execute_result"
    }
   ],
   "source": [
    "a = np.random.randn(1,1)\n",
    "a"
   ]
  },
  {
   "cell_type": "markdown",
   "id": "a941501c",
   "metadata": {},
   "source": [
    "We then calculate our prediction, $\\hat{y}$, which is the dot product of our design matrix, $X$, and $a$."
   ]
  },
  {
   "cell_type": "code",
   "execution_count": 31,
   "id": "31ace789",
   "metadata": {},
   "outputs": [],
   "source": [
    "y_hat = X @ a"
   ]
  },
  {
   "cell_type": "markdown",
   "id": "339b0fb8",
   "metadata": {},
   "source": [
    "We use our `error_function` to measure the error of our random guess for $a$."
   ]
  },
  {
   "cell_type": "code",
   "execution_count": 32,
   "id": "4d6599a6",
   "metadata": {},
   "outputs": [
    {
     "data": {
      "text/plain": [
       "143.78458435250508"
      ]
     },
     "execution_count": 32,
     "metadata": {},
     "output_type": "execute_result"
    }
   ],
   "source": [
    "error = error_function(y,y_hat)\n",
    "error"
   ]
  },
  {
   "cell_type": "markdown",
   "id": "3f107a89",
   "metadata": {},
   "source": [
    "Unlike metrics, such as accuracy, loss values have little intuitive meaning for humans."
   ]
  },
  {
   "cell_type": "markdown",
   "id": "7c7f692a",
   "metadata": {},
   "source": [
    "## Fitting the data using `sklearn`"
   ]
  },
  {
   "cell_type": "markdown",
   "id": "d3cb8995",
   "metadata": {},
   "source": [
    "In the next session, we will formulate a closed-form solution for finding the parameters of linear regression.\n",
    "\n",
    "For now, let's use the [`scikit-learn`](https://scikit-learn.org/) package to find the best line.\n",
    "\n",
    "We'll import the `LinearRegression` class from the `linear_model` submodule of `sklearn`. Each submodule of `sklearn` contains classes for that particular topic."
   ]
  },
  {
   "cell_type": "code",
   "execution_count": 33,
   "id": "befb3957",
   "metadata": {},
   "outputs": [],
   "source": [
    "from sklearn.linear_model import LinearRegression"
   ]
  },
  {
   "cell_type": "markdown",
   "id": "8aeb5ef3",
   "metadata": {},
   "source": [
    "Now, let's create an instance of the `LinearRegression` model and fit it to the data."
   ]
  },
  {
   "cell_type": "code",
   "execution_count": 34,
   "id": "f4c7d08b",
   "metadata": {},
   "outputs": [],
   "source": [
    "model = LinearRegression()"
   ]
  },
  {
   "cell_type": "code",
   "execution_count": 35,
   "id": "a402184e",
   "metadata": {},
   "outputs": [
    {
     "data": {
      "text/html": [
       "<style>#sk-container-id-1 {color: black;}#sk-container-id-1 pre{padding: 0;}#sk-container-id-1 div.sk-toggleable {background-color: white;}#sk-container-id-1 label.sk-toggleable__label {cursor: pointer;display: block;width: 100%;margin-bottom: 0;padding: 0.3em;box-sizing: border-box;text-align: center;}#sk-container-id-1 label.sk-toggleable__label-arrow:before {content: \"▸\";float: left;margin-right: 0.25em;color: #696969;}#sk-container-id-1 label.sk-toggleable__label-arrow:hover:before {color: black;}#sk-container-id-1 div.sk-estimator:hover label.sk-toggleable__label-arrow:before {color: black;}#sk-container-id-1 div.sk-toggleable__content {max-height: 0;max-width: 0;overflow: hidden;text-align: left;background-color: #f0f8ff;}#sk-container-id-1 div.sk-toggleable__content pre {margin: 0.2em;color: black;border-radius: 0.25em;background-color: #f0f8ff;}#sk-container-id-1 input.sk-toggleable__control:checked~div.sk-toggleable__content {max-height: 200px;max-width: 100%;overflow: auto;}#sk-container-id-1 input.sk-toggleable__control:checked~label.sk-toggleable__label-arrow:before {content: \"▾\";}#sk-container-id-1 div.sk-estimator input.sk-toggleable__control:checked~label.sk-toggleable__label {background-color: #d4ebff;}#sk-container-id-1 div.sk-label input.sk-toggleable__control:checked~label.sk-toggleable__label {background-color: #d4ebff;}#sk-container-id-1 input.sk-hidden--visually {border: 0;clip: rect(1px 1px 1px 1px);clip: rect(1px, 1px, 1px, 1px);height: 1px;margin: -1px;overflow: hidden;padding: 0;position: absolute;width: 1px;}#sk-container-id-1 div.sk-estimator {font-family: monospace;background-color: #f0f8ff;border: 1px dotted black;border-radius: 0.25em;box-sizing: border-box;margin-bottom: 0.5em;}#sk-container-id-1 div.sk-estimator:hover {background-color: #d4ebff;}#sk-container-id-1 div.sk-parallel-item::after {content: \"\";width: 100%;border-bottom: 1px solid gray;flex-grow: 1;}#sk-container-id-1 div.sk-label:hover label.sk-toggleable__label {background-color: #d4ebff;}#sk-container-id-1 div.sk-serial::before {content: \"\";position: absolute;border-left: 1px solid gray;box-sizing: border-box;top: 0;bottom: 0;left: 50%;z-index: 0;}#sk-container-id-1 div.sk-serial {display: flex;flex-direction: column;align-items: center;background-color: white;padding-right: 0.2em;padding-left: 0.2em;position: relative;}#sk-container-id-1 div.sk-item {position: relative;z-index: 1;}#sk-container-id-1 div.sk-parallel {display: flex;align-items: stretch;justify-content: center;background-color: white;position: relative;}#sk-container-id-1 div.sk-item::before, #sk-container-id-1 div.sk-parallel-item::before {content: \"\";position: absolute;border-left: 1px solid gray;box-sizing: border-box;top: 0;bottom: 0;left: 50%;z-index: -1;}#sk-container-id-1 div.sk-parallel-item {display: flex;flex-direction: column;z-index: 1;position: relative;background-color: white;}#sk-container-id-1 div.sk-parallel-item:first-child::after {align-self: flex-end;width: 50%;}#sk-container-id-1 div.sk-parallel-item:last-child::after {align-self: flex-start;width: 50%;}#sk-container-id-1 div.sk-parallel-item:only-child::after {width: 0;}#sk-container-id-1 div.sk-dashed-wrapped {border: 1px dashed gray;margin: 0 0.4em 0.5em 0.4em;box-sizing: border-box;padding-bottom: 0.4em;background-color: white;}#sk-container-id-1 div.sk-label label {font-family: monospace;font-weight: bold;display: inline-block;line-height: 1.2em;}#sk-container-id-1 div.sk-label-container {text-align: center;}#sk-container-id-1 div.sk-container {/* jupyter's `normalize.less` sets `[hidden] { display: none; }` but bootstrap.min.css set `[hidden] { display: none !important; }` so we also need the `!important` here to be able to override the default hidden behavior on the sphinx rendered scikit-learn.org. See: https://github.com/scikit-learn/scikit-learn/issues/21755 */display: inline-block !important;position: relative;}#sk-container-id-1 div.sk-text-repr-fallback {display: none;}</style><div id=\"sk-container-id-1\" class=\"sk-top-container\"><div class=\"sk-text-repr-fallback\"><pre>LinearRegression()</pre><b>In a Jupyter environment, please rerun this cell to show the HTML representation or trust the notebook. <br />On GitHub, the HTML representation is unable to render, please try loading this page with nbviewer.org.</b></div><div class=\"sk-container\" hidden><div class=\"sk-item\"><div class=\"sk-estimator sk-toggleable\"><input class=\"sk-toggleable__control sk-hidden--visually\" id=\"sk-estimator-id-1\" type=\"checkbox\" checked><label for=\"sk-estimator-id-1\" class=\"sk-toggleable__label sk-toggleable__label-arrow\">LinearRegression</label><div class=\"sk-toggleable__content\"><pre>LinearRegression()</pre></div></div></div></div></div>"
      ],
      "text/plain": [
       "LinearRegression()"
      ]
     },
     "execution_count": 35,
     "metadata": {},
     "output_type": "execute_result"
    }
   ],
   "source": [
    "model.fit(X,y)"
   ]
  },
  {
   "cell_type": "markdown",
   "id": "589afe00",
   "metadata": {},
   "source": [
    "Most `sklearn` classes involve two steps:\n",
    "1. Instantiating the class. This is where you provide the necessary hyper-parameters.\n",
    "    - `model = LinearRegression()`\n",
    "2. Fitting the data.\n",
    "    - `model.fit(X,y)`"
   ]
  },
  {
   "cell_type": "markdown",
   "id": "990ffb33",
   "metadata": {},
   "source": [
    "Next, we can retrieve the coefficients of the fitted model by accessing the `.coeff_` attribute of the `model` object."
   ]
  },
  {
   "cell_type": "code",
   "execution_count": 36,
   "id": "48e0c5c8",
   "metadata": {},
   "outputs": [
    {
     "data": {
      "text/plain": [
       "array([[10.]])"
      ]
     },
     "execution_count": 36,
     "metadata": {},
     "output_type": "execute_result"
    }
   ],
   "source": [
    "a = model.coef_\n",
    "a"
   ]
  },
  {
   "cell_type": "markdown",
   "id": "30fd907c",
   "metadata": {},
   "source": [
    "In our case, the coefficient is an array of shape $(1,1)$. This is in line with the shape of our X ($n,1$) and y ($n, 1$)."
   ]
  },
  {
   "cell_type": "markdown",
   "id": "1b65eb5a",
   "metadata": {},
   "source": [
    "We can also access the intercept of the `model` using the `.intercept_` attribute. Since we didn't add an intercept in our data simulation, the value of the intercept should be $0$.\n",
    "\n",
    "*Note.* In numerical computations, very small numbers (e.g. $2 \\times 10^{-16}$) are considered to be $0$."
   ]
  },
  {
   "cell_type": "code",
   "execution_count": 37,
   "id": "927203e5",
   "metadata": {},
   "outputs": [
    {
     "data": {
      "text/plain": [
       "array([2.22044605e-16])"
      ]
     },
     "execution_count": 37,
     "metadata": {},
     "output_type": "execute_result"
    }
   ],
   "source": [
    "b = model.intercept_\n",
    "b"
   ]
  },
  {
   "cell_type": "markdown",
   "id": "024acfc2",
   "metadata": {},
   "source": [
    "## Plotting the line on the data\n",
    "We can now plot the line and the data to see the fit.\n",
    "\n",
    "First, we get the predictions from the model using its fitted parameters `a` and `b`."
   ]
  },
  {
   "cell_type": "code",
   "execution_count": 38,
   "id": "0ceacc74",
   "metadata": {},
   "outputs": [],
   "source": [
    "y_pred = X @ a + b"
   ]
  },
  {
   "cell_type": "markdown",
   "id": "af445992",
   "metadata": {},
   "source": [
    "We'll use `seaborn` and `Matplotlib` to create two separate plots on the same axis, `ax`."
   ]
  },
  {
   "cell_type": "code",
   "execution_count": 41,
   "id": "c583dd85",
   "metadata": {},
   "outputs": [
    {
     "data": {
      "text/plain": [
       "<matplotlib.legend.Legend at 0x120000280>"
      ]
     },
     "execution_count": 41,
     "metadata": {},
     "output_type": "execute_result"
    },
    {
     "data": {
      "image/png": "[encoded data removed]",
      "text/plain": [
       "<Figure size 640x480 with 1 Axes>"
      ]
     },
     "metadata": {},
     "output_type": "display_data"
    }
   ],
   "source": [
    "ax = sns.scatterplot(x=X[:,0], y=y[:,0], label=\"Actual y\")\n",
    "ax = sns.lineplot(x=X[:,0], y=y_pred[:,0], ax=ax, color='red', label=\"Predicted y\")\n",
    "ax.legend()"
   ]
  },
  {
   "cell_type": "markdown",
   "id": "6a662e7e",
   "metadata": {},
   "source": []
  },
  {
   "cell_type": "code",
   "execution_count": null,
   "id": "5c37f6c3",
   "metadata": {},
   "outputs": [],
   "source": []
  }
 ],
 "metadata": {
  "kernelspec": {
   "display_name": "Python 3 (ipykernel)",
   "language": "python",
   "name": "python3"
  },
  "language_info": {
   "codemirror_mode": {
    "name": "ipython",
    "version": 3
   },
   "file_extension": ".py",
   "mimetype": "text/x-python",
   "name": "python",
   "nbconvert_exporter": "python",
   "pygments_lexer": "ipython3",
   "version": "3.10.12"
  }
 },
 "nbformat": 4,
 "nbformat_minor": 5
}
