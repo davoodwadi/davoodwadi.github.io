{
  "nbformat": 4,
  "nbformat_minor": 0,
  "metadata": {
    "colab": {
      "provenance": [],
      "gpuType": "T4",
      "authorship_tag": "ABX9TyPLMnpJeUJORoNzaWh6iD8k",
      "include_colab_link": true
    },
    "kernelspec": {
      "name": "python3",
      "display_name": "Python 3"
    },
    "language_info": {
      "name": "python"
    },
    "accelerator": "GPU"
  },
  "cells": [
    {
      "cell_type": "markdown",
      "metadata": {
        "id": "view-in-github",
        "colab_type": "text"
      },
      "source": [
        "<a href=\"https://colab.research.google.com/github/davoodwadi/davoodwadi.github.io/blob/main/Batch_normalization.ipynb\" target=\"_parent\"><img src=\"https://colab.research.google.com/assets/colab-badge.svg\" alt=\"Open In Colab\"/></a>"
      ]
    },
    {
      "cell_type": "code",
      "execution_count": 190,
      "metadata": {
        "colab": {
          "base_uri": "https://localhost:8080/"
        },
        "id": "7Ml4cpTDgYhe",
        "outputId": "8370a7cc-a3fc-41d6-f380-b4910be21a16"
      },
      "outputs": [
        {
          "output_type": "stream",
          "name": "stdout",
          "text": [
            "Files already downloaded and verified\n",
            "Files already downloaded and verified\n"
          ]
        },
        {
          "output_type": "execute_result",
          "data": {
            "text/plain": [
              "(torch.Size([50000, 32, 32, 3]),\n",
              " torch.Size([10000, 32, 32, 3]),\n",
              " torch.Size([50000]),\n",
              " torch.Size([10000]))"
            ]
          },
          "metadata": {},
          "execution_count": 190
        }
      ],
      "source": [
        "import torch, numpy as np, matplotlib.pyplot as plt, torch.nn as nn\n",
        "from torch.utils.data import Dataset, DataLoader\n",
        "from torchvision import datasets\n",
        "cifar_train = datasets.CIFAR10(root='./', train=True, download=True)\n",
        "cifar_test = datasets.CIFAR10(root='./', train=False, download=True)\n",
        "x_train = torch.tensor(cifar_train.data)\n",
        "y_train = torch.tensor(cifar_train.targets)\n",
        "x_test = torch.tensor(cifar_test.data)\n",
        "y_test = torch.tensor(cifar_test.targets)\n",
        "x_train.shape, x_test.shape, y_train.shape, y_test.shape"
      ]
    },
    {
      "cell_type": "code",
      "source": [
        "cifar_train.data.min(), cifar_train.data.max(), cifar_test.data.min(), cifar_test.data.max()"
      ],
      "metadata": {
        "colab": {
          "base_uri": "https://localhost:8080/"
        },
        "id": "IMUHZzC6ACzj",
        "outputId": "9f81d5a4-8bbd-41c2-a279-6f415f44e30f"
      },
      "execution_count": 191,
      "outputs": [
        {
          "output_type": "execute_result",
          "data": {
            "text/plain": [
              "(0, 255, 0, 255)"
            ]
          },
          "metadata": {},
          "execution_count": 191
        }
      ]
    },
    {
      "cell_type": "code",
      "source": [
        "x_train.min(), x_train.max(), x_test.min(), x_test.max()"
      ],
      "metadata": {
        "colab": {
          "base_uri": "https://localhost:8080/"
        },
        "id": "qn05ukplAM-N",
        "outputId": "e34ad4de-5a91-472b-c3e5-9b5a540ee856"
      },
      "execution_count": 192,
      "outputs": [
        {
          "output_type": "execute_result",
          "data": {
            "text/plain": [
              "(tensor(0, dtype=torch.uint8),\n",
              " tensor(255, dtype=torch.uint8),\n",
              " tensor(0, dtype=torch.uint8),\n",
              " tensor(255, dtype=torch.uint8))"
            ]
          },
          "metadata": {},
          "execution_count": 192
        }
      ]
    },
    {
      "cell_type": "markdown",
      "source": [
        "### Make the data `channel_first`"
      ],
      "metadata": {
        "id": "y2FOG-e56ZDw"
      }
    },
    {
      "cell_type": "code",
      "source": [
        "def channel_first(x):\n",
        "  return x.permute(0, 3, 1, 2)"
      ],
      "metadata": {
        "id": "Dv_qcunO6IVm"
      },
      "execution_count": 193,
      "outputs": []
    },
    {
      "cell_type": "code",
      "source": [
        "x_train = channel_first(x_train).float()\n",
        "x_test = channel_first(x_test).float()\n",
        "x_train.shape, x_test.shape"
      ],
      "metadata": {
        "colab": {
          "base_uri": "https://localhost:8080/"
        },
        "id": "hp3sxM8j6eTJ",
        "outputId": "9097f861-841a-4fc8-9e4a-811db86486e6"
      },
      "execution_count": 194,
      "outputs": [
        {
          "output_type": "execute_result",
          "data": {
            "text/plain": [
              "(torch.Size([50000, 3, 32, 32]), torch.Size([10000, 3, 32, 32]))"
            ]
          },
          "metadata": {},
          "execution_count": 194
        }
      ]
    },
    {
      "cell_type": "code",
      "source": [
        "x_train.min(), x_train.max(), x_test.min(), x_test.max()"
      ],
      "metadata": {
        "colab": {
          "base_uri": "https://localhost:8080/"
        },
        "id": "3qwoZWT6_2XH",
        "outputId": "dcb6a896-e3a3-40d8-cd77-971166a15e70"
      },
      "execution_count": 195,
      "outputs": [
        {
          "output_type": "execute_result",
          "data": {
            "text/plain": [
              "(tensor(0.), tensor(255.), tensor(0.), tensor(255.))"
            ]
          },
          "metadata": {},
          "execution_count": 195
        }
      ]
    },
    {
      "cell_type": "code",
      "source": [
        "w = nn.Conv2d(3, 3, 3, padding = 1)\n",
        "nn.init.constant_(w.weight, 1.1) # set weight as 1.1\n",
        "w.weight.shape"
      ],
      "metadata": {
        "colab": {
          "base_uri": "https://localhost:8080/"
        },
        "id": "tt1SW94YM2bs",
        "outputId": "93472408-bad3-4504-b956-e0b3589c10fd"
      },
      "execution_count": 203,
      "outputs": [
        {
          "output_type": "execute_result",
          "data": {
            "text/plain": [
              "torch.Size([3, 3, 3, 3])"
            ]
          },
          "metadata": {},
          "execution_count": 203
        }
      ]
    },
    {
      "cell_type": "markdown",
      "source": [
        "## Activation explosion"
      ],
      "metadata": {
        "id": "paiADkgHOtRC"
      }
    },
    {
      "cell_type": "code",
      "source": [
        "x = x_train[:100]\n",
        "for i in range(20):\n",
        "  x = w(x)\n",
        "  print(f'mean: {x.mean()}, SD: {x.std()}')\n",
        "  print('*'*10)"
      ],
      "metadata": {
        "colab": {
          "base_uri": "https://localhost:8080/"
        },
        "id": "vOmV4gtNM1vP",
        "outputId": "218fefa3-a424-4a8c-e654-eb8041798ce3"
      },
      "execution_count": 204,
      "outputs": [
        {
          "output_type": "stream",
          "name": "stdout",
          "text": [
            "mean: 3268.13818359375, SD: 1548.700927734375\n",
            "**********\n",
            "mean: 94226.6875, SD: 44271.546875\n",
            "**********\n",
            "mean: 2729341.5, SD: 1286149.5\n",
            "**********\n",
            "mean: 79304224.0, SD: 37587400.0\n",
            "**********\n",
            "mean: 2309064960.0, SD: 1102421248.0\n",
            "**********\n",
            "mean: 67336839168.0, SD: 32403615744.0\n",
            "**********\n",
            "mean: 1966051950592.0, SD: 953852428288.0\n",
            "**********\n",
            "mean: 57459553075200.0, SD: 28107547344896.0\n",
            "**********\n",
            "mean: 1680666471170048.0, SD: 828897885159424.0\n",
            "**********\n",
            "mean: 4.919248093918003e+16, SD: 2.4458803663601664e+16\n",
            "**********\n",
            "mean: 1.4406948962382643e+18, SD: 7.220532029706732e+17\n",
            "**********\n",
            "mean: 4.221515961022703e+19, SD: 2.1323662427273822e+19\n",
            "**********\n",
            "mean: 1.2375463934049523e+21, SD: 6.299153836555675e+20\n",
            "**********\n",
            "mean: 3.6293554633857825e+22, SD: 1.8612584626387843e+22\n",
            "**********\n",
            "mean: 1.064766388176034e+24, SD: 5.5006828939274566e+23\n",
            "**********\n",
            "mean: 3.1247896711305433e+25, SD: 1.6259125094342758e+25\n",
            "**********\n",
            "mean: 9.173098018426051e+26, SD: 4.8065821414591144e+26\n",
            "**********\n",
            "mean: 2.6935731454080303e+28, SD: 1.4210990303292347e+28\n",
            "**********\n",
            "mean: 7.91132994498282e+29, SD: 4.201970385611739e+29\n",
            "**********\n",
            "mean: 2.3241797145925663e+31, SD: 1.2425547509240132e+31\n",
            "**********\n"
          ]
        }
      ]
    },
    {
      "cell_type": "markdown",
      "source": [
        "## Normalize the data"
      ],
      "metadata": {
        "id": "XLjoNGeG_1lC"
      }
    },
    {
      "cell_type": "code",
      "source": [
        "x_train = (x_train-x_train.mean())/x_train.std()\n",
        "x_test = (x_test-x_test.mean())/x_test.std()\n",
        "x_train.mean(), x_train.std(), x_test.mean(), x_test.std()"
      ],
      "metadata": {
        "colab": {
          "base_uri": "https://localhost:8080/"
        },
        "id": "_QikJifl_zV-",
        "outputId": "a1466cc3-120e-49ea-dac1-50d5e613a8c3"
      },
      "execution_count": 216,
      "outputs": [
        {
          "output_type": "execute_result",
          "data": {
            "text/plain": [
              "(tensor(1.0976e-07), tensor(1.0000), tensor(1.9932e-07), tensor(1.0000))"
            ]
          },
          "metadata": {},
          "execution_count": 216
        }
      ]
    },
    {
      "cell_type": "markdown",
      "source": [
        "### Set the correct device"
      ],
      "metadata": {
        "id": "XWv6m0p-44TE"
      }
    },
    {
      "cell_type": "code",
      "source": [
        "device = 'cuda' if torch.cuda.is_available() else 'cpu'"
      ],
      "metadata": {
        "id": "Ajxbheab41y_"
      },
      "execution_count": 3,
      "outputs": []
    },
    {
      "cell_type": "code",
      "source": [
        "class dataset(Dataset):\n",
        "  def __init__(self, x, y):\n",
        "    self.x = x\n",
        "    self.y = y\n",
        "\n",
        "  def __len__(self):\n",
        "    return len(self.x)\n",
        "\n",
        "  def __getitem__(self, index):\n",
        "    return self.x[index], self.y[index]"
      ],
      "metadata": {
        "id": "Wb9E-S0n5tvj"
      },
      "execution_count": 219,
      "outputs": []
    },
    {
      "cell_type": "code",
      "source": [
        "bs=64\n",
        "\n",
        "trainset = dataset(x_train, y_train)\n",
        "testset = dataset(x_test, y_test)\n",
        "train_loader = DataLoader(trainset, batch_size=bs, shuffle=True)\n",
        "valid_loader = DataLoader(testset, batch_size=bs)"
      ],
      "metadata": {
        "id": "jmamgToq5Mdd"
      },
      "execution_count": 220,
      "outputs": []
    },
    {
      "cell_type": "code",
      "source": [
        "ni = 3\n",
        "nh = 8\n",
        "layer_filters = [ni, nh, 2*nh, 4*nh]\n",
        "layer_num = len(layer_filters)-1\n",
        "kernel_size = 3\n",
        "padding = 3//2\n",
        "stride = 2\n",
        "modules = nn.ModuleDict()\n",
        "for layer_number in range(1, layer_num+1):\n",
        "  modules.add_module(f'layer_{layer_number}', nn.Conv2d(layer_filters[layer_number-1], layer_filters[layer_number], kernel_size, stride, padding))\n",
        "modules"
      ],
      "metadata": {
        "colab": {
          "base_uri": "https://localhost:8080/"
        },
        "id": "yvSJUfqm5qYW",
        "outputId": "300ce973-d6ab-42e6-f80d-c4846b034eed"
      },
      "execution_count": 253,
      "outputs": [
        {
          "output_type": "execute_result",
          "data": {
            "text/plain": [
              "ModuleDict(\n",
              "  (layer_1): Conv2d(3, 8, kernel_size=(3, 3), stride=(2, 2), padding=(1, 1))\n",
              "  (layer_2): Conv2d(8, 16, kernel_size=(3, 3), stride=(2, 2), padding=(1, 1))\n",
              "  (layer_3): Conv2d(16, 32, kernel_size=(3, 3), stride=(2, 2), padding=(1, 1))\n",
              ")"
            ]
          },
          "metadata": {},
          "execution_count": 253
        }
      ]
    },
    {
      "cell_type": "markdown",
      "source": [
        "## let's put this in pytorch `module` class to use `forward` and `backward`"
      ],
      "metadata": {
        "id": "ImuNZIHR8n2S"
      }
    },
    {
      "cell_type": "code",
      "source": [
        "h, w = x_train.shape[2:]\n",
        "h,w"
      ],
      "metadata": {
        "colab": {
          "base_uri": "https://localhost:8080/"
        },
        "id": "B_cfcWXhT1Kt",
        "outputId": "4242445c-07e6-4fb1-88e3-65b792a38383"
      },
      "execution_count": 257,
      "outputs": [
        {
          "output_type": "execute_result",
          "data": {
            "text/plain": [
              "(32, 32)"
            ]
          },
          "metadata": {},
          "execution_count": 257
        }
      ]
    },
    {
      "cell_type": "code",
      "source": [
        "32/(2**layer_num)"
      ],
      "metadata": {
        "colab": {
          "base_uri": "https://localhost:8080/"
        },
        "id": "y3fxlpBxU_11",
        "outputId": "6acb2203-8b1d-4499-f5ad-27fa44635e1c"
      },
      "execution_count": 263,
      "outputs": [
        {
          "output_type": "execute_result",
          "data": {
            "text/plain": [
              "4.0"
            ]
          },
          "metadata": {},
          "execution_count": 263
        }
      ]
    },
    {
      "cell_type": "markdown",
      "source": [],
      "metadata": {
        "id": "UbV81rjHT0v7"
      }
    },
    {
      "cell_type": "code",
      "source": [
        "class ConvNet(nn.Module):\n",
        "  def __init__(self, layer_filters, stride, kernel_size=3, h=32, w=32, num_classes=10):\n",
        "    super(ConvNet, self).__init__()\n",
        "    self.layer_filters = layer_filters\n",
        "    self.num_layers = len(layer_filters) -1\n",
        "    self.layers = nn.ModuleDict()\n",
        "    for layer_number in range(1, self.num_layers+1):\n",
        "      self.layers.add_module(f'layer_{layer_number}', nn.Conv2d(layer_filters[layer_number-1], layer_filters[layer_number], kernel_size, stride, kernel_size//2))\n",
        "    self.flatten = nn.Flatten() # [bs, layer_filters[num_layers] * h/(2**num_layers),w/(2**num_layers)]\n",
        "    self.classification = nn.Linear(int(layer_filters[self.num_layers] * h/(2**self.num_layers) * w/(2**self.num_layers)), num_classes)\n",
        "  def forward(self, x):\n",
        "    for layer in self.layers.keys():\n",
        "      x = self.layers[layer](x)\n",
        "    x = self.flatten(x)\n",
        "    x = self.classification(x)\n",
        "    return x\n"
      ],
      "metadata": {
        "id": "C9SrU2bR6uzO"
      },
      "execution_count": 299,
      "outputs": []
    },
    {
      "cell_type": "code",
      "source": [
        "bx, by = next(iter(train_loader))\n",
        "bx.shape, by.shape, layer_filters"
      ],
      "metadata": {
        "colab": {
          "base_uri": "https://localhost:8080/"
        },
        "id": "ySnphzax8XT2",
        "outputId": "0f5d23a5-8d06-4eb7-a946-79214394fb7e"
      },
      "execution_count": 268,
      "outputs": [
        {
          "output_type": "execute_result",
          "data": {
            "text/plain": [
              "(torch.Size([64, 3, 32, 32]), torch.Size([64]), [3, 8, 16, 32])"
            ]
          },
          "metadata": {},
          "execution_count": 268
        }
      ]
    },
    {
      "cell_type": "code",
      "source": [
        "stride = 2\n",
        "kernel_size = 3\n",
        "\n",
        "model = ConvNet(layer_filters, stride, kernel_size)\n",
        "model"
      ],
      "metadata": {
        "colab": {
          "base_uri": "https://localhost:8080/"
        },
        "id": "nT0pvE9m8bxd",
        "outputId": "5a8d4025-3964-46e8-8ddf-20ff108933a8"
      },
      "execution_count": 272,
      "outputs": [
        {
          "output_type": "execute_result",
          "data": {
            "text/plain": [
              "ConvNet(\n",
              "  (layers): ModuleDict(\n",
              "    (layer_1): Conv2d(3, 8, kernel_size=(3, 3), stride=(2, 2), padding=(1, 1))\n",
              "    (layer_2): Conv2d(8, 16, kernel_size=(3, 3), stride=(2, 2), padding=(1, 1))\n",
              "    (layer_3): Conv2d(16, 32, kernel_size=(3, 3), stride=(2, 2), padding=(1, 1))\n",
              "  )\n",
              "  (flatten): Flatten(start_dim=1, end_dim=-1)\n",
              "  (classification): Linear(in_features=512, out_features=10, bias=True)\n",
              ")"
            ]
          },
          "metadata": {},
          "execution_count": 272
        }
      ]
    },
    {
      "cell_type": "markdown",
      "source": [
        "### Move model and data to GPU"
      ],
      "metadata": {
        "id": "4pCxwYbw-ugK"
      }
    },
    {
      "cell_type": "code",
      "source": [
        "def gpu(bx, by, model):\n",
        "  bx, by = bx.to(device), by.to(device)\n",
        "  model = model.to(device)\n",
        "  return bx, by, model"
      ],
      "metadata": {
        "id": "0Bt6kXeU-uMJ"
      },
      "execution_count": 283,
      "outputs": []
    },
    {
      "cell_type": "code",
      "source": [
        "bx, by, model = gpu(bx, by, model)\n",
        "output = model(bx)\n",
        "output.shape"
      ],
      "metadata": {
        "colab": {
          "base_uri": "https://localhost:8080/"
        },
        "id": "dwjMFz9z8iSQ",
        "outputId": "75556ad7-eb1f-4b7c-987d-e712cb7c7bf0"
      },
      "execution_count": 284,
      "outputs": [
        {
          "output_type": "execute_result",
          "data": {
            "text/plain": [
              "torch.Size([64, 10])"
            ]
          },
          "metadata": {},
          "execution_count": 284
        }
      ]
    },
    {
      "cell_type": "code",
      "source": [
        "x = bx\n",
        "for layer_name in model.layers.keys():\n",
        "  print(layer_name)\n",
        "  x = model.layers[layer_name](x)\n",
        "  print(f'x mean: {x.mean()}, sd: {x.std()}')\n",
        "\n",
        "  print('*'*10)"
      ],
      "metadata": {
        "colab": {
          "base_uri": "https://localhost:8080/"
        },
        "id": "L6cz1Mcx-07t",
        "outputId": "d657fd0c-c1a8-4e82-a666-7927ee67ac31"
      },
      "execution_count": 285,
      "outputs": [
        {
          "output_type": "stream",
          "name": "stdout",
          "text": [
            "layer_1\n",
            "x mean: 0.03805947303771973, sd: 0.4746130704879761\n",
            "**********\n",
            "layer_2\n",
            "x mean: 0.014094870537519455, sd: 0.3058101534843445\n",
            "**********\n",
            "layer_3\n",
            "x mean: -0.022542566061019897, sd: 0.17484818398952484\n",
            "**********\n"
          ]
        }
      ]
    },
    {
      "cell_type": "markdown",
      "source": [
        "### Train for 3 epochs"
      ],
      "metadata": {
        "id": "r-lk4z7pS3vv"
      }
    },
    {
      "cell_type": "code",
      "source": [
        "def train_eval(model, optimizer, train_loader, valid_loader, epoch=3):\n",
        "  loss_fn = nn.CrossEntropyLoss()\n",
        "  for e in range(epoch):\n",
        "    correct = 0\n",
        "    total = 0\n",
        "    losses = []\n",
        "\n",
        "    # training\n",
        "    model.train()\n",
        "    for bx, by in train_loader:\n",
        "      bx, by, model = gpu(bx, by, model)\n",
        "      output = model(bx)\n",
        "      loss = loss_fn(output, by)\n",
        "      loss.backward()\n",
        "      optimizer.step()\n",
        "      optimizer.zero_grad()\n",
        "\n",
        "    # validation\n",
        "    model.eval()\n",
        "    for bx, by in valid_loader:\n",
        "      bx, by, model = gpu(bx, by, model)\n",
        "      with torch.no_grad():\n",
        "        output = model(bx)\n",
        "      predictions = output.argmax(-1)\n",
        "\n",
        "      correct += (predictions==by).float().sum()\n",
        "      total += len(by)\n",
        "      losses.append(loss.detach().item())\n",
        "\n",
        "    accuracy = correct/total\n",
        "    print(f'epoch {e}; loss {np.mean(losses):.4f}; accuracy {accuracy:.2f}')"
      ],
      "metadata": {
        "id": "TjEZn6oSS2Fq"
      },
      "execution_count": 286,
      "outputs": []
    },
    {
      "cell_type": "code",
      "source": [
        "stride = 2\n",
        "kernel_size = 3\n",
        "lr = 0.001\n",
        "\n",
        "model = ConvNet(layer_filters, stride, kernel_size)\n",
        "optimizer = torch.optim.SGD(model.parameters(), lr=lr)\n",
        "train_eval(model, optimizer, train_loader, valid_loader, epoch=10)"
      ],
      "metadata": {
        "colab": {
          "base_uri": "https://localhost:8080/"
        },
        "id": "oX7-KNIDTGO1",
        "outputId": "d1c166e5-462c-457e-9a4d-9ab54dba0d6b"
      },
      "execution_count": 300,
      "outputs": [
        {
          "output_type": "stream",
          "name": "stdout",
          "text": [
            "epoch 0; loss 2.2556; accuracy 0.22\n",
            "epoch 1; loss 2.1157; accuracy 0.27\n",
            "epoch 2; loss 1.9773; accuracy 0.30\n",
            "epoch 3; loss 1.9661; accuracy 0.32\n",
            "epoch 4; loss 2.1413; accuracy 0.34\n",
            "epoch 5; loss 1.8773; accuracy 0.34\n",
            "epoch 6; loss 1.9587; accuracy 0.35\n",
            "epoch 7; loss 1.4923; accuracy 0.35\n",
            "epoch 8; loss 1.6887; accuracy 0.36\n",
            "epoch 9; loss 1.7652; accuracy 0.36\n"
          ]
        }
      ]
    },
    {
      "cell_type": "markdown",
      "source": [
        "## Adding ReLU"
      ],
      "metadata": {
        "id": "8ieMuVfgRZKx"
      }
    },
    {
      "cell_type": "code",
      "source": [
        "class ConvNet(nn.Module):\n",
        "  def __init__(self, layer_filters, stride, kernel_size=3, h=32, w=32, num_classes=10):\n",
        "    super(ConvNet, self).__init__()\n",
        "    self.layer_filters = layer_filters\n",
        "    self.num_layers = len(layer_filters) -1\n",
        "    self.layers = nn.ModuleDict()\n",
        "    for layer_number in range(1, self.num_layers+1):\n",
        "      self.layers.add_module(f'layer_{layer_number}', nn.Conv2d(layer_filters[layer_number-1], layer_filters[layer_number], kernel_size, stride, kernel_size//2))\n",
        "    self.flatten = nn.Flatten() # [bs, layer_filters[num_layers] * h/(2**num_layers),w/(2**num_layers)]\n",
        "    self.classification = nn.Linear(int(layer_filters[self.num_layers] * h/(2**self.num_layers) * w/(2**self.num_layers)), num_classes)\n",
        "\n",
        "  def forward(self, x):\n",
        "    for layer in self.layers.keys():\n",
        "      x = self.layers[layer](x)\n",
        "      x = nn.ReLU()(x)\n",
        "\n",
        "    x = self.flatten(x)\n",
        "    x = self.classification(x)\n",
        "    return x\n",
        "\n"
      ],
      "metadata": {
        "id": "dV-yE3OPRacd"
      },
      "execution_count": 312,
      "outputs": []
    },
    {
      "cell_type": "code",
      "source": [
        "stride = 2\n",
        "kernel_size = 3\n",
        "layer_filters = [ni, nh, 2*nh, 4*nh]\n",
        "\n",
        "model = ConvNet(layer_filters, stride, kernel_size)\n",
        "model"
      ],
      "metadata": {
        "colab": {
          "base_uri": "https://localhost:8080/"
        },
        "id": "vvcplY76RaMt",
        "outputId": "ac91dff0-a789-4745-b9e3-88baa87ca863"
      },
      "execution_count": 314,
      "outputs": [
        {
          "output_type": "execute_result",
          "data": {
            "text/plain": [
              "ConvNet(\n",
              "  (layers): ModuleDict(\n",
              "    (layer_1): Conv2d(3, 32, kernel_size=(3, 3), stride=(2, 2), padding=(1, 1))\n",
              "    (layer_2): Conv2d(32, 64, kernel_size=(3, 3), stride=(2, 2), padding=(1, 1))\n",
              "    (layer_3): Conv2d(64, 128, kernel_size=(3, 3), stride=(2, 2), padding=(1, 1))\n",
              "  )\n",
              "  (flatten): Flatten(start_dim=1, end_dim=-1)\n",
              "  (classification): Linear(in_features=2048, out_features=10, bias=True)\n",
              ")"
            ]
          },
          "metadata": {},
          "execution_count": 314
        }
      ]
    },
    {
      "cell_type": "code",
      "source": [
        "bx, by, model = gpu(bx, by, model)\n",
        "x = bx\n",
        "for layer_name in model.layers.keys():\n",
        "  print(layer_name)\n",
        "  x = model.layers[layer_name](x)\n",
        "  x = nn.ReLU()(x)\n",
        "  print(f'x mean: {x.mean()}, sd: {x.std()}')\n",
        "\n",
        "  print('*'*10)"
      ],
      "metadata": {
        "colab": {
          "base_uri": "https://localhost:8080/"
        },
        "id": "G8OKOZ21RwlM",
        "outputId": "30327a5c-71f5-45c8-e628-712cf3037498"
      },
      "execution_count": 315,
      "outputs": [
        {
          "output_type": "stream",
          "name": "stdout",
          "text": [
            "layer_1\n",
            "x mean: 0.1957414448261261, sd: 0.3261364996433258\n",
            "**********\n",
            "layer_2\n",
            "x mean: 0.07460178434848785, sd: 0.12499479949474335\n",
            "**********\n",
            "layer_3\n",
            "x mean: 0.02778497524559498, sd: 0.046145956963300705\n",
            "**********\n"
          ]
        }
      ]
    },
    {
      "cell_type": "markdown",
      "source": [
        "**ReLU removes half of SD**"
      ],
      "metadata": {
        "id": "0ucRi4_iSI0h"
      }
    },
    {
      "cell_type": "code",
      "source": [
        "stride = 2\n",
        "kernel_size = 3\n",
        "lr = 0.001\n",
        "\n",
        "model = ConvNet(layer_filters, stride, kernel_size)\n",
        "optimizer = torch.optim.SGD(model.parameters(), lr=lr)\n",
        "train_eval(model, optimizer, train_loader, valid_loader, epoch=10)"
      ],
      "metadata": {
        "colab": {
          "base_uri": "https://localhost:8080/"
        },
        "id": "s3v9oz1XWbaX",
        "outputId": "8deb7e54-9f76-410d-d1d8-1f22e81d9310"
      },
      "execution_count": 316,
      "outputs": [
        {
          "output_type": "stream",
          "name": "stdout",
          "text": [
            "epoch 0; loss 2.2766; accuracy 0.17\n",
            "epoch 1; loss 2.3013; accuracy 0.20\n",
            "epoch 2; loss 2.1594; accuracy 0.25\n",
            "epoch 3; loss 1.9361; accuracy 0.27\n",
            "epoch 4; loss 2.2897; accuracy 0.29\n",
            "epoch 5; loss 1.9942; accuracy 0.32\n",
            "epoch 6; loss 1.9650; accuracy 0.33\n",
            "epoch 7; loss 2.1201; accuracy 0.34\n",
            "epoch 8; loss 1.6206; accuracy 0.35\n",
            "epoch 9; loss 1.7111; accuracy 0.36\n"
          ]
        }
      ]
    },
    {
      "cell_type": "markdown",
      "source": [
        "# Making the model deep"
      ],
      "metadata": {
        "id": "w6NiLtdNFsV_"
      }
    },
    {
      "cell_type": "code",
      "source": [
        "layer_filters[num_layers], h/(2**num_layers) * w/(2**num_layers)"
      ],
      "metadata": {
        "colab": {
          "base_uri": "https://localhost:8080/"
        },
        "id": "PHCxX2oYZuzN",
        "outputId": "89de9cdc-9567-401d-f29d-3d94d9333ac7"
      },
      "execution_count": 328,
      "outputs": [
        {
          "output_type": "execute_result",
          "data": {
            "text/plain": [
              "(32, 0.0625)"
            ]
          },
          "metadata": {},
          "execution_count": 328
        }
      ]
    },
    {
      "cell_type": "code",
      "source": [
        "layer_filters[num_layers] * h/(2**num_layers) * w/(2**num_layers)"
      ],
      "metadata": {
        "colab": {
          "base_uri": "https://localhost:8080/"
        },
        "id": "3RtcN2ZIZkA5",
        "outputId": "fd5a9026-035a-469d-f4b5-8b90beec4a2f"
      },
      "execution_count": 325,
      "outputs": [
        {
          "output_type": "execute_result",
          "data": {
            "text/plain": [
              "2.0"
            ]
          },
          "metadata": {},
          "execution_count": 325
        }
      ]
    },
    {
      "cell_type": "code",
      "source": [
        "num_layers = len(layer_filters)-1\n",
        "num_layers, (layer_filters[num_layers] * int(h/(2**num_layers) * w/(2**num_layers)))"
      ],
      "metadata": {
        "colab": {
          "base_uri": "https://localhost:8080/"
        },
        "id": "6Lamu9VMY51S",
        "outputId": "78aa96e1-1c56-44d1-8284-97b58721f65b"
      },
      "execution_count": 329,
      "outputs": [
        {
          "output_type": "execute_result",
          "data": {
            "text/plain": [
              "(7, 0)"
            ]
          },
          "metadata": {},
          "execution_count": 329
        }
      ]
    },
    {
      "cell_type": "code",
      "source": [
        "ni = 3\n",
        "nh = 32\n",
        "depth = 5\n",
        "layer_filters = [ni] + [nh]*(depth)\n",
        "stride = 2\n",
        "kernel_size = 3\n",
        "\n",
        "model = ConvNet(layer_filters, stride, kernel_size)\n",
        "model"
      ],
      "metadata": {
        "colab": {
          "base_uri": "https://localhost:8080/"
        },
        "id": "f_QGj8JeExkk",
        "outputId": "21d8e0e6-f73b-4682-ff62-9e735de167ab"
      },
      "execution_count": 330,
      "outputs": [
        {
          "output_type": "execute_result",
          "data": {
            "text/plain": [
              "ConvNet(\n",
              "  (layers): ModuleDict(\n",
              "    (layer_1): Conv2d(3, 32, kernel_size=(3, 3), stride=(2, 2), padding=(1, 1))\n",
              "    (layer_2): Conv2d(32, 32, kernel_size=(3, 3), stride=(2, 2), padding=(1, 1))\n",
              "    (layer_3): Conv2d(32, 32, kernel_size=(3, 3), stride=(2, 2), padding=(1, 1))\n",
              "    (layer_4): Conv2d(32, 32, kernel_size=(3, 3), stride=(2, 2), padding=(1, 1))\n",
              "    (layer_5): Conv2d(32, 32, kernel_size=(3, 3), stride=(2, 2), padding=(1, 1))\n",
              "  )\n",
              "  (flatten): Flatten(start_dim=1, end_dim=-1)\n",
              "  (classification): Linear(in_features=32, out_features=10, bias=True)\n",
              ")"
            ]
          },
          "metadata": {},
          "execution_count": 330
        }
      ]
    },
    {
      "cell_type": "code",
      "source": [
        "layer_filters"
      ],
      "metadata": {
        "colab": {
          "base_uri": "https://localhost:8080/"
        },
        "id": "VvSkCNYeGAiw",
        "outputId": "dd04af3f-50a8-48d4-b87d-25d8effe4115"
      },
      "execution_count": 331,
      "outputs": [
        {
          "output_type": "execute_result",
          "data": {
            "text/plain": [
              "[3, 32, 32, 32, 32, 32]"
            ]
          },
          "metadata": {},
          "execution_count": 331
        }
      ]
    },
    {
      "cell_type": "code",
      "source": [
        "bx, by, model = gpu(bx, by, model)\n",
        "x = bx\n",
        "for layer_name in model.layers.keys():\n",
        "  print(layer_name)\n",
        "  x = model.layers[layer_name](x)\n",
        "  x = nn.ReLU()(x)\n",
        "  print(x.shape)\n",
        "  print(f'x mean: {x.mean()}, sd: {x.std()}')\n",
        "  print('*'*10)"
      ],
      "metadata": {
        "colab": {
          "base_uri": "https://localhost:8080/"
        },
        "id": "dBZ2AHLDEqWy",
        "outputId": "55aaff0c-c5ca-4433-835b-26390bea8252"
      },
      "execution_count": 332,
      "outputs": [
        {
          "output_type": "stream",
          "name": "stdout",
          "text": [
            "layer_1\n",
            "torch.Size([64, 32, 16, 16])\n",
            "x mean: 0.23010757565498352, sd: 0.39709943532943726\n",
            "**********\n",
            "layer_2\n",
            "torch.Size([64, 32, 8, 8])\n",
            "x mean: 0.06489626318216324, sd: 0.12451531738042831\n",
            "**********\n",
            "layer_3\n",
            "torch.Size([64, 32, 4, 4])\n",
            "x mean: 0.0378086119890213, sd: 0.0578189380466938\n",
            "**********\n",
            "layer_4\n",
            "torch.Size([64, 32, 2, 2])\n",
            "x mean: 0.009765984490513802, sd: 0.02073776163160801\n",
            "**********\n",
            "layer_5\n",
            "torch.Size([64, 32, 1, 1])\n",
            "x mean: 0.018953658640384674, sd: 0.022025499492883682\n",
            "**********\n"
          ]
        }
      ]
    },
    {
      "cell_type": "code",
      "source": [
        "stride = 2\n",
        "kernel_size = 3\n",
        "lr = 0.001\n",
        "\n",
        "model = ConvNet(layer_filters, stride, kernel_size)\n",
        "optimizer = torch.optim.SGD(model.parameters(), lr=lr)\n",
        "train_eval(model, optimizer, train_loader, valid_loader, epoch=10)"
      ],
      "metadata": {
        "colab": {
          "base_uri": "https://localhost:8080/"
        },
        "id": "1VgoKXcYYrvI",
        "outputId": "78a4e835-474e-4633-ef3b-60fdc882e0b8"
      },
      "execution_count": 333,
      "outputs": [
        {
          "output_type": "stream",
          "name": "stdout",
          "text": [
            "epoch 0; loss 2.3023; accuracy 0.09\n",
            "epoch 1; loss 2.2850; accuracy 0.09\n",
            "epoch 2; loss 2.2618; accuracy 0.09\n",
            "epoch 3; loss 2.2985; accuracy 0.10\n",
            "epoch 4; loss 2.3221; accuracy 0.11\n",
            "epoch 5; loss 2.3224; accuracy 0.11\n",
            "epoch 6; loss 2.3211; accuracy 0.11\n",
            "epoch 7; loss 2.2960; accuracy 0.11\n",
            "epoch 8; loss 2.3055; accuracy 0.11\n",
            "epoch 9; loss 2.3051; accuracy 0.11\n"
          ]
        }
      ]
    },
    {
      "cell_type": "markdown",
      "source": [
        "## Solution? Batch Normalization"
      ],
      "metadata": {
        "id": "OnXdxE9vISBK"
      }
    },
    {
      "cell_type": "code",
      "source": [
        "class ConvNet(nn.Module):\n",
        "  def __init__(self, layer_filters, stride, kernel_size=3, h=32, w=32, num_classes=10):\n",
        "    super(ConvNet, self).__init__()\n",
        "    self.layer_filters = layer_filters\n",
        "    self.num_layers = len(layer_filters) - 1\n",
        "    self.layers = nn.ModuleDict()\n",
        "    for layer in range(1, self.num_layers+1):\n",
        "      self.layers.add_module(f'layer_{layer}', nn.Conv2d(layer_filters[layer-1], layer_filters[layer], kernel_size, stride, kernel_size//2))\n",
        "      self.layers.add_module(f'layer_{layer}_bn', nn.BatchNorm2d(layer_filters[layer]))\n",
        "\n",
        "    self.flatten = nn.Flatten() # [bs, layer_filters[num_layers] * h/(2**num_layers),w/(2**num_layers)]\n",
        "    self.classification = nn.Linear(int(layer_filters[self.num_layers] * h/(2**self.num_layers) * w/(2**self.num_layers)), num_classes)\n",
        "\n",
        "  def forward(self, x):\n",
        "    for layer_name in self.layers.keys():\n",
        "      x = self.layers[layer_name](x)\n",
        "      if 'bn' not in layer_name:\n",
        "        x = nn.ReLU()(x)\n",
        "\n",
        "    x = self.flatten(x)\n",
        "    x = self.classification(x)\n",
        "    return x\n"
      ],
      "metadata": {
        "id": "14Wk-MwbGwQH"
      },
      "execution_count": 339,
      "outputs": []
    },
    {
      "cell_type": "code",
      "source": [
        "depth = 5\n",
        "ni = 3\n",
        "nh = 32\n",
        "layer_filters = [ni] + [nh]*(depth)\n",
        "stride = 1\n",
        "kernel_size = 3\n",
        "\n",
        "model = ConvNet(layer_filters, stride, kernel_size)"
      ],
      "metadata": {
        "id": "3VNGX33LLHqM"
      },
      "execution_count": 340,
      "outputs": []
    },
    {
      "cell_type": "code",
      "source": [
        "model.num_layers"
      ],
      "metadata": {
        "colab": {
          "base_uri": "https://localhost:8080/"
        },
        "id": "m-jGhO_nL4IL",
        "outputId": "8c13261a-abf9-4eaa-96f4-50f7cfe08fb3"
      },
      "execution_count": 341,
      "outputs": [
        {
          "output_type": "execute_result",
          "data": {
            "text/plain": [
              "5"
            ]
          },
          "metadata": {},
          "execution_count": 341
        }
      ]
    },
    {
      "cell_type": "code",
      "source": [
        "bx, by, model = gpu(bx, by, model)\n",
        "x = bx\n",
        "for layer_name in model.layers.keys():\n",
        "  print(layer_name)\n",
        "  x = model.layers[layer_name](x)\n",
        "  if 'bn' not in layer_name:\n",
        "    x = nn.ReLU()(x)\n",
        "\n",
        "  print(f'x mean: {x.mean()}, sd: {x.std()}')\n",
        "  print('*'*10)"
      ],
      "metadata": {
        "colab": {
          "base_uri": "https://localhost:8080/"
        },
        "id": "qK_d_keMLLLo",
        "outputId": "b0c31df3-a8ed-4726-a44d-39f0f4d1ea9c"
      },
      "execution_count": 342,
      "outputs": [
        {
          "output_type": "stream",
          "name": "stdout",
          "text": [
            "layer_1\n",
            "x mean: 0.2258470058441162, sd: 0.37762323021888733\n",
            "**********\n",
            "layer_1_bn\n",
            "x mean: -6.28642737865448e-09, sd: 0.9998002052307129\n",
            "**********\n",
            "layer_2\n",
            "x mean: 0.20866098999977112, sd: 0.3313664197921753\n",
            "**********\n",
            "layer_2_bn\n",
            "x mean: -2.561137080192566e-09, sd: 0.9999391436576843\n",
            "**********\n",
            "layer_3\n",
            "x mean: 0.2187885195016861, sd: 0.3358442783355713\n",
            "**********\n",
            "layer_3_bn\n",
            "x mean: 6.05359673500061e-09, sd: 0.9999446272850037\n",
            "**********\n",
            "layer_4\n",
            "x mean: 0.2130168080329895, sd: 0.3269975781440735\n",
            "**********\n",
            "layer_4_bn\n",
            "x mean: 5.587935447692871e-09, sd: 0.9999483823776245\n",
            "**********\n",
            "layer_5\n",
            "x mean: 0.2182147055864334, sd: 0.33259060978889465\n",
            "**********\n",
            "layer_5_bn\n",
            "x mean: 6.51925802230835e-09, sd: 0.9999526739120483\n",
            "**********\n"
          ]
        }
      ]
    },
    {
      "cell_type": "code",
      "source": [
        "model.layers.layer_1_bn.weight.shape"
      ],
      "metadata": {
        "colab": {
          "base_uri": "https://localhost:8080/"
        },
        "id": "3ewpAHiHLeYh",
        "outputId": "425c6d0f-b919-4182-e1d7-e500caf52fae"
      },
      "execution_count": 174,
      "outputs": [
        {
          "output_type": "execute_result",
          "data": {
            "text/plain": [
              "torch.Size([32])"
            ]
          },
          "metadata": {},
          "execution_count": 174
        }
      ]
    },
    {
      "cell_type": "code",
      "source": [
        "stride = 2\n",
        "kernel_size = 3\n",
        "lr = 0.001\n",
        "\n",
        "model = ConvNet(layer_filters, stride, kernel_size)\n",
        "optimizer = torch.optim.SGD(model.parameters(), lr=lr)\n",
        "train_eval(model, optimizer, train_loader, valid_loader, epoch=10)"
      ],
      "metadata": {
        "colab": {
          "base_uri": "https://localhost:8080/"
        },
        "id": "k_a9cFKnMdbG",
        "outputId": "28323940-d224-4204-ca3d-eecbb065c50c"
      },
      "execution_count": 343,
      "outputs": [
        {
          "output_type": "stream",
          "name": "stdout",
          "text": [
            "epoch 0; loss 1.7727; accuracy 0.33\n",
            "epoch 1; loss 1.9622; accuracy 0.38\n",
            "epoch 2; loss 1.5088; accuracy 0.41\n",
            "epoch 3; loss 1.5596; accuracy 0.44\n",
            "epoch 4; loss 1.4573; accuracy 0.45\n",
            "epoch 5; loss 1.3441; accuracy 0.47\n",
            "epoch 6; loss 1.9838; accuracy 0.48\n",
            "epoch 7; loss 1.7721; accuracy 0.49\n",
            "epoch 8; loss 1.2655; accuracy 0.50\n",
            "epoch 9; loss 1.3226; accuracy 0.51\n"
          ]
        }
      ]
    },
    {
      "cell_type": "code",
      "source": [],
      "metadata": {
        "id": "7lULPKqwbQTa"
      },
      "execution_count": null,
      "outputs": []
    }
  ]
}