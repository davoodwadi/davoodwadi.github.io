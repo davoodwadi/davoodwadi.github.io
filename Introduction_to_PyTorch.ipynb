{
  "nbformat": 4,
  "nbformat_minor": 0,
  "metadata": {
    "colab": {
      "provenance": [],
      "authorship_tag": "ABX9TyPZQOLWMia4UIPS9yrlRDJr",
      "include_colab_link": true
    },
    "kernelspec": {
      "name": "python3",
      "display_name": "Python 3"
    },
    "language_info": {
      "name": "python"
    }
  },
  "cells": [
    {
      "cell_type": "markdown",
      "metadata": {
        "id": "view-in-github",
        "colab_type": "text"
      },
      "source": [
        "<a href=\"https://colab.research.google.com/github/davoodwadi/davoodwadi.github.io/blob/main/Introduction_to_PyTorch.ipynb\" target=\"_parent\"><img src=\"https://colab.research.google.com/assets/colab-badge.svg\" alt=\"Open In Colab\"/></a>"
      ]
    },
    {
      "cell_type": "code",
      "source": [
        "!git clone \"https://github.com/davoodwadi/davoodwadi.github.io.git\""
      ],
      "metadata": {
        "colab": {
          "base_uri": "https://localhost:8080/"
        },
        "id": "HLj0bGRzt1WG",
        "outputId": "883d71bc-4bbf-4d70-a68a-f5768f5f1857"
      },
      "execution_count": null,
      "outputs": [
        {
          "output_type": "stream",
          "name": "stdout",
          "text": [
            "fatal: destination path 'davoodwadi.github.io' already exists and is not an empty directory.\n"
          ]
        }
      ]
    },
    {
      "cell_type": "code",
      "execution_count": null,
      "metadata": {
        "id": "3jKu76UtsdU6"
      },
      "outputs": [],
      "source": [
        "import pickle,gzip,math,os,time,shutil,torch,matplotlib as mpl, numpy as np, matplotlib.pyplot as plt\n",
        "from pathlib import Path\n",
        "from torch import tensor, nn"
      ]
    },
    {
      "cell_type": "code",
      "source": [
        "torch.manual_seed(42)\n",
        "\n",
        "mpl.rcParams['image.cmap'] = 'gray'\n",
        "torch.set_printoptions(precision=2, linewidth=125, sci_mode=False)\n",
        "np.set_printoptions(precision=2, linewidth=125)"
      ],
      "metadata": {
        "id": "A5oCxpApsmdY"
      },
      "execution_count": null,
      "outputs": []
    },
    {
      "cell_type": "markdown",
      "source": [
        "# Linear Regression and Gradient Descent"
      ],
      "metadata": {
        "id": "QDU3tk1ovCCx"
      }
    },
    {
      "cell_type": "code",
      "source": [
        "X = torch.randn(100, 1)\n",
        "y = X * 4 + torch.randn(100, 1)\n",
        "X.shape, y.shape"
      ],
      "metadata": {
        "colab": {
          "base_uri": "https://localhost:8080/"
        },
        "id": "gATUwc8_vGea",
        "outputId": "32ec0233-cc85-4317-d949-7c6e6256ad02"
      },
      "execution_count": null,
      "outputs": [
        {
          "output_type": "execute_result",
          "data": {
            "text/plain": [
              "(torch.Size([100, 1]), torch.Size([100, 1]))"
            ]
          },
          "metadata": {},
          "execution_count": 94
        }
      ]
    },
    {
      "cell_type": "code",
      "source": [
        "torch.randn(1)"
      ],
      "metadata": {
        "colab": {
          "base_uri": "https://localhost:8080/"
        },
        "id": "NWALeXjIB2vl",
        "outputId": "800acca7-bba1-4c7a-b7d6-a3092364aac9"
      },
      "execution_count": null,
      "outputs": [
        {
          "output_type": "execute_result",
          "data": {
            "text/plain": [
              "tensor([-0.46])"
            ]
          },
          "metadata": {},
          "execution_count": 95
        }
      ]
    },
    {
      "cell_type": "code",
      "source": [
        "plt.scatter(X,y)"
      ],
      "metadata": {
        "colab": {
          "base_uri": "https://localhost:8080/",
          "height": 447
        },
        "id": "KdK4ABISvGbp",
        "outputId": "234e1c65-c8b7-4b4c-a58c-f9d51b2681c4"
      },
      "execution_count": null,
      "outputs": [
        {
          "output_type": "execute_result",
          "data": {
            "text/plain": [
              "<matplotlib.collections.PathCollection at 0x7bd40167e980>"
            ]
          },
          "metadata": {},
          "execution_count": 96
        },
        {
          "output_type": "display_data",
          "data": {
            "text/plain": [
              "<Figure size 640x480 with 1 Axes>"
            ],
            "image/png": "[encoded data removed]"
          },
          "metadata": {}
        }
      ]
    },
    {
      "cell_type": "code",
      "source": [
        "Ws = torch.linspace(0,8, 50)\n",
        "Ws"
      ],
      "metadata": {
        "colab": {
          "base_uri": "https://localhost:8080/"
        },
        "id": "Rfmm1CUQDb0K",
        "outputId": "d4e23ba4-504b-45d5-be0a-c4ad432e498c"
      },
      "execution_count": null,
      "outputs": [
        {
          "output_type": "execute_result",
          "data": {
            "text/plain": [
              "tensor([0.00, 0.16, 0.33, 0.49, 0.65, 0.82, 0.98, 1.14, 1.31, 1.47, 1.63, 1.80, 1.96, 2.12, 2.29, 2.45, 2.61, 2.78, 2.94,\n",
              "        3.10, 3.27, 3.43, 3.59, 3.76, 3.92, 4.08, 4.24, 4.41, 4.57, 4.73, 4.90, 5.06, 5.22, 5.39, 5.55, 5.71, 5.88, 6.04,\n",
              "        6.20, 6.37, 6.53, 6.69, 6.86, 7.02, 7.18, 7.35, 7.51, 7.67, 7.84, 8.00])"
            ]
          },
          "metadata": {},
          "execution_count": 100
        }
      ]
    },
    {
      "cell_type": "code",
      "source": [
        "X.shape"
      ],
      "metadata": {
        "colab": {
          "base_uri": "https://localhost:8080/"
        },
        "id": "2QljeqtZD4fa",
        "outputId": "8bad0e0e-ddef-41b3-b049-b7c6f75a6429"
      },
      "execution_count": null,
      "outputs": [
        {
          "output_type": "execute_result",
          "data": {
            "text/plain": [
              "torch.Size([100, 1])"
            ]
          },
          "metadata": {},
          "execution_count": 101
        }
      ]
    },
    {
      "cell_type": "code",
      "source": [
        "losses = []\n",
        "for w in Ws:\n",
        "  y_pred = X*w\n",
        "  loss = (y-y_pred).pow(2).mean() #mse\n",
        "  losses.append(loss.item())"
      ],
      "metadata": {
        "id": "phbGUM0sDbxz"
      },
      "execution_count": null,
      "outputs": []
    },
    {
      "cell_type": "code",
      "source": [
        "plt.plot(Ws, losses)"
      ],
      "metadata": {
        "colab": {
          "base_uri": "https://localhost:8080/",
          "height": 447
        },
        "id": "zIOqG2FXDbvV",
        "outputId": "31bdd3f0-d5c2-403d-d0bb-7b1c5c49b8d7"
      },
      "execution_count": null,
      "outputs": [
        {
          "output_type": "execute_result",
          "data": {
            "text/plain": [
              "[<matplotlib.lines.Line2D at 0x7bd3ee6ae110>]"
            ]
          },
          "metadata": {},
          "execution_count": 106
        },
        {
          "output_type": "display_data",
          "data": {
            "text/plain": [
              "<Figure size 640x480 with 1 Axes>"
            ],
            "image/png": "[encoded data removed]"
          },
          "metadata": {}
        }
      ]
    },
    {
      "cell_type": "code",
      "source": [],
      "metadata": {
        "id": "vOI3UtXVDbsy"
      },
      "execution_count": null,
      "outputs": []
    },
    {
      "cell_type": "code",
      "source": [
        "w = tensor([[1.]], requires_grad=True)\n",
        "w"
      ],
      "metadata": {
        "colab": {
          "base_uri": "https://localhost:8080/"
        },
        "id": "yaMnTqalvGXZ",
        "outputId": "ed050e18-88a5-4688-e11b-5f06ab1ba930"
      },
      "execution_count": null,
      "outputs": [
        {
          "output_type": "execute_result",
          "data": {
            "text/plain": [
              "tensor([[1.]], requires_grad=True)"
            ]
          },
          "metadata": {},
          "execution_count": 117
        }
      ]
    },
    {
      "cell_type": "code",
      "source": [
        "y_hat = X @ w"
      ],
      "metadata": {
        "id": "5IKWRmpfvGUE"
      },
      "execution_count": null,
      "outputs": []
    },
    {
      "cell_type": "code",
      "source": [
        "loss_fn = nn.MSELoss()"
      ],
      "metadata": {
        "id": "YTL5fsgBuzdc"
      },
      "execution_count": null,
      "outputs": []
    },
    {
      "cell_type": "code",
      "source": [
        "loss = loss_fn(y_hat, y)\n",
        "loss"
      ],
      "metadata": {
        "colab": {
          "base_uri": "https://localhost:8080/"
        },
        "id": "bEf5ZZF8uzaf",
        "outputId": "96262a8d-b53a-4b90-a10c-343319b44149"
      },
      "execution_count": null,
      "outputs": [
        {
          "output_type": "execute_result",
          "data": {
            "text/plain": [
              "tensor(9.83, grad_fn=<MseLossBackward0>)"
            ]
          },
          "metadata": {},
          "execution_count": 120
        }
      ]
    },
    {
      "cell_type": "code",
      "source": [
        "loss.backward()"
      ],
      "metadata": {
        "id": "3WYdr5AG_mae"
      },
      "execution_count": null,
      "outputs": []
    },
    {
      "cell_type": "code",
      "source": [
        "w.grad"
      ],
      "metadata": {
        "colab": {
          "base_uri": "https://localhost:8080/"
        },
        "id": "p08t7QCV_vZB",
        "outputId": "8d88095e-ede1-41d1-c959-42d626cc880c"
      },
      "execution_count": null,
      "outputs": [
        {
          "output_type": "execute_result",
          "data": {
            "text/plain": [
              "tensor([[-6.08]])"
            ]
          },
          "metadata": {},
          "execution_count": 122
        }
      ]
    },
    {
      "cell_type": "code",
      "source": [
        "w.data.grad = None\n",
        "w"
      ],
      "metadata": {
        "colab": {
          "base_uri": "https://localhost:8080/"
        },
        "id": "aFtuc5MoHLcl",
        "outputId": "d8d89170-0e04-46df-f43a-33d30c5d02c9"
      },
      "execution_count": null,
      "outputs": [
        {
          "output_type": "execute_result",
          "data": {
            "text/plain": [
              "tensor([[1.]], requires_grad=True)"
            ]
          },
          "metadata": {},
          "execution_count": 124
        }
      ]
    },
    {
      "cell_type": "markdown",
      "source": [
        "gradient descent step"
      ],
      "metadata": {
        "id": "wzYO7ap5_-iH"
      }
    },
    {
      "cell_type": "code",
      "source": [],
      "metadata": {
        "colab": {
          "base_uri": "https://localhost:8080/"
        },
        "id": "r_WQXxCGHcpo",
        "outputId": "bc7bec71-a2ff-4937-fd33-2bba9bc70001"
      },
      "execution_count": null,
      "outputs": [
        {
          "output_type": "execute_result",
          "data": {
            "text/plain": [
              "tensor([[1.]], requires_grad=True)"
            ]
          },
          "metadata": {},
          "execution_count": 126
        }
      ]
    },
    {
      "cell_type": "code",
      "source": [
        "lr = 0.01\n",
        "with torch.no_grad():\n",
        "  w = w - w.grad * lr\n",
        "w"
      ],
      "metadata": {
        "id": "hMTFhMmv_9ra",
        "colab": {
          "base_uri": "https://localhost:8080/"
        },
        "outputId": "068e4450-8692-443a-84fa-399d5631e5e0"
      },
      "execution_count": null,
      "outputs": [
        {
          "output_type": "execute_result",
          "data": {
            "text/plain": [
              "tensor([[1.06]])"
            ]
          },
          "metadata": {},
          "execution_count": 113
        }
      ]
    },
    {
      "cell_type": "code",
      "source": [
        "w = tensor([[1.]], requires_grad=True)\n",
        "w"
      ],
      "metadata": {
        "colab": {
          "base_uri": "https://localhost:8080/"
        },
        "id": "wf0rvwQWHGla",
        "outputId": "a054758d-120d-4934-9c01-5e473103dda3"
      },
      "execution_count": null,
      "outputs": [
        {
          "output_type": "execute_result",
          "data": {
            "text/plain": [
              "tensor([[1.]], requires_grad=True)"
            ]
          },
          "metadata": {},
          "execution_count": 130
        }
      ]
    },
    {
      "cell_type": "code",
      "source": [
        "for iteration in range(1000):\n",
        "  w.data.grad = 0.\n",
        "  y_hat = X @ w\n",
        "  loss = loss_fn(y_hat, y)\n",
        "  loss.backward()\n",
        "  with torch.no_grad():\n",
        "    w.data = w.data - w.data.grad * lr\n",
        "  print(f'loss`: {loss:.2f}, w: {w}')\n",
        "\n",
        "\n"
      ],
      "metadata": {
        "colab": {
          "base_uri": "https://localhost:8080/",
          "height": 245
        },
        "id": "nMoDr8tbGVeQ",
        "outputId": "d55fdaa6-427d-41aa-a3e9-8744bbef51d2"
      },
      "execution_count": null,
      "outputs": [
        {
          "output_type": "error",
          "ename": "TypeError",
          "evalue": "ignored",
          "traceback": [
            "\u001b[0;31m---------------------------------------------------------------------------\u001b[0m",
            "\u001b[0;31mTypeError\u001b[0m                                 Traceback (most recent call last)",
            "\u001b[0;32m<ipython-input-132-c0621c9d5b08>\u001b[0m in \u001b[0;36m<cell line: 1>\u001b[0;34m()\u001b[0m\n\u001b[1;32m      1\u001b[0m \u001b[0;32mfor\u001b[0m \u001b[0miteration\u001b[0m \u001b[0;32min\u001b[0m \u001b[0mrange\u001b[0m\u001b[0;34m(\u001b[0m\u001b[0;36m1000\u001b[0m\u001b[0;34m)\u001b[0m\u001b[0;34m:\u001b[0m\u001b[0;34m\u001b[0m\u001b[0;34m\u001b[0m\u001b[0m\n\u001b[0;32m----> 2\u001b[0;31m   \u001b[0mw\u001b[0m\u001b[0;34m.\u001b[0m\u001b[0mdata\u001b[0m\u001b[0;34m.\u001b[0m\u001b[0mgrad\u001b[0m \u001b[0;34m=\u001b[0m \u001b[0;36m0.\u001b[0m\u001b[0;34m\u001b[0m\u001b[0;34m\u001b[0m\u001b[0m\n\u001b[0m\u001b[1;32m      3\u001b[0m   \u001b[0my_hat\u001b[0m \u001b[0;34m=\u001b[0m \u001b[0mX\u001b[0m \u001b[0;34m@\u001b[0m \u001b[0mw\u001b[0m\u001b[0;34m\u001b[0m\u001b[0;34m\u001b[0m\u001b[0m\n\u001b[1;32m      4\u001b[0m   \u001b[0mloss\u001b[0m \u001b[0;34m=\u001b[0m \u001b[0mloss_fn\u001b[0m\u001b[0;34m(\u001b[0m\u001b[0my_hat\u001b[0m\u001b[0;34m,\u001b[0m \u001b[0my\u001b[0m\u001b[0;34m)\u001b[0m\u001b[0;34m\u001b[0m\u001b[0;34m\u001b[0m\u001b[0m\n\u001b[1;32m      5\u001b[0m   \u001b[0mloss\u001b[0m\u001b[0;34m.\u001b[0m\u001b[0mbackward\u001b[0m\u001b[0;34m(\u001b[0m\u001b[0;34m)\u001b[0m\u001b[0;34m\u001b[0m\u001b[0;34m\u001b[0m\u001b[0m\n",
            "\u001b[0;31mTypeError\u001b[0m: assigned grad expected to be a Tensor or None but got grad of typefloat"
          ]
        }
      ]
    },
    {
      "cell_type": "code",
      "source": [
        "w = tensor([[1.]], requires_grad=True)\n",
        "optimizer = torch.optim.SGD([w], lr = lr)"
      ],
      "metadata": {
        "id": "seQGmq-kGVbV"
      },
      "execution_count": null,
      "outputs": []
    },
    {
      "cell_type": "code",
      "source": [
        "for iteration in range(1000):\n",
        "  y_hat = X @ w\n",
        "  loss = loss_fn(y_hat, y)\n",
        "  loss.backward()\n",
        "  optimizer.step()\n",
        "  optimizer.zero_grad()\n",
        "  print(f'loss`: {loss:.2f}, w: {w}')\n"
      ],
      "metadata": {
        "colab": {
          "base_uri": "https://localhost:8080/"
        },
        "id": "_h49JvclGVYt",
        "outputId": "e15e9d5e-b679-4778-8d6d-8fae6ee4d230"
      },
      "execution_count": null,
      "outputs": [
        {
          "output_type": "stream",
          "name": "stdout",
          "text": [
            "loss`: 9.83, w: tensor([[1.06]], requires_grad=True)\n",
            "loss`: 9.47, w: tensor([[1.12]], requires_grad=True)\n",
            "loss`: 9.11, w: tensor([[1.18]], requires_grad=True)\n",
            "loss`: 8.78, w: tensor([[1.24]], requires_grad=True)\n",
            "loss`: 8.46, w: tensor([[1.29]], requires_grad=True)\n",
            "loss`: 8.15, w: tensor([[1.35]], requires_grad=True)\n",
            "loss`: 7.85, w: tensor([[1.40]], requires_grad=True)\n",
            "loss`: 7.56, w: tensor([[1.45]], requires_grad=True)\n",
            "loss`: 7.29, w: tensor([[1.50]], requires_grad=True)\n",
            "loss`: 7.03, w: tensor([[1.55]], requires_grad=True)\n",
            "loss`: 6.77, w: tensor([[1.60]], requires_grad=True)\n",
            "loss`: 6.53, w: tensor([[1.65]], requires_grad=True)\n",
            "loss`: 6.30, w: tensor([[1.70]], requires_grad=True)\n",
            "loss`: 6.08, w: tensor([[1.75]], requires_grad=True)\n",
            "loss`: 5.86, w: tensor([[1.79]], requires_grad=True)\n",
            "loss`: 5.66, w: tensor([[1.84]], requires_grad=True)\n",
            "loss`: 5.46, w: tensor([[1.88]], requires_grad=True)\n",
            "loss`: 5.27, w: tensor([[1.92]], requires_grad=True)\n",
            "loss`: 5.09, w: tensor([[1.97]], requires_grad=True)\n",
            "loss`: 4.92, w: tensor([[2.01]], requires_grad=True)\n",
            "loss`: 4.75, w: tensor([[2.05]], requires_grad=True)\n",
            "loss`: 4.59, w: tensor([[2.09]], requires_grad=True)\n",
            "loss`: 4.44, w: tensor([[2.12]], requires_grad=True)\n",
            "loss`: 4.29, w: tensor([[2.16]], requires_grad=True)\n",
            "loss`: 4.15, w: tensor([[2.20]], requires_grad=True)\n",
            "loss`: 4.01, w: tensor([[2.24]], requires_grad=True)\n",
            "loss`: 3.88, w: tensor([[2.27]], requires_grad=True)\n",
            "loss`: 3.76, w: tensor([[2.31]], requires_grad=True)\n",
            "loss`: 3.64, w: tensor([[2.34]], requires_grad=True)\n",
            "loss`: 3.52, w: tensor([[2.37]], requires_grad=True)\n",
            "loss`: 3.41, w: tensor([[2.41]], requires_grad=True)\n",
            "loss`: 3.31, w: tensor([[2.44]], requires_grad=True)\n",
            "loss`: 3.20, w: tensor([[2.47]], requires_grad=True)\n",
            "loss`: 3.11, w: tensor([[2.50]], requires_grad=True)\n",
            "loss`: 3.01, w: tensor([[2.53]], requires_grad=True)\n",
            "loss`: 2.92, w: tensor([[2.56]], requires_grad=True)\n",
            "loss`: 2.84, w: tensor([[2.59]], requires_grad=True)\n",
            "loss`: 2.75, w: tensor([[2.62]], requires_grad=True)\n",
            "loss`: 2.67, w: tensor([[2.64]], requires_grad=True)\n",
            "loss`: 2.60, w: tensor([[2.67]], requires_grad=True)\n",
            "loss`: 2.53, w: tensor([[2.70]], requires_grad=True)\n",
            "loss`: 2.46, w: tensor([[2.72]], requires_grad=True)\n",
            "loss`: 2.39, w: tensor([[2.75]], requires_grad=True)\n",
            "loss`: 2.32, w: tensor([[2.78]], requires_grad=True)\n",
            "loss`: 2.26, w: tensor([[2.80]], requires_grad=True)\n",
            "loss`: 2.20, w: tensor([[2.82]], requires_grad=True)\n",
            "loss`: 2.14, w: tensor([[2.85]], requires_grad=True)\n",
            "loss`: 2.09, w: tensor([[2.87]], requires_grad=True)\n",
            "loss`: 2.04, w: tensor([[2.89]], requires_grad=True)\n",
            "loss`: 1.99, w: tensor([[2.91]], requires_grad=True)\n",
            "loss`: 1.94, w: tensor([[2.94]], requires_grad=True)\n",
            "loss`: 1.89, w: tensor([[2.96]], requires_grad=True)\n",
            "loss`: 1.85, w: tensor([[2.98]], requires_grad=True)\n",
            "loss`: 1.81, w: tensor([[3.00]], requires_grad=True)\n",
            "loss`: 1.76, w: tensor([[3.02]], requires_grad=True)\n",
            "loss`: 1.72, w: tensor([[3.04]], requires_grad=True)\n",
            "loss`: 1.69, w: tensor([[3.06]], requires_grad=True)\n",
            "loss`: 1.65, w: tensor([[3.08]], requires_grad=True)\n",
            "loss`: 1.62, w: tensor([[3.09]], requires_grad=True)\n",
            "loss`: 1.58, w: tensor([[3.11]], requires_grad=True)\n",
            "loss`: 1.55, w: tensor([[3.13]], requires_grad=True)\n",
            "loss`: 1.52, w: tensor([[3.15]], requires_grad=True)\n",
            "loss`: 1.49, w: tensor([[3.16]], requires_grad=True)\n",
            "loss`: 1.46, w: tensor([[3.18]], requires_grad=True)\n",
            "loss`: 1.43, w: tensor([[3.20]], requires_grad=True)\n",
            "loss`: 1.41, w: tensor([[3.21]], requires_grad=True)\n",
            "loss`: 1.38, w: tensor([[3.23]], requires_grad=True)\n",
            "loss`: 1.36, w: tensor([[3.24]], requires_grad=True)\n",
            "loss`: 1.34, w: tensor([[3.26]], requires_grad=True)\n",
            "loss`: 1.31, w: tensor([[3.27]], requires_grad=True)\n",
            "loss`: 1.29, w: tensor([[3.29]], requires_grad=True)\n",
            "loss`: 1.27, w: tensor([[3.30]], requires_grad=True)\n",
            "loss`: 1.25, w: tensor([[3.32]], requires_grad=True)\n",
            "loss`: 1.24, w: tensor([[3.33]], requires_grad=True)\n",
            "loss`: 1.22, w: tensor([[3.34]], requires_grad=True)\n",
            "loss`: 1.20, w: tensor([[3.36]], requires_grad=True)\n",
            "loss`: 1.18, w: tensor([[3.37]], requires_grad=True)\n",
            "loss`: 1.17, w: tensor([[3.38]], requires_grad=True)\n",
            "loss`: 1.15, w: tensor([[3.39]], requires_grad=True)\n",
            "loss`: 1.14, w: tensor([[3.40]], requires_grad=True)\n",
            "loss`: 1.12, w: tensor([[3.42]], requires_grad=True)\n",
            "loss`: 1.11, w: tensor([[3.43]], requires_grad=True)\n",
            "loss`: 1.10, w: tensor([[3.44]], requires_grad=True)\n",
            "loss`: 1.08, w: tensor([[3.45]], requires_grad=True)\n",
            "loss`: 1.07, w: tensor([[3.46]], requires_grad=True)\n",
            "loss`: 1.06, w: tensor([[3.47]], requires_grad=True)\n",
            "loss`: 1.05, w: tensor([[3.48]], requires_grad=True)\n",
            "loss`: 1.04, w: tensor([[3.49]], requires_grad=True)\n",
            "loss`: 1.03, w: tensor([[3.50]], requires_grad=True)\n",
            "loss`: 1.02, w: tensor([[3.51]], requires_grad=True)\n",
            "loss`: 1.01, w: tensor([[3.52]], requires_grad=True)\n",
            "loss`: 1.00, w: tensor([[3.53]], requires_grad=True)\n",
            "loss`: 0.99, w: tensor([[3.54]], requires_grad=True)\n",
            "loss`: 0.99, w: tensor([[3.55]], requires_grad=True)\n",
            "loss`: 0.98, w: tensor([[3.56]], requires_grad=True)\n",
            "loss`: 0.97, w: tensor([[3.56]], requires_grad=True)\n",
            "loss`: 0.96, w: tensor([[3.57]], requires_grad=True)\n",
            "loss`: 0.96, w: tensor([[3.58]], requires_grad=True)\n",
            "loss`: 0.95, w: tensor([[3.59]], requires_grad=True)\n",
            "loss`: 0.94, w: tensor([[3.60]], requires_grad=True)\n",
            "loss`: 0.94, w: tensor([[3.61]], requires_grad=True)\n",
            "loss`: 0.93, w: tensor([[3.61]], requires_grad=True)\n",
            "loss`: 0.93, w: tensor([[3.62]], requires_grad=True)\n",
            "loss`: 0.92, w: tensor([[3.63]], requires_grad=True)\n",
            "loss`: 0.91, w: tensor([[3.63]], requires_grad=True)\n",
            "loss`: 0.91, w: tensor([[3.64]], requires_grad=True)\n",
            "loss`: 0.90, w: tensor([[3.65]], requires_grad=True)\n",
            "loss`: 0.90, w: tensor([[3.65]], requires_grad=True)\n",
            "loss`: 0.90, w: tensor([[3.66]], requires_grad=True)\n",
            "loss`: 0.89, w: tensor([[3.67]], requires_grad=True)\n",
            "loss`: 0.89, w: tensor([[3.67]], requires_grad=True)\n",
            "loss`: 0.88, w: tensor([[3.68]], requires_grad=True)\n",
            "loss`: 0.88, w: tensor([[3.69]], requires_grad=True)\n",
            "loss`: 0.88, w: tensor([[3.69]], requires_grad=True)\n",
            "loss`: 0.87, w: tensor([[3.70]], requires_grad=True)\n",
            "loss`: 0.87, w: tensor([[3.70]], requires_grad=True)\n",
            "loss`: 0.87, w: tensor([[3.71]], requires_grad=True)\n",
            "loss`: 0.86, w: tensor([[3.71]], requires_grad=True)\n",
            "loss`: 0.86, w: tensor([[3.72]], requires_grad=True)\n",
            "loss`: 0.86, w: tensor([[3.73]], requires_grad=True)\n",
            "loss`: 0.85, w: tensor([[3.73]], requires_grad=True)\n",
            "loss`: 0.85, w: tensor([[3.74]], requires_grad=True)\n",
            "loss`: 0.85, w: tensor([[3.74]], requires_grad=True)\n",
            "loss`: 0.85, w: tensor([[3.74]], requires_grad=True)\n",
            "loss`: 0.84, w: tensor([[3.75]], requires_grad=True)\n",
            "loss`: 0.84, w: tensor([[3.75]], requires_grad=True)\n",
            "loss`: 0.84, w: tensor([[3.76]], requires_grad=True)\n",
            "loss`: 0.84, w: tensor([[3.76]], requires_grad=True)\n",
            "loss`: 0.84, w: tensor([[3.77]], requires_grad=True)\n",
            "loss`: 0.83, w: tensor([[3.77]], requires_grad=True)\n",
            "loss`: 0.83, w: tensor([[3.78]], requires_grad=True)\n",
            "loss`: 0.83, w: tensor([[3.78]], requires_grad=True)\n",
            "loss`: 0.83, w: tensor([[3.78]], requires_grad=True)\n",
            "loss`: 0.83, w: tensor([[3.79]], requires_grad=True)\n",
            "loss`: 0.83, w: tensor([[3.79]], requires_grad=True)\n",
            "loss`: 0.83, w: tensor([[3.80]], requires_grad=True)\n",
            "loss`: 0.82, w: tensor([[3.80]], requires_grad=True)\n",
            "loss`: 0.82, w: tensor([[3.80]], requires_grad=True)\n",
            "loss`: 0.82, w: tensor([[3.81]], requires_grad=True)\n",
            "loss`: 0.82, w: tensor([[3.81]], requires_grad=True)\n",
            "loss`: 0.82, w: tensor([[3.81]], requires_grad=True)\n",
            "loss`: 0.82, w: tensor([[3.82]], requires_grad=True)\n",
            "loss`: 0.82, w: tensor([[3.82]], requires_grad=True)\n",
            "loss`: 0.82, w: tensor([[3.82]], requires_grad=True)\n",
            "loss`: 0.81, w: tensor([[3.83]], requires_grad=True)\n",
            "loss`: 0.81, w: tensor([[3.83]], requires_grad=True)\n",
            "loss`: 0.81, w: tensor([[3.83]], requires_grad=True)\n",
            "loss`: 0.81, w: tensor([[3.83]], requires_grad=True)\n",
            "loss`: 0.81, w: tensor([[3.84]], requires_grad=True)\n",
            "loss`: 0.81, w: tensor([[3.84]], requires_grad=True)\n",
            "loss`: 0.81, w: tensor([[3.84]], requires_grad=True)\n",
            "loss`: 0.81, w: tensor([[3.85]], requires_grad=True)\n",
            "loss`: 0.81, w: tensor([[3.85]], requires_grad=True)\n",
            "loss`: 0.81, w: tensor([[3.85]], requires_grad=True)\n",
            "loss`: 0.81, w: tensor([[3.85]], requires_grad=True)\n",
            "loss`: 0.81, w: tensor([[3.86]], requires_grad=True)\n",
            "loss`: 0.81, w: tensor([[3.86]], requires_grad=True)\n",
            "loss`: 0.80, w: tensor([[3.86]], requires_grad=True)\n",
            "loss`: 0.80, w: tensor([[3.86]], requires_grad=True)\n",
            "loss`: 0.80, w: tensor([[3.87]], requires_grad=True)\n",
            "loss`: 0.80, w: tensor([[3.87]], requires_grad=True)\n",
            "loss`: 0.80, w: tensor([[3.87]], requires_grad=True)\n",
            "loss`: 0.80, w: tensor([[3.87]], requires_grad=True)\n",
            "loss`: 0.80, w: tensor([[3.87]], requires_grad=True)\n",
            "loss`: 0.80, w: tensor([[3.88]], requires_grad=True)\n",
            "loss`: 0.80, w: tensor([[3.88]], requires_grad=True)\n",
            "loss`: 0.80, w: tensor([[3.88]], requires_grad=True)\n",
            "loss`: 0.80, w: tensor([[3.88]], requires_grad=True)\n",
            "loss`: 0.80, w: tensor([[3.88]], requires_grad=True)\n",
            "loss`: 0.80, w: tensor([[3.89]], requires_grad=True)\n",
            "loss`: 0.80, w: tensor([[3.89]], requires_grad=True)\n",
            "loss`: 0.80, w: tensor([[3.89]], requires_grad=True)\n",
            "loss`: 0.80, w: tensor([[3.89]], requires_grad=True)\n",
            "loss`: 0.80, w: tensor([[3.89]], requires_grad=True)\n",
            "loss`: 0.80, w: tensor([[3.89]], requires_grad=True)\n",
            "loss`: 0.80, w: tensor([[3.90]], requires_grad=True)\n",
            "loss`: 0.80, w: tensor([[3.90]], requires_grad=True)\n",
            "loss`: 0.80, w: tensor([[3.90]], requires_grad=True)\n",
            "loss`: 0.80, w: tensor([[3.90]], requires_grad=True)\n",
            "loss`: 0.80, w: tensor([[3.90]], requires_grad=True)\n",
            "loss`: 0.80, w: tensor([[3.90]], requires_grad=True)\n",
            "loss`: 0.80, w: tensor([[3.91]], requires_grad=True)\n",
            "loss`: 0.80, w: tensor([[3.91]], requires_grad=True)\n",
            "loss`: 0.80, w: tensor([[3.91]], requires_grad=True)\n",
            "loss`: 0.80, w: tensor([[3.91]], requires_grad=True)\n",
            "loss`: 0.80, w: tensor([[3.91]], requires_grad=True)\n",
            "loss`: 0.80, w: tensor([[3.91]], requires_grad=True)\n",
            "loss`: 0.79, w: tensor([[3.91]], requires_grad=True)\n",
            "loss`: 0.79, w: tensor([[3.91]], requires_grad=True)\n",
            "loss`: 0.79, w: tensor([[3.92]], requires_grad=True)\n",
            "loss`: 0.79, w: tensor([[3.92]], requires_grad=True)\n",
            "loss`: 0.79, w: tensor([[3.92]], requires_grad=True)\n",
            "loss`: 0.79, w: tensor([[3.92]], requires_grad=True)\n",
            "loss`: 0.79, w: tensor([[3.92]], requires_grad=True)\n",
            "loss`: 0.79, w: tensor([[3.92]], requires_grad=True)\n",
            "loss`: 0.79, w: tensor([[3.92]], requires_grad=True)\n",
            "loss`: 0.79, w: tensor([[3.92]], requires_grad=True)\n",
            "loss`: 0.79, w: tensor([[3.93]], requires_grad=True)\n",
            "loss`: 0.79, w: tensor([[3.93]], requires_grad=True)\n",
            "loss`: 0.79, w: tensor([[3.93]], requires_grad=True)\n",
            "loss`: 0.79, w: tensor([[3.93]], requires_grad=True)\n",
            "loss`: 0.79, w: tensor([[3.93]], requires_grad=True)\n",
            "loss`: 0.79, w: tensor([[3.93]], requires_grad=True)\n",
            "loss`: 0.79, w: tensor([[3.93]], requires_grad=True)\n",
            "loss`: 0.79, w: tensor([[3.93]], requires_grad=True)\n",
            "loss`: 0.79, w: tensor([[3.93]], requires_grad=True)\n",
            "loss`: 0.79, w: tensor([[3.93]], requires_grad=True)\n",
            "loss`: 0.79, w: tensor([[3.93]], requires_grad=True)\n",
            "loss`: 0.79, w: tensor([[3.94]], requires_grad=True)\n",
            "loss`: 0.79, w: tensor([[3.94]], requires_grad=True)\n",
            "loss`: 0.79, w: tensor([[3.94]], requires_grad=True)\n",
            "loss`: 0.79, w: tensor([[3.94]], requires_grad=True)\n",
            "loss`: 0.79, w: tensor([[3.94]], requires_grad=True)\n",
            "loss`: 0.79, w: tensor([[3.94]], requires_grad=True)\n",
            "loss`: 0.79, w: tensor([[3.94]], requires_grad=True)\n",
            "loss`: 0.79, w: tensor([[3.94]], requires_grad=True)\n",
            "loss`: 0.79, w: tensor([[3.94]], requires_grad=True)\n",
            "loss`: 0.79, w: tensor([[3.94]], requires_grad=True)\n",
            "loss`: 0.79, w: tensor([[3.94]], requires_grad=True)\n",
            "loss`: 0.79, w: tensor([[3.94]], requires_grad=True)\n",
            "loss`: 0.79, w: tensor([[3.94]], requires_grad=True)\n",
            "loss`: 0.79, w: tensor([[3.94]], requires_grad=True)\n",
            "loss`: 0.79, w: tensor([[3.95]], requires_grad=True)\n",
            "loss`: 0.79, w: tensor([[3.95]], requires_grad=True)\n",
            "loss`: 0.79, w: tensor([[3.95]], requires_grad=True)\n",
            "loss`: 0.79, w: tensor([[3.95]], requires_grad=True)\n",
            "loss`: 0.79, w: tensor([[3.95]], requires_grad=True)\n",
            "loss`: 0.79, w: tensor([[3.95]], requires_grad=True)\n",
            "loss`: 0.79, w: tensor([[3.95]], requires_grad=True)\n",
            "loss`: 0.79, w: tensor([[3.95]], requires_grad=True)\n",
            "loss`: 0.79, w: tensor([[3.95]], requires_grad=True)\n",
            "loss`: 0.79, w: tensor([[3.95]], requires_grad=True)\n",
            "loss`: 0.79, w: tensor([[3.95]], requires_grad=True)\n",
            "loss`: 0.79, w: tensor([[3.95]], requires_grad=True)\n",
            "loss`: 0.79, w: tensor([[3.95]], requires_grad=True)\n",
            "loss`: 0.79, w: tensor([[3.95]], requires_grad=True)\n",
            "loss`: 0.79, w: tensor([[3.95]], requires_grad=True)\n",
            "loss`: 0.79, w: tensor([[3.95]], requires_grad=True)\n",
            "loss`: 0.79, w: tensor([[3.95]], requires_grad=True)\n",
            "loss`: 0.79, w: tensor([[3.95]], requires_grad=True)\n",
            "loss`: 0.79, w: tensor([[3.95]], requires_grad=True)\n",
            "loss`: 0.79, w: tensor([[3.96]], requires_grad=True)\n",
            "loss`: 0.79, w: tensor([[3.96]], requires_grad=True)\n",
            "loss`: 0.79, w: tensor([[3.96]], requires_grad=True)\n",
            "loss`: 0.79, w: tensor([[3.96]], requires_grad=True)\n",
            "loss`: 0.79, w: tensor([[3.96]], requires_grad=True)\n",
            "loss`: 0.79, w: tensor([[3.96]], requires_grad=True)\n",
            "loss`: 0.79, w: tensor([[3.96]], requires_grad=True)\n",
            "loss`: 0.79, w: tensor([[3.96]], requires_grad=True)\n",
            "loss`: 0.79, w: tensor([[3.96]], requires_grad=True)\n",
            "loss`: 0.79, w: tensor([[3.96]], requires_grad=True)\n",
            "loss`: 0.79, w: tensor([[3.96]], requires_grad=True)\n",
            "loss`: 0.79, w: tensor([[3.96]], requires_grad=True)\n",
            "loss`: 0.79, w: tensor([[3.96]], requires_grad=True)\n",
            "loss`: 0.79, w: tensor([[3.96]], requires_grad=True)\n",
            "loss`: 0.79, w: tensor([[3.96]], requires_grad=True)\n",
            "loss`: 0.79, w: tensor([[3.96]], requires_grad=True)\n",
            "loss`: 0.79, w: tensor([[3.96]], requires_grad=True)\n",
            "loss`: 0.79, w: tensor([[3.96]], requires_grad=True)\n",
            "loss`: 0.79, w: tensor([[3.96]], requires_grad=True)\n",
            "loss`: 0.79, w: tensor([[3.96]], requires_grad=True)\n",
            "loss`: 0.79, w: tensor([[3.96]], requires_grad=True)\n",
            "loss`: 0.79, w: tensor([[3.96]], requires_grad=True)\n",
            "loss`: 0.79, w: tensor([[3.96]], requires_grad=True)\n",
            "loss`: 0.79, w: tensor([[3.96]], requires_grad=True)\n",
            "loss`: 0.79, w: tensor([[3.96]], requires_grad=True)\n",
            "loss`: 0.79, w: tensor([[3.96]], requires_grad=True)\n",
            "loss`: 0.79, w: tensor([[3.96]], requires_grad=True)\n",
            "loss`: 0.79, w: tensor([[3.96]], requires_grad=True)\n",
            "loss`: 0.79, w: tensor([[3.96]], requires_grad=True)\n",
            "loss`: 0.79, w: tensor([[3.96]], requires_grad=True)\n",
            "loss`: 0.79, w: tensor([[3.96]], requires_grad=True)\n",
            "loss`: 0.79, w: tensor([[3.96]], requires_grad=True)\n",
            "loss`: 0.79, w: tensor([[3.96]], requires_grad=True)\n",
            "loss`: 0.79, w: tensor([[3.96]], requires_grad=True)\n",
            "loss`: 0.79, w: tensor([[3.97]], requires_grad=True)\n",
            "loss`: 0.79, w: tensor([[3.97]], requires_grad=True)\n",
            "loss`: 0.79, w: tensor([[3.97]], requires_grad=True)\n",
            "loss`: 0.79, w: tensor([[3.97]], requires_grad=True)\n",
            "loss`: 0.79, w: tensor([[3.97]], requires_grad=True)\n",
            "loss`: 0.79, w: tensor([[3.97]], requires_grad=True)\n",
            "loss`: 0.79, w: tensor([[3.97]], requires_grad=True)\n",
            "loss`: 0.79, w: tensor([[3.97]], requires_grad=True)\n",
            "loss`: 0.79, w: tensor([[3.97]], requires_grad=True)\n",
            "loss`: 0.79, w: tensor([[3.97]], requires_grad=True)\n",
            "loss`: 0.79, w: tensor([[3.97]], requires_grad=True)\n",
            "loss`: 0.79, w: tensor([[3.97]], requires_grad=True)\n",
            "loss`: 0.79, w: tensor([[3.97]], requires_grad=True)\n",
            "loss`: 0.79, w: tensor([[3.97]], requires_grad=True)\n",
            "loss`: 0.79, w: tensor([[3.97]], requires_grad=True)\n",
            "loss`: 0.79, w: tensor([[3.97]], requires_grad=True)\n",
            "loss`: 0.79, w: tensor([[3.97]], requires_grad=True)\n",
            "loss`: 0.79, w: tensor([[3.97]], requires_grad=True)\n",
            "loss`: 0.79, w: tensor([[3.97]], requires_grad=True)\n",
            "loss`: 0.79, w: tensor([[3.97]], requires_grad=True)\n",
            "loss`: 0.79, w: tensor([[3.97]], requires_grad=True)\n",
            "loss`: 0.79, w: tensor([[3.97]], requires_grad=True)\n",
            "loss`: 0.79, w: tensor([[3.97]], requires_grad=True)\n",
            "loss`: 0.79, w: tensor([[3.97]], requires_grad=True)\n",
            "loss`: 0.79, w: tensor([[3.97]], requires_grad=True)\n",
            "loss`: 0.79, w: tensor([[3.97]], requires_grad=True)\n",
            "loss`: 0.79, w: tensor([[3.97]], requires_grad=True)\n",
            "loss`: 0.79, w: tensor([[3.97]], requires_grad=True)\n",
            "loss`: 0.79, w: tensor([[3.97]], requires_grad=True)\n",
            "loss`: 0.79, w: tensor([[3.97]], requires_grad=True)\n",
            "loss`: 0.79, w: tensor([[3.97]], requires_grad=True)\n",
            "loss`: 0.79, w: tensor([[3.97]], requires_grad=True)\n",
            "loss`: 0.79, w: tensor([[3.97]], requires_grad=True)\n",
            "loss`: 0.79, w: tensor([[3.97]], requires_grad=True)\n",
            "loss`: 0.79, w: tensor([[3.97]], requires_grad=True)\n",
            "loss`: 0.79, w: tensor([[3.97]], requires_grad=True)\n",
            "loss`: 0.79, w: tensor([[3.97]], requires_grad=True)\n",
            "loss`: 0.79, w: tensor([[3.97]], requires_grad=True)\n",
            "loss`: 0.79, w: tensor([[3.97]], requires_grad=True)\n",
            "loss`: 0.79, w: tensor([[3.97]], requires_grad=True)\n",
            "loss`: 0.79, w: tensor([[3.97]], requires_grad=True)\n",
            "loss`: 0.79, w: tensor([[3.97]], requires_grad=True)\n",
            "loss`: 0.79, w: tensor([[3.97]], requires_grad=True)\n",
            "loss`: 0.79, w: tensor([[3.97]], requires_grad=True)\n",
            "loss`: 0.79, w: tensor([[3.97]], requires_grad=True)\n",
            "loss`: 0.79, w: tensor([[3.97]], requires_grad=True)\n",
            "loss`: 0.79, w: tensor([[3.97]], requires_grad=True)\n",
            "loss`: 0.79, w: tensor([[3.97]], requires_grad=True)\n",
            "loss`: 0.79, w: tensor([[3.97]], requires_grad=True)\n",
            "loss`: 0.79, w: tensor([[3.97]], requires_grad=True)\n",
            "loss`: 0.79, w: tensor([[3.97]], requires_grad=True)\n",
            "loss`: 0.79, w: tensor([[3.97]], requires_grad=True)\n",
            "loss`: 0.79, w: tensor([[3.97]], requires_grad=True)\n",
            "loss`: 0.79, w: tensor([[3.97]], requires_grad=True)\n",
            "loss`: 0.79, w: tensor([[3.97]], requires_grad=True)\n",
            "loss`: 0.79, w: tensor([[3.97]], requires_grad=True)\n",
            "loss`: 0.79, w: tensor([[3.97]], requires_grad=True)\n",
            "loss`: 0.79, w: tensor([[3.97]], requires_grad=True)\n",
            "loss`: 0.79, w: tensor([[3.97]], requires_grad=True)\n",
            "loss`: 0.79, w: tensor([[3.97]], requires_grad=True)\n",
            "loss`: 0.79, w: tensor([[3.97]], requires_grad=True)\n",
            "loss`: 0.79, w: tensor([[3.97]], requires_grad=True)\n",
            "loss`: 0.79, w: tensor([[3.97]], requires_grad=True)\n",
            "loss`: 0.79, w: tensor([[3.97]], requires_grad=True)\n",
            "loss`: 0.79, w: tensor([[3.97]], requires_grad=True)\n",
            "loss`: 0.79, w: tensor([[3.97]], requires_grad=True)\n",
            "loss`: 0.79, w: tensor([[3.97]], requires_grad=True)\n",
            "loss`: 0.79, w: tensor([[3.97]], requires_grad=True)\n",
            "loss`: 0.79, w: tensor([[3.97]], requires_grad=True)\n",
            "loss`: 0.79, w: tensor([[3.97]], requires_grad=True)\n",
            "loss`: 0.79, w: tensor([[3.97]], requires_grad=True)\n",
            "loss`: 0.79, w: tensor([[3.97]], requires_grad=True)\n",
            "loss`: 0.79, w: tensor([[3.97]], requires_grad=True)\n",
            "loss`: 0.79, w: tensor([[3.97]], requires_grad=True)\n",
            "loss`: 0.79, w: tensor([[3.97]], requires_grad=True)\n",
            "loss`: 0.79, w: tensor([[3.97]], requires_grad=True)\n",
            "loss`: 0.79, w: tensor([[3.97]], requires_grad=True)\n",
            "loss`: 0.79, w: tensor([[3.97]], requires_grad=True)\n",
            "loss`: 0.79, w: tensor([[3.97]], requires_grad=True)\n",
            "loss`: 0.79, w: tensor([[3.97]], requires_grad=True)\n",
            "loss`: 0.79, w: tensor([[3.97]], requires_grad=True)\n",
            "loss`: 0.79, w: tensor([[3.97]], requires_grad=True)\n",
            "loss`: 0.79, w: tensor([[3.97]], requires_grad=True)\n",
            "loss`: 0.79, w: tensor([[3.97]], requires_grad=True)\n",
            "loss`: 0.79, w: tensor([[3.97]], requires_grad=True)\n",
            "loss`: 0.79, w: tensor([[3.97]], requires_grad=True)\n",
            "loss`: 0.79, w: tensor([[3.97]], requires_grad=True)\n",
            "loss`: 0.79, w: tensor([[3.97]], requires_grad=True)\n",
            "loss`: 0.79, w: tensor([[3.97]], requires_grad=True)\n",
            "loss`: 0.79, w: tensor([[3.97]], requires_grad=True)\n",
            "loss`: 0.79, w: tensor([[3.97]], requires_grad=True)\n",
            "loss`: 0.79, w: tensor([[3.97]], requires_grad=True)\n",
            "loss`: 0.79, w: tensor([[3.97]], requires_grad=True)\n",
            "loss`: 0.79, w: tensor([[3.97]], requires_grad=True)\n",
            "loss`: 0.79, w: tensor([[3.97]], requires_grad=True)\n",
            "loss`: 0.79, w: tensor([[3.97]], requires_grad=True)\n",
            "loss`: 0.79, w: tensor([[3.97]], requires_grad=True)\n",
            "loss`: 0.79, w: tensor([[3.97]], requires_grad=True)\n",
            "loss`: 0.79, w: tensor([[3.97]], requires_grad=True)\n",
            "loss`: 0.79, w: tensor([[3.97]], requires_grad=True)\n",
            "loss`: 0.79, w: tensor([[3.97]], requires_grad=True)\n",
            "loss`: 0.79, w: tensor([[3.97]], requires_grad=True)\n",
            "loss`: 0.79, w: tensor([[3.97]], requires_grad=True)\n",
            "loss`: 0.79, w: tensor([[3.97]], requires_grad=True)\n",
            "loss`: 0.79, w: tensor([[3.97]], requires_grad=True)\n",
            "loss`: 0.79, w: tensor([[3.97]], requires_grad=True)\n",
            "loss`: 0.79, w: tensor([[3.97]], requires_grad=True)\n",
            "loss`: 0.79, w: tensor([[3.97]], requires_grad=True)\n",
            "loss`: 0.79, w: tensor([[3.97]], requires_grad=True)\n",
            "loss`: 0.79, w: tensor([[3.97]], requires_grad=True)\n",
            "loss`: 0.79, w: tensor([[3.97]], requires_grad=True)\n",
            "loss`: 0.79, w: tensor([[3.97]], requires_grad=True)\n",
            "loss`: 0.79, w: tensor([[3.97]], requires_grad=True)\n",
            "loss`: 0.79, w: tensor([[3.97]], requires_grad=True)\n",
            "loss`: 0.79, w: tensor([[3.97]], requires_grad=True)\n",
            "loss`: 0.79, w: tensor([[3.97]], requires_grad=True)\n",
            "loss`: 0.79, w: tensor([[3.97]], requires_grad=True)\n",
            "loss`: 0.79, w: tensor([[3.97]], requires_grad=True)\n",
            "loss`: 0.79, w: tensor([[3.97]], requires_grad=True)\n",
            "loss`: 0.79, w: tensor([[3.97]], requires_grad=True)\n",
            "loss`: 0.79, w: tensor([[3.97]], requires_grad=True)\n",
            "loss`: 0.79, w: tensor([[3.97]], requires_grad=True)\n",
            "loss`: 0.79, w: tensor([[3.97]], requires_grad=True)\n",
            "loss`: 0.79, w: tensor([[3.97]], requires_grad=True)\n",
            "loss`: 0.79, w: tensor([[3.97]], requires_grad=True)\n",
            "loss`: 0.79, w: tensor([[3.97]], requires_grad=True)\n",
            "loss`: 0.79, w: tensor([[3.97]], requires_grad=True)\n",
            "loss`: 0.79, w: tensor([[3.97]], requires_grad=True)\n",
            "loss`: 0.79, w: tensor([[3.97]], requires_grad=True)\n",
            "loss`: 0.79, w: tensor([[3.97]], requires_grad=True)\n",
            "loss`: 0.79, w: tensor([[3.97]], requires_grad=True)\n",
            "loss`: 0.79, w: tensor([[3.97]], requires_grad=True)\n",
            "loss`: 0.79, w: tensor([[3.97]], requires_grad=True)\n",
            "loss`: 0.79, w: tensor([[3.97]], requires_grad=True)\n",
            "loss`: 0.79, w: tensor([[3.97]], requires_grad=True)\n",
            "loss`: 0.79, w: tensor([[3.97]], requires_grad=True)\n",
            "loss`: 0.79, w: tensor([[3.97]], requires_grad=True)\n",
            "loss`: 0.79, w: tensor([[3.97]], requires_grad=True)\n",
            "loss`: 0.79, w: tensor([[3.97]], requires_grad=True)\n",
            "loss`: 0.79, w: tensor([[3.97]], requires_grad=True)\n",
            "loss`: 0.79, w: tensor([[3.97]], requires_grad=True)\n",
            "loss`: 0.79, w: tensor([[3.97]], requires_grad=True)\n",
            "loss`: 0.79, w: tensor([[3.97]], requires_grad=True)\n",
            "loss`: 0.79, w: tensor([[3.97]], requires_grad=True)\n",
            "loss`: 0.79, w: tensor([[3.97]], requires_grad=True)\n",
            "loss`: 0.79, w: tensor([[3.97]], requires_grad=True)\n",
            "loss`: 0.79, w: tensor([[3.97]], requires_grad=True)\n",
            "loss`: 0.79, w: tensor([[3.97]], requires_grad=True)\n",
            "loss`: 0.79, w: tensor([[3.97]], requires_grad=True)\n",
            "loss`: 0.79, w: tensor([[3.97]], requires_grad=True)\n",
            "loss`: 0.79, w: tensor([[3.97]], requires_grad=True)\n",
            "loss`: 0.79, w: tensor([[3.97]], requires_grad=True)\n",
            "loss`: 0.79, w: tensor([[3.97]], requires_grad=True)\n",
            "loss`: 0.79, w: tensor([[3.97]], requires_grad=True)\n",
            "loss`: 0.79, w: tensor([[3.97]], requires_grad=True)\n",
            "loss`: 0.79, w: tensor([[3.97]], requires_grad=True)\n",
            "loss`: 0.79, w: tensor([[3.97]], requires_grad=True)\n",
            "loss`: 0.79, w: tensor([[3.97]], requires_grad=True)\n",
            "loss`: 0.79, w: tensor([[3.97]], requires_grad=True)\n",
            "loss`: 0.79, w: tensor([[3.97]], requires_grad=True)\n",
            "loss`: 0.79, w: tensor([[3.97]], requires_grad=True)\n",
            "loss`: 0.79, w: tensor([[3.97]], requires_grad=True)\n",
            "loss`: 0.79, w: tensor([[3.97]], requires_grad=True)\n",
            "loss`: 0.79, w: tensor([[3.97]], requires_grad=True)\n",
            "loss`: 0.79, w: tensor([[3.97]], requires_grad=True)\n",
            "loss`: 0.79, w: tensor([[3.97]], requires_grad=True)\n",
            "loss`: 0.79, w: tensor([[3.97]], requires_grad=True)\n",
            "loss`: 0.79, w: tensor([[3.97]], requires_grad=True)\n",
            "loss`: 0.79, w: tensor([[3.97]], requires_grad=True)\n",
            "loss`: 0.79, w: tensor([[3.97]], requires_grad=True)\n",
            "loss`: 0.79, w: tensor([[3.97]], requires_grad=True)\n",
            "loss`: 0.79, w: tensor([[3.97]], requires_grad=True)\n",
            "loss`: 0.79, w: tensor([[3.97]], requires_grad=True)\n",
            "loss`: 0.79, w: tensor([[3.97]], requires_grad=True)\n",
            "loss`: 0.79, w: tensor([[3.97]], requires_grad=True)\n",
            "loss`: 0.79, w: tensor([[3.97]], requires_grad=True)\n",
            "loss`: 0.79, w: tensor([[3.97]], requires_grad=True)\n",
            "loss`: 0.79, w: tensor([[3.97]], requires_grad=True)\n",
            "loss`: 0.79, w: tensor([[3.97]], requires_grad=True)\n",
            "loss`: 0.79, w: tensor([[3.97]], requires_grad=True)\n",
            "loss`: 0.79, w: tensor([[3.97]], requires_grad=True)\n",
            "loss`: 0.79, w: tensor([[3.97]], requires_grad=True)\n",
            "loss`: 0.79, w: tensor([[3.97]], requires_grad=True)\n",
            "loss`: 0.79, w: tensor([[3.97]], requires_grad=True)\n",
            "loss`: 0.79, w: tensor([[3.97]], requires_grad=True)\n",
            "loss`: 0.79, w: tensor([[3.97]], requires_grad=True)\n",
            "loss`: 0.79, w: tensor([[3.97]], requires_grad=True)\n",
            "loss`: 0.79, w: tensor([[3.97]], requires_grad=True)\n",
            "loss`: 0.79, w: tensor([[3.97]], requires_grad=True)\n",
            "loss`: 0.79, w: tensor([[3.97]], requires_grad=True)\n",
            "loss`: 0.79, w: tensor([[3.97]], requires_grad=True)\n",
            "loss`: 0.79, w: tensor([[3.97]], requires_grad=True)\n",
            "loss`: 0.79, w: tensor([[3.97]], requires_grad=True)\n",
            "loss`: 0.79, w: tensor([[3.97]], requires_grad=True)\n",
            "loss`: 0.79, w: tensor([[3.98]], requires_grad=True)\n",
            "loss`: 0.79, w: tensor([[3.98]], requires_grad=True)\n",
            "loss`: 0.79, w: tensor([[3.98]], requires_grad=True)\n",
            "loss`: 0.79, w: tensor([[3.98]], requires_grad=True)\n",
            "loss`: 0.79, w: tensor([[3.98]], requires_grad=True)\n",
            "loss`: 0.79, w: tensor([[3.98]], requires_grad=True)\n",
            "loss`: 0.79, w: tensor([[3.98]], requires_grad=True)\n",
            "loss`: 0.79, w: tensor([[3.98]], requires_grad=True)\n",
            "loss`: 0.79, w: tensor([[3.98]], requires_grad=True)\n",
            "loss`: 0.79, w: tensor([[3.98]], requires_grad=True)\n",
            "loss`: 0.79, w: tensor([[3.98]], requires_grad=True)\n",
            "loss`: 0.79, w: tensor([[3.98]], requires_grad=True)\n",
            "loss`: 0.79, w: tensor([[3.98]], requires_grad=True)\n",
            "loss`: 0.79, w: tensor([[3.98]], requires_grad=True)\n",
            "loss`: 0.79, w: tensor([[3.98]], requires_grad=True)\n",
            "loss`: 0.79, w: tensor([[3.98]], requires_grad=True)\n",
            "loss`: 0.79, w: tensor([[3.98]], requires_grad=True)\n",
            "loss`: 0.79, w: tensor([[3.98]], requires_grad=True)\n",
            "loss`: 0.79, w: tensor([[3.98]], requires_grad=True)\n",
            "loss`: 0.79, w: tensor([[3.98]], requires_grad=True)\n",
            "loss`: 0.79, w: tensor([[3.98]], requires_grad=True)\n",
            "loss`: 0.79, w: tensor([[3.98]], requires_grad=True)\n",
            "loss`: 0.79, w: tensor([[3.98]], requires_grad=True)\n",
            "loss`: 0.79, w: tensor([[3.98]], requires_grad=True)\n",
            "loss`: 0.79, w: tensor([[3.98]], requires_grad=True)\n",
            "loss`: 0.79, w: tensor([[3.98]], requires_grad=True)\n",
            "loss`: 0.79, w: tensor([[3.98]], requires_grad=True)\n",
            "loss`: 0.79, w: tensor([[3.98]], requires_grad=True)\n",
            "loss`: 0.79, w: tensor([[3.98]], requires_grad=True)\n",
            "loss`: 0.79, w: tensor([[3.98]], requires_grad=True)\n",
            "loss`: 0.79, w: tensor([[3.98]], requires_grad=True)\n",
            "loss`: 0.79, w: tensor([[3.98]], requires_grad=True)\n",
            "loss`: 0.79, w: tensor([[3.98]], requires_grad=True)\n",
            "loss`: 0.79, w: tensor([[3.98]], requires_grad=True)\n",
            "loss`: 0.79, w: tensor([[3.98]], requires_grad=True)\n",
            "loss`: 0.79, w: tensor([[3.98]], requires_grad=True)\n",
            "loss`: 0.79, w: tensor([[3.98]], requires_grad=True)\n",
            "loss`: 0.79, w: tensor([[3.98]], requires_grad=True)\n",
            "loss`: 0.79, w: tensor([[3.98]], requires_grad=True)\n",
            "loss`: 0.79, w: tensor([[3.98]], requires_grad=True)\n",
            "loss`: 0.79, w: tensor([[3.98]], requires_grad=True)\n",
            "loss`: 0.79, w: tensor([[3.98]], requires_grad=True)\n",
            "loss`: 0.79, w: tensor([[3.98]], requires_grad=True)\n",
            "loss`: 0.79, w: tensor([[3.98]], requires_grad=True)\n",
            "loss`: 0.79, w: tensor([[3.98]], requires_grad=True)\n",
            "loss`: 0.79, w: tensor([[3.98]], requires_grad=True)\n",
            "loss`: 0.79, w: tensor([[3.98]], requires_grad=True)\n",
            "loss`: 0.79, w: tensor([[3.98]], requires_grad=True)\n",
            "loss`: 0.79, w: tensor([[3.98]], requires_grad=True)\n",
            "loss`: 0.79, w: tensor([[3.98]], requires_grad=True)\n",
            "loss`: 0.79, w: tensor([[3.98]], requires_grad=True)\n",
            "loss`: 0.79, w: tensor([[3.98]], requires_grad=True)\n",
            "loss`: 0.79, w: tensor([[3.98]], requires_grad=True)\n",
            "loss`: 0.79, w: tensor([[3.98]], requires_grad=True)\n",
            "loss`: 0.79, w: tensor([[3.98]], requires_grad=True)\n",
            "loss`: 0.79, w: tensor([[3.98]], requires_grad=True)\n",
            "loss`: 0.79, w: tensor([[3.98]], requires_grad=True)\n",
            "loss`: 0.79, w: tensor([[3.98]], requires_grad=True)\n",
            "loss`: 0.79, w: tensor([[3.98]], requires_grad=True)\n",
            "loss`: 0.79, w: tensor([[3.98]], requires_grad=True)\n",
            "loss`: 0.79, w: tensor([[3.98]], requires_grad=True)\n",
            "loss`: 0.79, w: tensor([[3.98]], requires_grad=True)\n",
            "loss`: 0.79, w: tensor([[3.98]], requires_grad=True)\n",
            "loss`: 0.79, w: tensor([[3.98]], requires_grad=True)\n",
            "loss`: 0.79, w: tensor([[3.98]], requires_grad=True)\n",
            "loss`: 0.79, w: tensor([[3.98]], requires_grad=True)\n",
            "loss`: 0.79, w: tensor([[3.98]], requires_grad=True)\n",
            "loss`: 0.79, w: tensor([[3.98]], requires_grad=True)\n",
            "loss`: 0.79, w: tensor([[3.98]], requires_grad=True)\n",
            "loss`: 0.79, w: tensor([[3.98]], requires_grad=True)\n",
            "loss`: 0.79, w: tensor([[3.98]], requires_grad=True)\n",
            "loss`: 0.79, w: tensor([[3.98]], requires_grad=True)\n",
            "loss`: 0.79, w: tensor([[3.98]], requires_grad=True)\n",
            "loss`: 0.79, w: tensor([[3.98]], requires_grad=True)\n",
            "loss`: 0.79, w: tensor([[3.98]], requires_grad=True)\n",
            "loss`: 0.79, w: tensor([[3.98]], requires_grad=True)\n",
            "loss`: 0.79, w: tensor([[3.98]], requires_grad=True)\n",
            "loss`: 0.79, w: tensor([[3.98]], requires_grad=True)\n",
            "loss`: 0.79, w: tensor([[3.98]], requires_grad=True)\n",
            "loss`: 0.79, w: tensor([[3.98]], requires_grad=True)\n",
            "loss`: 0.79, w: tensor([[3.98]], requires_grad=True)\n",
            "loss`: 0.79, w: tensor([[3.98]], requires_grad=True)\n",
            "loss`: 0.79, w: tensor([[3.98]], requires_grad=True)\n",
            "loss`: 0.79, w: tensor([[3.98]], requires_grad=True)\n",
            "loss`: 0.79, w: tensor([[3.98]], requires_grad=True)\n",
            "loss`: 0.79, w: tensor([[3.98]], requires_grad=True)\n",
            "loss`: 0.79, w: tensor([[3.98]], requires_grad=True)\n",
            "loss`: 0.79, w: tensor([[3.98]], requires_grad=True)\n",
            "loss`: 0.79, w: tensor([[3.98]], requires_grad=True)\n",
            "loss`: 0.79, w: tensor([[3.98]], requires_grad=True)\n",
            "loss`: 0.79, w: tensor([[3.98]], requires_grad=True)\n",
            "loss`: 0.79, w: tensor([[3.98]], requires_grad=True)\n",
            "loss`: 0.79, w: tensor([[3.98]], requires_grad=True)\n",
            "loss`: 0.79, w: tensor([[3.98]], requires_grad=True)\n",
            "loss`: 0.79, w: tensor([[3.98]], requires_grad=True)\n",
            "loss`: 0.79, w: tensor([[3.98]], requires_grad=True)\n",
            "loss`: 0.79, w: tensor([[3.98]], requires_grad=True)\n",
            "loss`: 0.79, w: tensor([[3.98]], requires_grad=True)\n",
            "loss`: 0.79, w: tensor([[3.98]], requires_grad=True)\n",
            "loss`: 0.79, w: tensor([[3.98]], requires_grad=True)\n",
            "loss`: 0.79, w: tensor([[3.98]], requires_grad=True)\n",
            "loss`: 0.79, w: tensor([[3.98]], requires_grad=True)\n",
            "loss`: 0.79, w: tensor([[3.98]], requires_grad=True)\n",
            "loss`: 0.79, w: tensor([[3.98]], requires_grad=True)\n",
            "loss`: 0.79, w: tensor([[3.98]], requires_grad=True)\n",
            "loss`: 0.79, w: tensor([[3.98]], requires_grad=True)\n",
            "loss`: 0.79, w: tensor([[3.98]], requires_grad=True)\n",
            "loss`: 0.79, w: tensor([[3.98]], requires_grad=True)\n",
            "loss`: 0.79, w: tensor([[3.98]], requires_grad=True)\n",
            "loss`: 0.79, w: tensor([[3.98]], requires_grad=True)\n",
            "loss`: 0.79, w: tensor([[3.98]], requires_grad=True)\n",
            "loss`: 0.79, w: tensor([[3.98]], requires_grad=True)\n",
            "loss`: 0.79, w: tensor([[3.98]], requires_grad=True)\n",
            "loss`: 0.79, w: tensor([[3.98]], requires_grad=True)\n",
            "loss`: 0.79, w: tensor([[3.98]], requires_grad=True)\n",
            "loss`: 0.79, w: tensor([[3.98]], requires_grad=True)\n",
            "loss`: 0.79, w: tensor([[3.98]], requires_grad=True)\n",
            "loss`: 0.79, w: tensor([[3.98]], requires_grad=True)\n",
            "loss`: 0.79, w: tensor([[3.98]], requires_grad=True)\n",
            "loss`: 0.79, w: tensor([[3.98]], requires_grad=True)\n",
            "loss`: 0.79, w: tensor([[3.98]], requires_grad=True)\n",
            "loss`: 0.79, w: tensor([[3.98]], requires_grad=True)\n",
            "loss`: 0.79, w: tensor([[3.98]], requires_grad=True)\n",
            "loss`: 0.79, w: tensor([[3.98]], requires_grad=True)\n",
            "loss`: 0.79, w: tensor([[3.98]], requires_grad=True)\n",
            "loss`: 0.79, w: tensor([[3.98]], requires_grad=True)\n",
            "loss`: 0.79, w: tensor([[3.98]], requires_grad=True)\n",
            "loss`: 0.79, w: tensor([[3.98]], requires_grad=True)\n",
            "loss`: 0.79, w: tensor([[3.98]], requires_grad=True)\n",
            "loss`: 0.79, w: tensor([[3.98]], requires_grad=True)\n",
            "loss`: 0.79, w: tensor([[3.98]], requires_grad=True)\n",
            "loss`: 0.79, w: tensor([[3.98]], requires_grad=True)\n",
            "loss`: 0.79, w: tensor([[3.98]], requires_grad=True)\n",
            "loss`: 0.79, w: tensor([[3.98]], requires_grad=True)\n",
            "loss`: 0.79, w: tensor([[3.98]], requires_grad=True)\n",
            "loss`: 0.79, w: tensor([[3.98]], requires_grad=True)\n",
            "loss`: 0.79, w: tensor([[3.98]], requires_grad=True)\n",
            "loss`: 0.79, w: tensor([[3.98]], requires_grad=True)\n",
            "loss`: 0.79, w: tensor([[3.98]], requires_grad=True)\n",
            "loss`: 0.79, w: tensor([[3.98]], requires_grad=True)\n",
            "loss`: 0.79, w: tensor([[3.98]], requires_grad=True)\n",
            "loss`: 0.79, w: tensor([[3.98]], requires_grad=True)\n",
            "loss`: 0.79, w: tensor([[3.98]], requires_grad=True)\n",
            "loss`: 0.79, w: tensor([[3.98]], requires_grad=True)\n",
            "loss`: 0.79, w: tensor([[3.98]], requires_grad=True)\n",
            "loss`: 0.79, w: tensor([[3.98]], requires_grad=True)\n",
            "loss`: 0.79, w: tensor([[3.98]], requires_grad=True)\n",
            "loss`: 0.79, w: tensor([[3.98]], requires_grad=True)\n",
            "loss`: 0.79, w: tensor([[3.98]], requires_grad=True)\n",
            "loss`: 0.79, w: tensor([[3.98]], requires_grad=True)\n",
            "loss`: 0.79, w: tensor([[3.98]], requires_grad=True)\n",
            "loss`: 0.79, w: tensor([[3.98]], requires_grad=True)\n",
            "loss`: 0.79, w: tensor([[3.98]], requires_grad=True)\n",
            "loss`: 0.79, w: tensor([[3.98]], requires_grad=True)\n",
            "loss`: 0.79, w: tensor([[3.98]], requires_grad=True)\n",
            "loss`: 0.79, w: tensor([[3.98]], requires_grad=True)\n",
            "loss`: 0.79, w: tensor([[3.98]], requires_grad=True)\n",
            "loss`: 0.79, w: tensor([[3.98]], requires_grad=True)\n",
            "loss`: 0.79, w: tensor([[3.98]], requires_grad=True)\n",
            "loss`: 0.79, w: tensor([[3.98]], requires_grad=True)\n",
            "loss`: 0.79, w: tensor([[3.98]], requires_grad=True)\n",
            "loss`: 0.79, w: tensor([[3.98]], requires_grad=True)\n",
            "loss`: 0.79, w: tensor([[3.98]], requires_grad=True)\n",
            "loss`: 0.79, w: tensor([[3.98]], requires_grad=True)\n",
            "loss`: 0.79, w: tensor([[3.98]], requires_grad=True)\n",
            "loss`: 0.79, w: tensor([[3.98]], requires_grad=True)\n",
            "loss`: 0.79, w: tensor([[3.98]], requires_grad=True)\n",
            "loss`: 0.79, w: tensor([[3.98]], requires_grad=True)\n",
            "loss`: 0.79, w: tensor([[3.98]], requires_grad=True)\n",
            "loss`: 0.79, w: tensor([[3.98]], requires_grad=True)\n",
            "loss`: 0.79, w: tensor([[3.98]], requires_grad=True)\n",
            "loss`: 0.79, w: tensor([[3.98]], requires_grad=True)\n",
            "loss`: 0.79, w: tensor([[3.98]], requires_grad=True)\n",
            "loss`: 0.79, w: tensor([[3.98]], requires_grad=True)\n",
            "loss`: 0.79, w: tensor([[3.98]], requires_grad=True)\n",
            "loss`: 0.79, w: tensor([[3.98]], requires_grad=True)\n",
            "loss`: 0.79, w: tensor([[3.98]], requires_grad=True)\n",
            "loss`: 0.79, w: tensor([[3.98]], requires_grad=True)\n",
            "loss`: 0.79, w: tensor([[3.98]], requires_grad=True)\n",
            "loss`: 0.79, w: tensor([[3.98]], requires_grad=True)\n",
            "loss`: 0.79, w: tensor([[3.98]], requires_grad=True)\n",
            "loss`: 0.79, w: tensor([[3.98]], requires_grad=True)\n",
            "loss`: 0.79, w: tensor([[3.98]], requires_grad=True)\n",
            "loss`: 0.79, w: tensor([[3.98]], requires_grad=True)\n",
            "loss`: 0.79, w: tensor([[3.98]], requires_grad=True)\n",
            "loss`: 0.79, w: tensor([[3.98]], requires_grad=True)\n",
            "loss`: 0.79, w: tensor([[3.98]], requires_grad=True)\n",
            "loss`: 0.79, w: tensor([[3.98]], requires_grad=True)\n",
            "loss`: 0.79, w: tensor([[3.98]], requires_grad=True)\n",
            "loss`: 0.79, w: tensor([[3.98]], requires_grad=True)\n",
            "loss`: 0.79, w: tensor([[3.98]], requires_grad=True)\n",
            "loss`: 0.79, w: tensor([[3.98]], requires_grad=True)\n",
            "loss`: 0.79, w: tensor([[3.98]], requires_grad=True)\n",
            "loss`: 0.79, w: tensor([[3.98]], requires_grad=True)\n",
            "loss`: 0.79, w: tensor([[3.98]], requires_grad=True)\n",
            "loss`: 0.79, w: tensor([[3.98]], requires_grad=True)\n",
            "loss`: 0.79, w: tensor([[3.98]], requires_grad=True)\n",
            "loss`: 0.79, w: tensor([[3.98]], requires_grad=True)\n",
            "loss`: 0.79, w: tensor([[3.98]], requires_grad=True)\n",
            "loss`: 0.79, w: tensor([[3.98]], requires_grad=True)\n",
            "loss`: 0.79, w: tensor([[3.98]], requires_grad=True)\n",
            "loss`: 0.79, w: tensor([[3.98]], requires_grad=True)\n",
            "loss`: 0.79, w: tensor([[3.98]], requires_grad=True)\n",
            "loss`: 0.79, w: tensor([[3.98]], requires_grad=True)\n",
            "loss`: 0.79, w: tensor([[3.98]], requires_grad=True)\n",
            "loss`: 0.79, w: tensor([[3.98]], requires_grad=True)\n",
            "loss`: 0.79, w: tensor([[3.98]], requires_grad=True)\n",
            "loss`: 0.79, w: tensor([[3.98]], requires_grad=True)\n",
            "loss`: 0.79, w: tensor([[3.98]], requires_grad=True)\n",
            "loss`: 0.79, w: tensor([[3.98]], requires_grad=True)\n",
            "loss`: 0.79, w: tensor([[3.98]], requires_grad=True)\n",
            "loss`: 0.79, w: tensor([[3.98]], requires_grad=True)\n",
            "loss`: 0.79, w: tensor([[3.98]], requires_grad=True)\n",
            "loss`: 0.79, w: tensor([[3.98]], requires_grad=True)\n",
            "loss`: 0.79, w: tensor([[3.98]], requires_grad=True)\n",
            "loss`: 0.79, w: tensor([[3.98]], requires_grad=True)\n",
            "loss`: 0.79, w: tensor([[3.98]], requires_grad=True)\n",
            "loss`: 0.79, w: tensor([[3.98]], requires_grad=True)\n",
            "loss`: 0.79, w: tensor([[3.98]], requires_grad=True)\n",
            "loss`: 0.79, w: tensor([[3.98]], requires_grad=True)\n",
            "loss`: 0.79, w: tensor([[3.98]], requires_grad=True)\n",
            "loss`: 0.79, w: tensor([[3.98]], requires_grad=True)\n",
            "loss`: 0.79, w: tensor([[3.98]], requires_grad=True)\n",
            "loss`: 0.79, w: tensor([[3.98]], requires_grad=True)\n",
            "loss`: 0.79, w: tensor([[3.98]], requires_grad=True)\n",
            "loss`: 0.79, w: tensor([[3.98]], requires_grad=True)\n",
            "loss`: 0.79, w: tensor([[3.98]], requires_grad=True)\n",
            "loss`: 0.79, w: tensor([[3.98]], requires_grad=True)\n",
            "loss`: 0.79, w: tensor([[3.98]], requires_grad=True)\n",
            "loss`: 0.79, w: tensor([[3.98]], requires_grad=True)\n",
            "loss`: 0.79, w: tensor([[3.98]], requires_grad=True)\n",
            "loss`: 0.79, w: tensor([[3.98]], requires_grad=True)\n",
            "loss`: 0.79, w: tensor([[3.98]], requires_grad=True)\n",
            "loss`: 0.79, w: tensor([[3.98]], requires_grad=True)\n",
            "loss`: 0.79, w: tensor([[3.98]], requires_grad=True)\n",
            "loss`: 0.79, w: tensor([[3.98]], requires_grad=True)\n",
            "loss`: 0.79, w: tensor([[3.98]], requires_grad=True)\n",
            "loss`: 0.79, w: tensor([[3.98]], requires_grad=True)\n",
            "loss`: 0.79, w: tensor([[3.98]], requires_grad=True)\n",
            "loss`: 0.79, w: tensor([[3.98]], requires_grad=True)\n",
            "loss`: 0.79, w: tensor([[3.98]], requires_grad=True)\n",
            "loss`: 0.79, w: tensor([[3.98]], requires_grad=True)\n",
            "loss`: 0.79, w: tensor([[3.98]], requires_grad=True)\n",
            "loss`: 0.79, w: tensor([[3.98]], requires_grad=True)\n",
            "loss`: 0.79, w: tensor([[3.98]], requires_grad=True)\n",
            "loss`: 0.79, w: tensor([[3.98]], requires_grad=True)\n",
            "loss`: 0.79, w: tensor([[3.98]], requires_grad=True)\n",
            "loss`: 0.79, w: tensor([[3.98]], requires_grad=True)\n",
            "loss`: 0.79, w: tensor([[3.98]], requires_grad=True)\n",
            "loss`: 0.79, w: tensor([[3.98]], requires_grad=True)\n",
            "loss`: 0.79, w: tensor([[3.98]], requires_grad=True)\n",
            "loss`: 0.79, w: tensor([[3.98]], requires_grad=True)\n",
            "loss`: 0.79, w: tensor([[3.98]], requires_grad=True)\n",
            "loss`: 0.79, w: tensor([[3.98]], requires_grad=True)\n",
            "loss`: 0.79, w: tensor([[3.98]], requires_grad=True)\n",
            "loss`: 0.79, w: tensor([[3.98]], requires_grad=True)\n",
            "loss`: 0.79, w: tensor([[3.98]], requires_grad=True)\n",
            "loss`: 0.79, w: tensor([[3.98]], requires_grad=True)\n",
            "loss`: 0.79, w: tensor([[3.98]], requires_grad=True)\n",
            "loss`: 0.79, w: tensor([[3.98]], requires_grad=True)\n",
            "loss`: 0.79, w: tensor([[3.98]], requires_grad=True)\n",
            "loss`: 0.79, w: tensor([[3.98]], requires_grad=True)\n",
            "loss`: 0.79, w: tensor([[3.98]], requires_grad=True)\n",
            "loss`: 0.79, w: tensor([[3.98]], requires_grad=True)\n",
            "loss`: 0.79, w: tensor([[3.98]], requires_grad=True)\n",
            "loss`: 0.79, w: tensor([[3.98]], requires_grad=True)\n",
            "loss`: 0.79, w: tensor([[3.98]], requires_grad=True)\n",
            "loss`: 0.79, w: tensor([[3.98]], requires_grad=True)\n",
            "loss`: 0.79, w: tensor([[3.98]], requires_grad=True)\n",
            "loss`: 0.79, w: tensor([[3.98]], requires_grad=True)\n",
            "loss`: 0.79, w: tensor([[3.98]], requires_grad=True)\n",
            "loss`: 0.79, w: tensor([[3.98]], requires_grad=True)\n",
            "loss`: 0.79, w: tensor([[3.98]], requires_grad=True)\n",
            "loss`: 0.79, w: tensor([[3.98]], requires_grad=True)\n",
            "loss`: 0.79, w: tensor([[3.98]], requires_grad=True)\n",
            "loss`: 0.79, w: tensor([[3.98]], requires_grad=True)\n",
            "loss`: 0.79, w: tensor([[3.98]], requires_grad=True)\n",
            "loss`: 0.79, w: tensor([[3.98]], requires_grad=True)\n",
            "loss`: 0.79, w: tensor([[3.98]], requires_grad=True)\n",
            "loss`: 0.79, w: tensor([[3.98]], requires_grad=True)\n",
            "loss`: 0.79, w: tensor([[3.98]], requires_grad=True)\n",
            "loss`: 0.79, w: tensor([[3.98]], requires_grad=True)\n",
            "loss`: 0.79, w: tensor([[3.98]], requires_grad=True)\n",
            "loss`: 0.79, w: tensor([[3.98]], requires_grad=True)\n",
            "loss`: 0.79, w: tensor([[3.98]], requires_grad=True)\n",
            "loss`: 0.79, w: tensor([[3.98]], requires_grad=True)\n",
            "loss`: 0.79, w: tensor([[3.98]], requires_grad=True)\n",
            "loss`: 0.79, w: tensor([[3.98]], requires_grad=True)\n",
            "loss`: 0.79, w: tensor([[3.98]], requires_grad=True)\n",
            "loss`: 0.79, w: tensor([[3.98]], requires_grad=True)\n",
            "loss`: 0.79, w: tensor([[3.98]], requires_grad=True)\n",
            "loss`: 0.79, w: tensor([[3.98]], requires_grad=True)\n",
            "loss`: 0.79, w: tensor([[3.98]], requires_grad=True)\n",
            "loss`: 0.79, w: tensor([[3.98]], requires_grad=True)\n",
            "loss`: 0.79, w: tensor([[3.98]], requires_grad=True)\n",
            "loss`: 0.79, w: tensor([[3.98]], requires_grad=True)\n",
            "loss`: 0.79, w: tensor([[3.98]], requires_grad=True)\n",
            "loss`: 0.79, w: tensor([[3.98]], requires_grad=True)\n",
            "loss`: 0.79, w: tensor([[3.98]], requires_grad=True)\n",
            "loss`: 0.79, w: tensor([[3.98]], requires_grad=True)\n",
            "loss`: 0.79, w: tensor([[3.98]], requires_grad=True)\n",
            "loss`: 0.79, w: tensor([[3.98]], requires_grad=True)\n",
            "loss`: 0.79, w: tensor([[3.98]], requires_grad=True)\n",
            "loss`: 0.79, w: tensor([[3.98]], requires_grad=True)\n",
            "loss`: 0.79, w: tensor([[3.98]], requires_grad=True)\n",
            "loss`: 0.79, w: tensor([[3.98]], requires_grad=True)\n",
            "loss`: 0.79, w: tensor([[3.98]], requires_grad=True)\n",
            "loss`: 0.79, w: tensor([[3.98]], requires_grad=True)\n",
            "loss`: 0.79, w: tensor([[3.98]], requires_grad=True)\n",
            "loss`: 0.79, w: tensor([[3.98]], requires_grad=True)\n",
            "loss`: 0.79, w: tensor([[3.98]], requires_grad=True)\n",
            "loss`: 0.79, w: tensor([[3.98]], requires_grad=True)\n",
            "loss`: 0.79, w: tensor([[3.98]], requires_grad=True)\n",
            "loss`: 0.79, w: tensor([[3.98]], requires_grad=True)\n",
            "loss`: 0.79, w: tensor([[3.98]], requires_grad=True)\n",
            "loss`: 0.79, w: tensor([[3.98]], requires_grad=True)\n",
            "loss`: 0.79, w: tensor([[3.98]], requires_grad=True)\n",
            "loss`: 0.79, w: tensor([[3.98]], requires_grad=True)\n",
            "loss`: 0.79, w: tensor([[3.98]], requires_grad=True)\n",
            "loss`: 0.79, w: tensor([[3.98]], requires_grad=True)\n",
            "loss`: 0.79, w: tensor([[3.98]], requires_grad=True)\n",
            "loss`: 0.79, w: tensor([[3.98]], requires_grad=True)\n",
            "loss`: 0.79, w: tensor([[3.98]], requires_grad=True)\n",
            "loss`: 0.79, w: tensor([[3.98]], requires_grad=True)\n",
            "loss`: 0.79, w: tensor([[3.98]], requires_grad=True)\n",
            "loss`: 0.79, w: tensor([[3.98]], requires_grad=True)\n",
            "loss`: 0.79, w: tensor([[3.98]], requires_grad=True)\n",
            "loss`: 0.79, w: tensor([[3.98]], requires_grad=True)\n",
            "loss`: 0.79, w: tensor([[3.98]], requires_grad=True)\n",
            "loss`: 0.79, w: tensor([[3.98]], requires_grad=True)\n",
            "loss`: 0.79, w: tensor([[3.98]], requires_grad=True)\n",
            "loss`: 0.79, w: tensor([[3.98]], requires_grad=True)\n",
            "loss`: 0.79, w: tensor([[3.98]], requires_grad=True)\n",
            "loss`: 0.79, w: tensor([[3.98]], requires_grad=True)\n",
            "loss`: 0.79, w: tensor([[3.98]], requires_grad=True)\n",
            "loss`: 0.79, w: tensor([[3.98]], requires_grad=True)\n",
            "loss`: 0.79, w: tensor([[3.98]], requires_grad=True)\n",
            "loss`: 0.79, w: tensor([[3.98]], requires_grad=True)\n",
            "loss`: 0.79, w: tensor([[3.98]], requires_grad=True)\n",
            "loss`: 0.79, w: tensor([[3.98]], requires_grad=True)\n",
            "loss`: 0.79, w: tensor([[3.98]], requires_grad=True)\n",
            "loss`: 0.79, w: tensor([[3.98]], requires_grad=True)\n",
            "loss`: 0.79, w: tensor([[3.98]], requires_grad=True)\n",
            "loss`: 0.79, w: tensor([[3.98]], requires_grad=True)\n",
            "loss`: 0.79, w: tensor([[3.98]], requires_grad=True)\n",
            "loss`: 0.79, w: tensor([[3.98]], requires_grad=True)\n",
            "loss`: 0.79, w: tensor([[3.98]], requires_grad=True)\n",
            "loss`: 0.79, w: tensor([[3.98]], requires_grad=True)\n",
            "loss`: 0.79, w: tensor([[3.98]], requires_grad=True)\n",
            "loss`: 0.79, w: tensor([[3.98]], requires_grad=True)\n",
            "loss`: 0.79, w: tensor([[3.98]], requires_grad=True)\n",
            "loss`: 0.79, w: tensor([[3.98]], requires_grad=True)\n",
            "loss`: 0.79, w: tensor([[3.98]], requires_grad=True)\n",
            "loss`: 0.79, w: tensor([[3.98]], requires_grad=True)\n",
            "loss`: 0.79, w: tensor([[3.98]], requires_grad=True)\n",
            "loss`: 0.79, w: tensor([[3.98]], requires_grad=True)\n",
            "loss`: 0.79, w: tensor([[3.98]], requires_grad=True)\n",
            "loss`: 0.79, w: tensor([[3.98]], requires_grad=True)\n",
            "loss`: 0.79, w: tensor([[3.98]], requires_grad=True)\n",
            "loss`: 0.79, w: tensor([[3.98]], requires_grad=True)\n",
            "loss`: 0.79, w: tensor([[3.98]], requires_grad=True)\n",
            "loss`: 0.79, w: tensor([[3.98]], requires_grad=True)\n",
            "loss`: 0.79, w: tensor([[3.98]], requires_grad=True)\n",
            "loss`: 0.79, w: tensor([[3.98]], requires_grad=True)\n",
            "loss`: 0.79, w: tensor([[3.98]], requires_grad=True)\n",
            "loss`: 0.79, w: tensor([[3.98]], requires_grad=True)\n",
            "loss`: 0.79, w: tensor([[3.98]], requires_grad=True)\n",
            "loss`: 0.79, w: tensor([[3.98]], requires_grad=True)\n",
            "loss`: 0.79, w: tensor([[3.98]], requires_grad=True)\n",
            "loss`: 0.79, w: tensor([[3.98]], requires_grad=True)\n",
            "loss`: 0.79, w: tensor([[3.98]], requires_grad=True)\n",
            "loss`: 0.79, w: tensor([[3.98]], requires_grad=True)\n",
            "loss`: 0.79, w: tensor([[3.98]], requires_grad=True)\n",
            "loss`: 0.79, w: tensor([[3.98]], requires_grad=True)\n",
            "loss`: 0.79, w: tensor([[3.98]], requires_grad=True)\n",
            "loss`: 0.79, w: tensor([[3.98]], requires_grad=True)\n",
            "loss`: 0.79, w: tensor([[3.98]], requires_grad=True)\n",
            "loss`: 0.79, w: tensor([[3.98]], requires_grad=True)\n",
            "loss`: 0.79, w: tensor([[3.98]], requires_grad=True)\n",
            "loss`: 0.79, w: tensor([[3.98]], requires_grad=True)\n",
            "loss`: 0.79, w: tensor([[3.98]], requires_grad=True)\n",
            "loss`: 0.79, w: tensor([[3.98]], requires_grad=True)\n",
            "loss`: 0.79, w: tensor([[3.98]], requires_grad=True)\n",
            "loss`: 0.79, w: tensor([[3.98]], requires_grad=True)\n",
            "loss`: 0.79, w: tensor([[3.98]], requires_grad=True)\n",
            "loss`: 0.79, w: tensor([[3.98]], requires_grad=True)\n",
            "loss`: 0.79, w: tensor([[3.98]], requires_grad=True)\n",
            "loss`: 0.79, w: tensor([[3.98]], requires_grad=True)\n",
            "loss`: 0.79, w: tensor([[3.98]], requires_grad=True)\n",
            "loss`: 0.79, w: tensor([[3.98]], requires_grad=True)\n",
            "loss`: 0.79, w: tensor([[3.98]], requires_grad=True)\n",
            "loss`: 0.79, w: tensor([[3.98]], requires_grad=True)\n",
            "loss`: 0.79, w: tensor([[3.98]], requires_grad=True)\n",
            "loss`: 0.79, w: tensor([[3.98]], requires_grad=True)\n",
            "loss`: 0.79, w: tensor([[3.98]], requires_grad=True)\n",
            "loss`: 0.79, w: tensor([[3.98]], requires_grad=True)\n",
            "loss`: 0.79, w: tensor([[3.98]], requires_grad=True)\n",
            "loss`: 0.79, w: tensor([[3.98]], requires_grad=True)\n",
            "loss`: 0.79, w: tensor([[3.98]], requires_grad=True)\n",
            "loss`: 0.79, w: tensor([[3.98]], requires_grad=True)\n",
            "loss`: 0.79, w: tensor([[3.98]], requires_grad=True)\n",
            "loss`: 0.79, w: tensor([[3.98]], requires_grad=True)\n",
            "loss`: 0.79, w: tensor([[3.98]], requires_grad=True)\n",
            "loss`: 0.79, w: tensor([[3.98]], requires_grad=True)\n",
            "loss`: 0.79, w: tensor([[3.98]], requires_grad=True)\n",
            "loss`: 0.79, w: tensor([[3.98]], requires_grad=True)\n",
            "loss`: 0.79, w: tensor([[3.98]], requires_grad=True)\n",
            "loss`: 0.79, w: tensor([[3.98]], requires_grad=True)\n",
            "loss`: 0.79, w: tensor([[3.98]], requires_grad=True)\n",
            "loss`: 0.79, w: tensor([[3.98]], requires_grad=True)\n",
            "loss`: 0.79, w: tensor([[3.98]], requires_grad=True)\n",
            "loss`: 0.79, w: tensor([[3.98]], requires_grad=True)\n",
            "loss`: 0.79, w: tensor([[3.98]], requires_grad=True)\n",
            "loss`: 0.79, w: tensor([[3.98]], requires_grad=True)\n",
            "loss`: 0.79, w: tensor([[3.98]], requires_grad=True)\n",
            "loss`: 0.79, w: tensor([[3.98]], requires_grad=True)\n",
            "loss`: 0.79, w: tensor([[3.98]], requires_grad=True)\n",
            "loss`: 0.79, w: tensor([[3.98]], requires_grad=True)\n",
            "loss`: 0.79, w: tensor([[3.98]], requires_grad=True)\n",
            "loss`: 0.79, w: tensor([[3.98]], requires_grad=True)\n",
            "loss`: 0.79, w: tensor([[3.98]], requires_grad=True)\n",
            "loss`: 0.79, w: tensor([[3.98]], requires_grad=True)\n",
            "loss`: 0.79, w: tensor([[3.98]], requires_grad=True)\n",
            "loss`: 0.79, w: tensor([[3.98]], requires_grad=True)\n",
            "loss`: 0.79, w: tensor([[3.98]], requires_grad=True)\n",
            "loss`: 0.79, w: tensor([[3.98]], requires_grad=True)\n",
            "loss`: 0.79, w: tensor([[3.98]], requires_grad=True)\n",
            "loss`: 0.79, w: tensor([[3.98]], requires_grad=True)\n",
            "loss`: 0.79, w: tensor([[3.98]], requires_grad=True)\n",
            "loss`: 0.79, w: tensor([[3.98]], requires_grad=True)\n",
            "loss`: 0.79, w: tensor([[3.98]], requires_grad=True)\n",
            "loss`: 0.79, w: tensor([[3.98]], requires_grad=True)\n",
            "loss`: 0.79, w: tensor([[3.98]], requires_grad=True)\n",
            "loss`: 0.79, w: tensor([[3.98]], requires_grad=True)\n",
            "loss`: 0.79, w: tensor([[3.98]], requires_grad=True)\n",
            "loss`: 0.79, w: tensor([[3.98]], requires_grad=True)\n",
            "loss`: 0.79, w: tensor([[3.98]], requires_grad=True)\n",
            "loss`: 0.79, w: tensor([[3.98]], requires_grad=True)\n",
            "loss`: 0.79, w: tensor([[3.98]], requires_grad=True)\n",
            "loss`: 0.79, w: tensor([[3.98]], requires_grad=True)\n",
            "loss`: 0.79, w: tensor([[3.98]], requires_grad=True)\n",
            "loss`: 0.79, w: tensor([[3.98]], requires_grad=True)\n",
            "loss`: 0.79, w: tensor([[3.98]], requires_grad=True)\n",
            "loss`: 0.79, w: tensor([[3.98]], requires_grad=True)\n",
            "loss`: 0.79, w: tensor([[3.98]], requires_grad=True)\n",
            "loss`: 0.79, w: tensor([[3.98]], requires_grad=True)\n",
            "loss`: 0.79, w: tensor([[3.98]], requires_grad=True)\n",
            "loss`: 0.79, w: tensor([[3.98]], requires_grad=True)\n",
            "loss`: 0.79, w: tensor([[3.98]], requires_grad=True)\n",
            "loss`: 0.79, w: tensor([[3.98]], requires_grad=True)\n",
            "loss`: 0.79, w: tensor([[3.98]], requires_grad=True)\n",
            "loss`: 0.79, w: tensor([[3.98]], requires_grad=True)\n",
            "loss`: 0.79, w: tensor([[3.98]], requires_grad=True)\n",
            "loss`: 0.79, w: tensor([[3.98]], requires_grad=True)\n",
            "loss`: 0.79, w: tensor([[3.98]], requires_grad=True)\n",
            "loss`: 0.79, w: tensor([[3.98]], requires_grad=True)\n",
            "loss`: 0.79, w: tensor([[3.98]], requires_grad=True)\n",
            "loss`: 0.79, w: tensor([[3.98]], requires_grad=True)\n",
            "loss`: 0.79, w: tensor([[3.98]], requires_grad=True)\n",
            "loss`: 0.79, w: tensor([[3.98]], requires_grad=True)\n",
            "loss`: 0.79, w: tensor([[3.98]], requires_grad=True)\n",
            "loss`: 0.79, w: tensor([[3.98]], requires_grad=True)\n",
            "loss`: 0.79, w: tensor([[3.98]], requires_grad=True)\n",
            "loss`: 0.79, w: tensor([[3.98]], requires_grad=True)\n",
            "loss`: 0.79, w: tensor([[3.98]], requires_grad=True)\n",
            "loss`: 0.79, w: tensor([[3.98]], requires_grad=True)\n",
            "loss`: 0.79, w: tensor([[3.98]], requires_grad=True)\n",
            "loss`: 0.79, w: tensor([[3.98]], requires_grad=True)\n",
            "loss`: 0.79, w: tensor([[3.98]], requires_grad=True)\n",
            "loss`: 0.79, w: tensor([[3.98]], requires_grad=True)\n",
            "loss`: 0.79, w: tensor([[3.98]], requires_grad=True)\n",
            "loss`: 0.79, w: tensor([[3.98]], requires_grad=True)\n",
            "loss`: 0.79, w: tensor([[3.98]], requires_grad=True)\n",
            "loss`: 0.79, w: tensor([[3.98]], requires_grad=True)\n",
            "loss`: 0.79, w: tensor([[3.98]], requires_grad=True)\n",
            "loss`: 0.79, w: tensor([[3.98]], requires_grad=True)\n",
            "loss`: 0.79, w: tensor([[3.98]], requires_grad=True)\n",
            "loss`: 0.79, w: tensor([[3.98]], requires_grad=True)\n",
            "loss`: 0.79, w: tensor([[3.98]], requires_grad=True)\n",
            "loss`: 0.79, w: tensor([[3.98]], requires_grad=True)\n",
            "loss`: 0.79, w: tensor([[3.98]], requires_grad=True)\n",
            "loss`: 0.79, w: tensor([[3.98]], requires_grad=True)\n",
            "loss`: 0.79, w: tensor([[3.98]], requires_grad=True)\n",
            "loss`: 0.79, w: tensor([[3.98]], requires_grad=True)\n",
            "loss`: 0.79, w: tensor([[3.98]], requires_grad=True)\n",
            "loss`: 0.79, w: tensor([[3.98]], requires_grad=True)\n",
            "loss`: 0.79, w: tensor([[3.98]], requires_grad=True)\n",
            "loss`: 0.79, w: tensor([[3.98]], requires_grad=True)\n",
            "loss`: 0.79, w: tensor([[3.98]], requires_grad=True)\n",
            "loss`: 0.79, w: tensor([[3.98]], requires_grad=True)\n",
            "loss`: 0.79, w: tensor([[3.98]], requires_grad=True)\n",
            "loss`: 0.79, w: tensor([[3.98]], requires_grad=True)\n",
            "loss`: 0.79, w: tensor([[3.98]], requires_grad=True)\n",
            "loss`: 0.79, w: tensor([[3.98]], requires_grad=True)\n",
            "loss`: 0.79, w: tensor([[3.98]], requires_grad=True)\n",
            "loss`: 0.79, w: tensor([[3.98]], requires_grad=True)\n",
            "loss`: 0.79, w: tensor([[3.98]], requires_grad=True)\n",
            "loss`: 0.79, w: tensor([[3.98]], requires_grad=True)\n",
            "loss`: 0.79, w: tensor([[3.98]], requires_grad=True)\n",
            "loss`: 0.79, w: tensor([[3.98]], requires_grad=True)\n",
            "loss`: 0.79, w: tensor([[3.98]], requires_grad=True)\n",
            "loss`: 0.79, w: tensor([[3.98]], requires_grad=True)\n",
            "loss`: 0.79, w: tensor([[3.98]], requires_grad=True)\n",
            "loss`: 0.79, w: tensor([[3.98]], requires_grad=True)\n",
            "loss`: 0.79, w: tensor([[3.98]], requires_grad=True)\n",
            "loss`: 0.79, w: tensor([[3.98]], requires_grad=True)\n",
            "loss`: 0.79, w: tensor([[3.98]], requires_grad=True)\n",
            "loss`: 0.79, w: tensor([[3.98]], requires_grad=True)\n",
            "loss`: 0.79, w: tensor([[3.98]], requires_grad=True)\n",
            "loss`: 0.79, w: tensor([[3.98]], requires_grad=True)\n",
            "loss`: 0.79, w: tensor([[3.98]], requires_grad=True)\n",
            "loss`: 0.79, w: tensor([[3.98]], requires_grad=True)\n",
            "loss`: 0.79, w: tensor([[3.98]], requires_grad=True)\n",
            "loss`: 0.79, w: tensor([[3.98]], requires_grad=True)\n",
            "loss`: 0.79, w: tensor([[3.98]], requires_grad=True)\n",
            "loss`: 0.79, w: tensor([[3.98]], requires_grad=True)\n",
            "loss`: 0.79, w: tensor([[3.98]], requires_grad=True)\n",
            "loss`: 0.79, w: tensor([[3.98]], requires_grad=True)\n",
            "loss`: 0.79, w: tensor([[3.98]], requires_grad=True)\n",
            "loss`: 0.79, w: tensor([[3.98]], requires_grad=True)\n",
            "loss`: 0.79, w: tensor([[3.98]], requires_grad=True)\n",
            "loss`: 0.79, w: tensor([[3.98]], requires_grad=True)\n",
            "loss`: 0.79, w: tensor([[3.98]], requires_grad=True)\n",
            "loss`: 0.79, w: tensor([[3.98]], requires_grad=True)\n",
            "loss`: 0.79, w: tensor([[3.98]], requires_grad=True)\n",
            "loss`: 0.79, w: tensor([[3.98]], requires_grad=True)\n",
            "loss`: 0.79, w: tensor([[3.98]], requires_grad=True)\n",
            "loss`: 0.79, w: tensor([[3.98]], requires_grad=True)\n",
            "loss`: 0.79, w: tensor([[3.98]], requires_grad=True)\n",
            "loss`: 0.79, w: tensor([[3.98]], requires_grad=True)\n",
            "loss`: 0.79, w: tensor([[3.98]], requires_grad=True)\n"
          ]
        }
      ]
    },
    {
      "cell_type": "code",
      "source": [],
      "metadata": {
        "id": "f40-jYTVGVWA"
      },
      "execution_count": null,
      "outputs": []
    },
    {
      "cell_type": "markdown",
      "source": [
        "# MNIST dataset"
      ],
      "metadata": {
        "id": "2jxppWlJu0WY"
      }
    },
    {
      "cell_type": "code",
      "source": [
        "path_data = Path('./davoodwadi.github.io/data/')\n",
        "path_gz = path_data/'mnist.pkl.gz'\n",
        "with gzip.open(path_gz, 'rb') as f: ((x_train, y_train), (x_valid, y_valid), _) = pickle.load(f, encoding='latin-1')\n",
        "x_train, y_train, x_valid, y_valid = map(tensor, [x_train, y_train, x_valid, y_valid])"
      ],
      "metadata": {
        "id": "b0vVR4dhuzXU"
      },
      "execution_count": null,
      "outputs": []
    },
    {
      "cell_type": "code",
      "source": [
        "x_train.shape"
      ],
      "metadata": {
        "colab": {
          "base_uri": "https://localhost:8080/"
        },
        "id": "uTPmluE_K_YN",
        "outputId": "d9d70363-58cb-48a2-96a8-539adb04c43d"
      },
      "execution_count": null,
      "outputs": [
        {
          "output_type": "execute_result",
          "data": {
            "text/plain": [
              "torch.Size([50000, 784])"
            ]
          },
          "metadata": {},
          "execution_count": 139
        }
      ]
    },
    {
      "cell_type": "code",
      "source": [
        "# x_binary = x_train[(y_train==0) | (y_train==1)]\n",
        "# y_binary = y_train[(y_train==0) | (y_train==1)]"
      ],
      "metadata": {
        "id": "bgIc6Lm6zxdi"
      },
      "execution_count": null,
      "outputs": []
    },
    {
      "cell_type": "code",
      "source": [
        "y_train[0]"
      ],
      "metadata": {
        "colab": {
          "base_uri": "https://localhost:8080/"
        },
        "id": "ghzxhBaiLPnd",
        "outputId": "2c7398fe-22e1-401b-994c-8280a7b15c6e"
      },
      "execution_count": null,
      "outputs": [
        {
          "output_type": "execute_result",
          "data": {
            "text/plain": [
              "tensor(5)"
            ]
          },
          "metadata": {},
          "execution_count": 142
        }
      ]
    },
    {
      "cell_type": "code",
      "source": [
        "i=0\n",
        "plt.imshow(x_train[i].view(28,28))\n",
        "plt.title(y_train[i].item())"
      ],
      "metadata": {
        "colab": {
          "base_uri": "https://localhost:8080/",
          "height": 469
        },
        "id": "MMWj-u3zsxmH",
        "outputId": "4eb926ae-c40a-4d24-9548-a11263f26410"
      },
      "execution_count": null,
      "outputs": [
        {
          "output_type": "execute_result",
          "data": {
            "text/plain": [
              "Text(0.5, 1.0, '5')"
            ]
          },
          "metadata": {},
          "execution_count": 141
        },
        {
          "output_type": "display_data",
          "data": {
            "text/plain": [
              "<Figure size 640x480 with 1 Axes>"
            ],
            "image/png": "[encoded data removed]"
          },
          "metadata": {}
        }
      ]
    },
    {
      "cell_type": "markdown",
      "source": [
        "# MSE loss for classification"
      ],
      "metadata": {
        "id": "-eLXAkfT5Mlp"
      }
    },
    {
      "cell_type": "code",
      "source": [
        "mse_loss = torch.nn.MSELoss()\n",
        "inp = tensor([[.9,0.1]])\n",
        "tarOnehot = tensor([[0, 1]])\n",
        "mse_loss(inp, tarOnehot)"
      ],
      "metadata": {
        "colab": {
          "base_uri": "https://localhost:8080/"
        },
        "id": "AEisHKyQ4c-y",
        "outputId": "d3afd26a-4303-41f3-a1fa-1cd32696485d"
      },
      "execution_count": null,
      "outputs": [
        {
          "output_type": "execute_result",
          "data": {
            "text/plain": [
              "tensor(0.81)"
            ]
          },
          "metadata": {},
          "execution_count": 143
        }
      ]
    },
    {
      "cell_type": "code",
      "source": [
        "mse_loss = torch.nn.MSELoss()\n",
        "inp = tensor([[.5,0.1, 0.1, 0.1, 0.1, 0., 0., 0., 0., 0.1 ]])\n",
        "tarOnehot = tensor([[0, 1, 0, 0, 0, 0, 0, 0, 0, 0]])\n",
        "mse_loss(inp, tarOnehot)"
      ],
      "metadata": {
        "colab": {
          "base_uri": "https://localhost:8080/"
        },
        "id": "7wXExvyX5Qqy",
        "outputId": "f84be17d-864e-42c5-b706-255d979bb6fc"
      },
      "execution_count": null,
      "outputs": [
        {
          "output_type": "execute_result",
          "data": {
            "text/plain": [
              "tensor(0.11)"
            ]
          },
          "metadata": {},
          "execution_count": 144
        }
      ]
    },
    {
      "cell_type": "markdown",
      "source": [
        "## CrossEntropy loss"
      ],
      "metadata": {
        "id": "-H61GKgQ5R3T"
      }
    },
    {
      "cell_type": "code",
      "source": [
        "ce_loss = torch.nn.CrossEntropyLoss()\n",
        "inp = tensor([[.9,0.1]])\n",
        "logInp = inp.log()\n",
        "print(logInp)\n",
        "tar = tensor([1])\n",
        "\n",
        "ce_loss(logInp, tar).item()"
      ],
      "metadata": {
        "colab": {
          "base_uri": "https://localhost:8080/"
        },
        "id": "BrrOeqrjszIp",
        "outputId": "4d7c87b9-3592-4fc7-aaec-79e949a0f339"
      },
      "execution_count": null,
      "outputs": [
        {
          "output_type": "stream",
          "name": "stdout",
          "text": [
            "tensor([[-0.11, -2.30]])\n"
          ]
        },
        {
          "output_type": "execute_result",
          "data": {
            "text/plain": [
              "2.3025851249694824"
            ]
          },
          "metadata": {},
          "execution_count": 145
        }
      ]
    },
    {
      "cell_type": "code",
      "source": [
        "p = tensor(0.1)\n",
        "(-1) * (tar * p.log() + (1-tar) * (1-p).log())"
      ],
      "metadata": {
        "colab": {
          "base_uri": "https://localhost:8080/"
        },
        "id": "6wSC2JsTtI2N",
        "outputId": "f89fa31d-15b3-4973-f3af-8579d32fa52c"
      },
      "execution_count": null,
      "outputs": [
        {
          "output_type": "execute_result",
          "data": {
            "text/plain": [
              "tensor([2.30])"
            ]
          },
          "metadata": {},
          "execution_count": 18
        }
      ]
    },
    {
      "cell_type": "markdown",
      "source": [
        "## 10 classes"
      ],
      "metadata": {
        "id": "oVIV1eqL3e8w"
      }
    },
    {
      "cell_type": "code",
      "source": [
        "ce_loss = torch.nn.CrossEntropyLoss()\n",
        "inp = tensor([[.5,0.1, 0.1, 0.1, 0.1, 0., 0., 0., 0., 0.1 ]])\n",
        "logInp = inp.log()\n",
        "print(logInp)\n",
        "tar = tensor([1])\n",
        "print(inp.shape, tar.shape)\n",
        "ce_loss(logInp, tar).item()"
      ],
      "metadata": {
        "colab": {
          "base_uri": "https://localhost:8080/"
        },
        "id": "moh2UB1R2ANr",
        "outputId": "a9f06006-5051-403b-d732-df1d8a2328f8"
      },
      "execution_count": null,
      "outputs": [
        {
          "output_type": "stream",
          "name": "stdout",
          "text": [
            "tensor([[-0.69, -2.30, -2.30, -2.30, -2.30,  -inf,  -inf,  -inf,  -inf, -2.30]])\n",
            "torch.Size([1, 10]) torch.Size([1])\n"
          ]
        },
        {
          "output_type": "execute_result",
          "data": {
            "text/plain": [
              "2.3025851249694824"
            ]
          },
          "metadata": {},
          "execution_count": 29
        }
      ]
    },
    {
      "cell_type": "code",
      "source": [
        "p = tensor(0.1)\n",
        "(-1) * (tar * p.log())"
      ],
      "metadata": {
        "colab": {
          "base_uri": "https://localhost:8080/"
        },
        "id": "hX0-bkKu3kNw",
        "outputId": "b754b8f4-a7f7-4c8c-d22d-1fe1f4a8e827"
      },
      "execution_count": null,
      "outputs": [
        {
          "output_type": "execute_result",
          "data": {
            "text/plain": [
              "tensor([2.30])"
            ]
          },
          "metadata": {},
          "execution_count": 20
        }
      ]
    },
    {
      "cell_type": "markdown",
      "source": [
        "# Datasets and dataloaders"
      ],
      "metadata": {
        "id": "y-H4zwdF85FB"
      }
    },
    {
      "cell_type": "code",
      "source": [
        "from torch.utils.data import Dataset, DataLoader"
      ],
      "metadata": {
        "id": "agmO7BKv3-wi"
      },
      "execution_count": null,
      "outputs": []
    },
    {
      "cell_type": "code",
      "source": [
        "class dataset(Dataset):\n",
        "  def __init__(self, x, y):\n",
        "    self.x = x\n",
        "    self.y = y\n",
        "\n",
        "  def __len__(self):\n",
        "    return len(self.x)\n",
        "\n",
        "  def __getitem__(self, index):\n",
        "    return self.x[index], self.y[index]"
      ],
      "metadata": {
        "id": "wpvRvKsX9Hns"
      },
      "execution_count": null,
      "outputs": []
    },
    {
      "cell_type": "code",
      "source": [
        "data_train = dataset(x_train, y_train)"
      ],
      "metadata": {
        "id": "oAKJD6hc9s7E"
      },
      "execution_count": null,
      "outputs": []
    },
    {
      "cell_type": "code",
      "source": [
        "x, y = data_train[0]"
      ],
      "metadata": {
        "id": "T9meHopy9xVz"
      },
      "execution_count": null,
      "outputs": []
    },
    {
      "cell_type": "code",
      "source": [
        "x.shape"
      ],
      "metadata": {
        "colab": {
          "base_uri": "https://localhost:8080/"
        },
        "id": "cdNXltssOMX7",
        "outputId": "a2186027-723c-4d4d-e498-32440a224ab4"
      },
      "execution_count": null,
      "outputs": [
        {
          "output_type": "execute_result",
          "data": {
            "text/plain": [
              "torch.Size([784])"
            ]
          },
          "metadata": {},
          "execution_count": 151
        }
      ]
    },
    {
      "cell_type": "code",
      "source": [
        "y"
      ],
      "metadata": {
        "colab": {
          "base_uri": "https://localhost:8080/"
        },
        "id": "lVmjV7DUOOFb",
        "outputId": "ed85c054-2dab-4ca9-e0d0-0a6d5ecec36b"
      },
      "execution_count": null,
      "outputs": [
        {
          "output_type": "execute_result",
          "data": {
            "text/plain": [
              "tensor(5)"
            ]
          },
          "metadata": {},
          "execution_count": 152
        }
      ]
    },
    {
      "cell_type": "code",
      "source": [
        "train_dataset = ...\n",
        "valid_dataset = ..."
      ],
      "metadata": {
        "id": "953EaCvP-JZA"
      },
      "execution_count": null,
      "outputs": []
    },
    {
      "cell_type": "code",
      "source": [
        "train_loader = DataLoader(data_train, batch_size=64, shuffle=True, drop_last=True)\n",
        "# valid_loader = DataLoader(x_valid, batch_size=64, shuffle=False)"
      ],
      "metadata": {
        "id": "8g_RLS7u9pc0"
      },
      "execution_count": null,
      "outputs": []
    },
    {
      "cell_type": "code",
      "source": [
        "for xs, ys in train_loader:\n",
        "  print(xs.shape)"
      ],
      "metadata": {
        "colab": {
          "base_uri": "https://localhost:8080/"
        },
        "id": "_DzS5wA6-Bgz",
        "outputId": "0bf51f98-8e94-4e6d-ae6a-efaaebf502ee"
      },
      "execution_count": null,
      "outputs": [
        {
          "output_type": "stream",
          "name": "stdout",
          "text": [
            "torch.Size([64, 784])\n",
            "torch.Size([64, 784])\n",
            "torch.Size([64, 784])\n",
            "torch.Size([64, 784])\n",
            "torch.Size([64, 784])\n",
            "torch.Size([64, 784])\n",
            "torch.Size([64, 784])\n",
            "torch.Size([64, 784])\n",
            "torch.Size([64, 784])\n",
            "torch.Size([64, 784])\n",
            "torch.Size([64, 784])\n",
            "torch.Size([64, 784])\n",
            "torch.Size([64, 784])\n",
            "torch.Size([64, 784])\n",
            "torch.Size([64, 784])\n",
            "torch.Size([64, 784])\n",
            "torch.Size([64, 784])\n",
            "torch.Size([64, 784])\n",
            "torch.Size([64, 784])\n",
            "torch.Size([64, 784])\n",
            "torch.Size([64, 784])\n",
            "torch.Size([64, 784])\n",
            "torch.Size([64, 784])\n",
            "torch.Size([64, 784])\n",
            "torch.Size([64, 784])\n",
            "torch.Size([64, 784])\n",
            "torch.Size([64, 784])\n",
            "torch.Size([64, 784])\n",
            "torch.Size([64, 784])\n",
            "torch.Size([64, 784])\n",
            "torch.Size([64, 784])\n",
            "torch.Size([64, 784])\n",
            "torch.Size([64, 784])\n",
            "torch.Size([64, 784])\n",
            "torch.Size([64, 784])\n",
            "torch.Size([64, 784])\n",
            "torch.Size([64, 784])\n",
            "torch.Size([64, 784])\n",
            "torch.Size([64, 784])\n",
            "torch.Size([64, 784])\n",
            "torch.Size([64, 784])\n",
            "torch.Size([64, 784])\n",
            "torch.Size([64, 784])\n",
            "torch.Size([64, 784])\n",
            "torch.Size([64, 784])\n",
            "torch.Size([64, 784])\n",
            "torch.Size([64, 784])\n",
            "torch.Size([64, 784])\n",
            "torch.Size([64, 784])\n",
            "torch.Size([64, 784])\n",
            "torch.Size([64, 784])\n",
            "torch.Size([64, 784])\n",
            "torch.Size([64, 784])\n",
            "torch.Size([64, 784])\n",
            "torch.Size([64, 784])\n",
            "torch.Size([64, 784])\n",
            "torch.Size([64, 784])\n",
            "torch.Size([64, 784])\n",
            "torch.Size([64, 784])\n",
            "torch.Size([64, 784])\n",
            "torch.Size([64, 784])\n",
            "torch.Size([64, 784])\n",
            "torch.Size([64, 784])\n",
            "torch.Size([64, 784])\n",
            "torch.Size([64, 784])\n",
            "torch.Size([64, 784])\n",
            "torch.Size([64, 784])\n",
            "torch.Size([64, 784])\n",
            "torch.Size([64, 784])\n",
            "torch.Size([64, 784])\n",
            "torch.Size([64, 784])\n",
            "torch.Size([64, 784])\n",
            "torch.Size([64, 784])\n",
            "torch.Size([64, 784])\n",
            "torch.Size([64, 784])\n",
            "torch.Size([64, 784])\n",
            "torch.Size([64, 784])\n",
            "torch.Size([64, 784])\n",
            "torch.Size([64, 784])\n",
            "torch.Size([64, 784])\n",
            "torch.Size([64, 784])\n",
            "torch.Size([64, 784])\n",
            "torch.Size([64, 784])\n",
            "torch.Size([64, 784])\n",
            "torch.Size([64, 784])\n",
            "torch.Size([64, 784])\n",
            "torch.Size([64, 784])\n",
            "torch.Size([64, 784])\n",
            "torch.Size([64, 784])\n",
            "torch.Size([64, 784])\n",
            "torch.Size([64, 784])\n",
            "torch.Size([64, 784])\n",
            "torch.Size([64, 784])\n",
            "torch.Size([64, 784])\n",
            "torch.Size([64, 784])\n",
            "torch.Size([64, 784])\n",
            "torch.Size([64, 784])\n",
            "torch.Size([64, 784])\n",
            "torch.Size([64, 784])\n",
            "torch.Size([64, 784])\n",
            "torch.Size([64, 784])\n",
            "torch.Size([64, 784])\n",
            "torch.Size([64, 784])\n",
            "torch.Size([64, 784])\n",
            "torch.Size([64, 784])\n",
            "torch.Size([64, 784])\n",
            "torch.Size([64, 784])\n",
            "torch.Size([64, 784])\n",
            "torch.Size([64, 784])\n",
            "torch.Size([64, 784])\n",
            "torch.Size([64, 784])\n",
            "torch.Size([64, 784])\n",
            "torch.Size([64, 784])\n",
            "torch.Size([64, 784])\n",
            "torch.Size([64, 784])\n",
            "torch.Size([64, 784])\n",
            "torch.Size([64, 784])\n",
            "torch.Size([64, 784])\n",
            "torch.Size([64, 784])\n",
            "torch.Size([64, 784])\n",
            "torch.Size([64, 784])\n",
            "torch.Size([64, 784])\n",
            "torch.Size([64, 784])\n",
            "torch.Size([64, 784])\n",
            "torch.Size([64, 784])\n",
            "torch.Size([64, 784])\n",
            "torch.Size([64, 784])\n",
            "torch.Size([64, 784])\n",
            "torch.Size([64, 784])\n",
            "torch.Size([64, 784])\n",
            "torch.Size([64, 784])\n",
            "torch.Size([64, 784])\n",
            "torch.Size([64, 784])\n",
            "torch.Size([64, 784])\n",
            "torch.Size([64, 784])\n",
            "torch.Size([64, 784])\n",
            "torch.Size([64, 784])\n",
            "torch.Size([64, 784])\n",
            "torch.Size([64, 784])\n",
            "torch.Size([64, 784])\n",
            "torch.Size([64, 784])\n",
            "torch.Size([64, 784])\n",
            "torch.Size([64, 784])\n",
            "torch.Size([64, 784])\n",
            "torch.Size([64, 784])\n",
            "torch.Size([64, 784])\n",
            "torch.Size([64, 784])\n",
            "torch.Size([64, 784])\n",
            "torch.Size([64, 784])\n",
            "torch.Size([64, 784])\n",
            "torch.Size([64, 784])\n",
            "torch.Size([64, 784])\n",
            "torch.Size([64, 784])\n",
            "torch.Size([64, 784])\n",
            "torch.Size([64, 784])\n",
            "torch.Size([64, 784])\n",
            "torch.Size([64, 784])\n",
            "torch.Size([64, 784])\n",
            "torch.Size([64, 784])\n",
            "torch.Size([64, 784])\n",
            "torch.Size([64, 784])\n",
            "torch.Size([64, 784])\n",
            "torch.Size([64, 784])\n",
            "torch.Size([64, 784])\n",
            "torch.Size([64, 784])\n",
            "torch.Size([64, 784])\n",
            "torch.Size([64, 784])\n",
            "torch.Size([64, 784])\n",
            "torch.Size([64, 784])\n",
            "torch.Size([64, 784])\n",
            "torch.Size([64, 784])\n",
            "torch.Size([64, 784])\n",
            "torch.Size([64, 784])\n",
            "torch.Size([64, 784])\n",
            "torch.Size([64, 784])\n",
            "torch.Size([64, 784])\n",
            "torch.Size([64, 784])\n",
            "torch.Size([64, 784])\n",
            "torch.Size([64, 784])\n",
            "torch.Size([64, 784])\n",
            "torch.Size([64, 784])\n",
            "torch.Size([64, 784])\n",
            "torch.Size([64, 784])\n",
            "torch.Size([64, 784])\n",
            "torch.Size([64, 784])\n",
            "torch.Size([64, 784])\n",
            "torch.Size([64, 784])\n",
            "torch.Size([64, 784])\n",
            "torch.Size([64, 784])\n",
            "torch.Size([64, 784])\n",
            "torch.Size([64, 784])\n",
            "torch.Size([64, 784])\n",
            "torch.Size([64, 784])\n",
            "torch.Size([64, 784])\n",
            "torch.Size([64, 784])\n",
            "torch.Size([64, 784])\n",
            "torch.Size([64, 784])\n",
            "torch.Size([64, 784])\n",
            "torch.Size([64, 784])\n",
            "torch.Size([64, 784])\n",
            "torch.Size([64, 784])\n",
            "torch.Size([64, 784])\n",
            "torch.Size([64, 784])\n",
            "torch.Size([64, 784])\n",
            "torch.Size([64, 784])\n",
            "torch.Size([64, 784])\n",
            "torch.Size([64, 784])\n",
            "torch.Size([64, 784])\n",
            "torch.Size([64, 784])\n",
            "torch.Size([64, 784])\n",
            "torch.Size([64, 784])\n",
            "torch.Size([64, 784])\n",
            "torch.Size([64, 784])\n",
            "torch.Size([64, 784])\n",
            "torch.Size([64, 784])\n",
            "torch.Size([64, 784])\n",
            "torch.Size([64, 784])\n",
            "torch.Size([64, 784])\n",
            "torch.Size([64, 784])\n",
            "torch.Size([64, 784])\n",
            "torch.Size([64, 784])\n",
            "torch.Size([64, 784])\n",
            "torch.Size([64, 784])\n",
            "torch.Size([64, 784])\n",
            "torch.Size([64, 784])\n",
            "torch.Size([64, 784])\n",
            "torch.Size([64, 784])\n",
            "torch.Size([64, 784])\n",
            "torch.Size([64, 784])\n",
            "torch.Size([64, 784])\n",
            "torch.Size([64, 784])\n",
            "torch.Size([64, 784])\n",
            "torch.Size([64, 784])\n",
            "torch.Size([64, 784])\n",
            "torch.Size([64, 784])\n",
            "torch.Size([64, 784])\n",
            "torch.Size([64, 784])\n",
            "torch.Size([64, 784])\n",
            "torch.Size([64, 784])\n",
            "torch.Size([64, 784])\n",
            "torch.Size([64, 784])\n",
            "torch.Size([64, 784])\n",
            "torch.Size([64, 784])\n",
            "torch.Size([64, 784])\n",
            "torch.Size([64, 784])\n",
            "torch.Size([64, 784])\n",
            "torch.Size([64, 784])\n",
            "torch.Size([64, 784])\n",
            "torch.Size([64, 784])\n",
            "torch.Size([64, 784])\n",
            "torch.Size([64, 784])\n",
            "torch.Size([64, 784])\n",
            "torch.Size([64, 784])\n",
            "torch.Size([64, 784])\n",
            "torch.Size([64, 784])\n",
            "torch.Size([64, 784])\n",
            "torch.Size([64, 784])\n",
            "torch.Size([64, 784])\n",
            "torch.Size([64, 784])\n",
            "torch.Size([64, 784])\n",
            "torch.Size([64, 784])\n",
            "torch.Size([64, 784])\n",
            "torch.Size([64, 784])\n",
            "torch.Size([64, 784])\n",
            "torch.Size([64, 784])\n",
            "torch.Size([64, 784])\n",
            "torch.Size([64, 784])\n",
            "torch.Size([64, 784])\n",
            "torch.Size([64, 784])\n",
            "torch.Size([64, 784])\n",
            "torch.Size([64, 784])\n",
            "torch.Size([64, 784])\n",
            "torch.Size([64, 784])\n",
            "torch.Size([64, 784])\n",
            "torch.Size([64, 784])\n",
            "torch.Size([64, 784])\n",
            "torch.Size([64, 784])\n",
            "torch.Size([64, 784])\n",
            "torch.Size([64, 784])\n",
            "torch.Size([64, 784])\n",
            "torch.Size([64, 784])\n",
            "torch.Size([64, 784])\n",
            "torch.Size([64, 784])\n",
            "torch.Size([64, 784])\n",
            "torch.Size([64, 784])\n",
            "torch.Size([64, 784])\n",
            "torch.Size([64, 784])\n",
            "torch.Size([64, 784])\n",
            "torch.Size([64, 784])\n",
            "torch.Size([64, 784])\n",
            "torch.Size([64, 784])\n",
            "torch.Size([64, 784])\n",
            "torch.Size([64, 784])\n",
            "torch.Size([64, 784])\n",
            "torch.Size([64, 784])\n",
            "torch.Size([64, 784])\n",
            "torch.Size([64, 784])\n",
            "torch.Size([64, 784])\n",
            "torch.Size([64, 784])\n",
            "torch.Size([64, 784])\n",
            "torch.Size([64, 784])\n",
            "torch.Size([64, 784])\n",
            "torch.Size([64, 784])\n",
            "torch.Size([64, 784])\n",
            "torch.Size([64, 784])\n",
            "torch.Size([64, 784])\n",
            "torch.Size([64, 784])\n",
            "torch.Size([64, 784])\n",
            "torch.Size([64, 784])\n",
            "torch.Size([64, 784])\n",
            "torch.Size([64, 784])\n",
            "torch.Size([64, 784])\n",
            "torch.Size([64, 784])\n",
            "torch.Size([64, 784])\n",
            "torch.Size([64, 784])\n",
            "torch.Size([64, 784])\n",
            "torch.Size([64, 784])\n",
            "torch.Size([64, 784])\n",
            "torch.Size([64, 784])\n",
            "torch.Size([64, 784])\n",
            "torch.Size([64, 784])\n",
            "torch.Size([64, 784])\n",
            "torch.Size([64, 784])\n",
            "torch.Size([64, 784])\n",
            "torch.Size([64, 784])\n",
            "torch.Size([64, 784])\n",
            "torch.Size([64, 784])\n",
            "torch.Size([64, 784])\n",
            "torch.Size([64, 784])\n",
            "torch.Size([64, 784])\n",
            "torch.Size([64, 784])\n",
            "torch.Size([64, 784])\n",
            "torch.Size([64, 784])\n",
            "torch.Size([64, 784])\n",
            "torch.Size([64, 784])\n",
            "torch.Size([64, 784])\n",
            "torch.Size([64, 784])\n",
            "torch.Size([64, 784])\n",
            "torch.Size([64, 784])\n",
            "torch.Size([64, 784])\n",
            "torch.Size([64, 784])\n",
            "torch.Size([64, 784])\n",
            "torch.Size([64, 784])\n",
            "torch.Size([64, 784])\n",
            "torch.Size([64, 784])\n",
            "torch.Size([64, 784])\n",
            "torch.Size([64, 784])\n",
            "torch.Size([64, 784])\n",
            "torch.Size([64, 784])\n",
            "torch.Size([64, 784])\n",
            "torch.Size([64, 784])\n",
            "torch.Size([64, 784])\n",
            "torch.Size([64, 784])\n",
            "torch.Size([64, 784])\n",
            "torch.Size([64, 784])\n",
            "torch.Size([64, 784])\n",
            "torch.Size([64, 784])\n",
            "torch.Size([64, 784])\n",
            "torch.Size([64, 784])\n",
            "torch.Size([64, 784])\n",
            "torch.Size([64, 784])\n",
            "torch.Size([64, 784])\n",
            "torch.Size([64, 784])\n",
            "torch.Size([64, 784])\n",
            "torch.Size([64, 784])\n",
            "torch.Size([64, 784])\n",
            "torch.Size([64, 784])\n",
            "torch.Size([64, 784])\n",
            "torch.Size([64, 784])\n",
            "torch.Size([64, 784])\n",
            "torch.Size([64, 784])\n",
            "torch.Size([64, 784])\n",
            "torch.Size([64, 784])\n",
            "torch.Size([64, 784])\n",
            "torch.Size([64, 784])\n",
            "torch.Size([64, 784])\n",
            "torch.Size([64, 784])\n",
            "torch.Size([64, 784])\n",
            "torch.Size([64, 784])\n",
            "torch.Size([64, 784])\n",
            "torch.Size([64, 784])\n",
            "torch.Size([64, 784])\n",
            "torch.Size([64, 784])\n",
            "torch.Size([64, 784])\n",
            "torch.Size([64, 784])\n",
            "torch.Size([64, 784])\n",
            "torch.Size([64, 784])\n",
            "torch.Size([64, 784])\n",
            "torch.Size([64, 784])\n",
            "torch.Size([64, 784])\n",
            "torch.Size([64, 784])\n",
            "torch.Size([64, 784])\n",
            "torch.Size([64, 784])\n",
            "torch.Size([64, 784])\n",
            "torch.Size([64, 784])\n",
            "torch.Size([64, 784])\n",
            "torch.Size([64, 784])\n",
            "torch.Size([64, 784])\n",
            "torch.Size([64, 784])\n",
            "torch.Size([64, 784])\n",
            "torch.Size([64, 784])\n",
            "torch.Size([64, 784])\n",
            "torch.Size([64, 784])\n",
            "torch.Size([64, 784])\n",
            "torch.Size([64, 784])\n",
            "torch.Size([64, 784])\n",
            "torch.Size([64, 784])\n",
            "torch.Size([64, 784])\n",
            "torch.Size([64, 784])\n",
            "torch.Size([64, 784])\n",
            "torch.Size([64, 784])\n",
            "torch.Size([64, 784])\n",
            "torch.Size([64, 784])\n",
            "torch.Size([64, 784])\n",
            "torch.Size([64, 784])\n",
            "torch.Size([64, 784])\n",
            "torch.Size([64, 784])\n",
            "torch.Size([64, 784])\n",
            "torch.Size([64, 784])\n",
            "torch.Size([64, 784])\n",
            "torch.Size([64, 784])\n",
            "torch.Size([64, 784])\n",
            "torch.Size([64, 784])\n",
            "torch.Size([64, 784])\n",
            "torch.Size([64, 784])\n",
            "torch.Size([64, 784])\n",
            "torch.Size([64, 784])\n",
            "torch.Size([64, 784])\n",
            "torch.Size([64, 784])\n",
            "torch.Size([64, 784])\n",
            "torch.Size([64, 784])\n",
            "torch.Size([64, 784])\n",
            "torch.Size([64, 784])\n",
            "torch.Size([64, 784])\n",
            "torch.Size([64, 784])\n",
            "torch.Size([64, 784])\n",
            "torch.Size([64, 784])\n",
            "torch.Size([64, 784])\n",
            "torch.Size([64, 784])\n",
            "torch.Size([64, 784])\n",
            "torch.Size([64, 784])\n",
            "torch.Size([64, 784])\n",
            "torch.Size([64, 784])\n",
            "torch.Size([64, 784])\n",
            "torch.Size([64, 784])\n",
            "torch.Size([64, 784])\n",
            "torch.Size([64, 784])\n",
            "torch.Size([64, 784])\n",
            "torch.Size([64, 784])\n",
            "torch.Size([64, 784])\n",
            "torch.Size([64, 784])\n",
            "torch.Size([64, 784])\n",
            "torch.Size([64, 784])\n",
            "torch.Size([64, 784])\n",
            "torch.Size([64, 784])\n",
            "torch.Size([64, 784])\n",
            "torch.Size([64, 784])\n",
            "torch.Size([64, 784])\n",
            "torch.Size([64, 784])\n",
            "torch.Size([64, 784])\n",
            "torch.Size([64, 784])\n",
            "torch.Size([64, 784])\n",
            "torch.Size([64, 784])\n",
            "torch.Size([64, 784])\n",
            "torch.Size([64, 784])\n",
            "torch.Size([64, 784])\n",
            "torch.Size([64, 784])\n",
            "torch.Size([64, 784])\n",
            "torch.Size([64, 784])\n",
            "torch.Size([64, 784])\n",
            "torch.Size([64, 784])\n",
            "torch.Size([64, 784])\n",
            "torch.Size([64, 784])\n",
            "torch.Size([64, 784])\n",
            "torch.Size([64, 784])\n",
            "torch.Size([64, 784])\n",
            "torch.Size([64, 784])\n",
            "torch.Size([64, 784])\n",
            "torch.Size([64, 784])\n",
            "torch.Size([64, 784])\n",
            "torch.Size([64, 784])\n",
            "torch.Size([64, 784])\n",
            "torch.Size([64, 784])\n",
            "torch.Size([64, 784])\n",
            "torch.Size([64, 784])\n",
            "torch.Size([64, 784])\n",
            "torch.Size([64, 784])\n",
            "torch.Size([64, 784])\n",
            "torch.Size([64, 784])\n",
            "torch.Size([64, 784])\n",
            "torch.Size([64, 784])\n",
            "torch.Size([64, 784])\n",
            "torch.Size([64, 784])\n",
            "torch.Size([64, 784])\n",
            "torch.Size([64, 784])\n",
            "torch.Size([64, 784])\n",
            "torch.Size([64, 784])\n",
            "torch.Size([64, 784])\n",
            "torch.Size([64, 784])\n",
            "torch.Size([64, 784])\n",
            "torch.Size([64, 784])\n",
            "torch.Size([64, 784])\n",
            "torch.Size([64, 784])\n",
            "torch.Size([64, 784])\n",
            "torch.Size([64, 784])\n",
            "torch.Size([64, 784])\n",
            "torch.Size([64, 784])\n",
            "torch.Size([64, 784])\n",
            "torch.Size([64, 784])\n",
            "torch.Size([64, 784])\n",
            "torch.Size([64, 784])\n",
            "torch.Size([64, 784])\n",
            "torch.Size([64, 784])\n",
            "torch.Size([64, 784])\n",
            "torch.Size([64, 784])\n",
            "torch.Size([64, 784])\n",
            "torch.Size([64, 784])\n",
            "torch.Size([64, 784])\n",
            "torch.Size([64, 784])\n",
            "torch.Size([64, 784])\n",
            "torch.Size([64, 784])\n",
            "torch.Size([64, 784])\n",
            "torch.Size([64, 784])\n",
            "torch.Size([64, 784])\n",
            "torch.Size([64, 784])\n",
            "torch.Size([64, 784])\n",
            "torch.Size([64, 784])\n",
            "torch.Size([64, 784])\n",
            "torch.Size([64, 784])\n",
            "torch.Size([64, 784])\n",
            "torch.Size([64, 784])\n",
            "torch.Size([64, 784])\n",
            "torch.Size([64, 784])\n",
            "torch.Size([64, 784])\n",
            "torch.Size([64, 784])\n",
            "torch.Size([64, 784])\n",
            "torch.Size([64, 784])\n",
            "torch.Size([64, 784])\n",
            "torch.Size([64, 784])\n",
            "torch.Size([64, 784])\n",
            "torch.Size([64, 784])\n",
            "torch.Size([64, 784])\n",
            "torch.Size([64, 784])\n",
            "torch.Size([64, 784])\n",
            "torch.Size([64, 784])\n",
            "torch.Size([64, 784])\n",
            "torch.Size([64, 784])\n",
            "torch.Size([64, 784])\n",
            "torch.Size([64, 784])\n",
            "torch.Size([64, 784])\n",
            "torch.Size([64, 784])\n",
            "torch.Size([64, 784])\n",
            "torch.Size([64, 784])\n",
            "torch.Size([64, 784])\n",
            "torch.Size([64, 784])\n",
            "torch.Size([64, 784])\n",
            "torch.Size([64, 784])\n",
            "torch.Size([64, 784])\n",
            "torch.Size([64, 784])\n",
            "torch.Size([64, 784])\n",
            "torch.Size([64, 784])\n",
            "torch.Size([64, 784])\n",
            "torch.Size([64, 784])\n",
            "torch.Size([64, 784])\n",
            "torch.Size([64, 784])\n",
            "torch.Size([64, 784])\n",
            "torch.Size([64, 784])\n",
            "torch.Size([64, 784])\n",
            "torch.Size([64, 784])\n",
            "torch.Size([64, 784])\n",
            "torch.Size([64, 784])\n",
            "torch.Size([64, 784])\n",
            "torch.Size([64, 784])\n",
            "torch.Size([64, 784])\n",
            "torch.Size([64, 784])\n",
            "torch.Size([64, 784])\n",
            "torch.Size([64, 784])\n",
            "torch.Size([64, 784])\n",
            "torch.Size([64, 784])\n",
            "torch.Size([64, 784])\n",
            "torch.Size([64, 784])\n",
            "torch.Size([64, 784])\n",
            "torch.Size([64, 784])\n",
            "torch.Size([64, 784])\n",
            "torch.Size([64, 784])\n",
            "torch.Size([64, 784])\n",
            "torch.Size([64, 784])\n",
            "torch.Size([64, 784])\n",
            "torch.Size([64, 784])\n",
            "torch.Size([64, 784])\n",
            "torch.Size([64, 784])\n",
            "torch.Size([64, 784])\n",
            "torch.Size([64, 784])\n",
            "torch.Size([64, 784])\n",
            "torch.Size([64, 784])\n",
            "torch.Size([64, 784])\n",
            "torch.Size([64, 784])\n",
            "torch.Size([64, 784])\n",
            "torch.Size([64, 784])\n",
            "torch.Size([64, 784])\n",
            "torch.Size([64, 784])\n",
            "torch.Size([64, 784])\n",
            "torch.Size([64, 784])\n",
            "torch.Size([64, 784])\n",
            "torch.Size([64, 784])\n",
            "torch.Size([64, 784])\n",
            "torch.Size([64, 784])\n",
            "torch.Size([64, 784])\n",
            "torch.Size([64, 784])\n",
            "torch.Size([64, 784])\n",
            "torch.Size([64, 784])\n",
            "torch.Size([64, 784])\n",
            "torch.Size([64, 784])\n",
            "torch.Size([64, 784])\n",
            "torch.Size([64, 784])\n",
            "torch.Size([64, 784])\n",
            "torch.Size([64, 784])\n",
            "torch.Size([64, 784])\n",
            "torch.Size([64, 784])\n",
            "torch.Size([64, 784])\n",
            "torch.Size([64, 784])\n",
            "torch.Size([64, 784])\n",
            "torch.Size([64, 784])\n",
            "torch.Size([64, 784])\n",
            "torch.Size([64, 784])\n",
            "torch.Size([64, 784])\n",
            "torch.Size([64, 784])\n",
            "torch.Size([64, 784])\n",
            "torch.Size([64, 784])\n",
            "torch.Size([64, 784])\n",
            "torch.Size([64, 784])\n",
            "torch.Size([64, 784])\n",
            "torch.Size([64, 784])\n",
            "torch.Size([64, 784])\n",
            "torch.Size([64, 784])\n",
            "torch.Size([64, 784])\n",
            "torch.Size([64, 784])\n",
            "torch.Size([64, 784])\n",
            "torch.Size([64, 784])\n",
            "torch.Size([64, 784])\n",
            "torch.Size([64, 784])\n",
            "torch.Size([64, 784])\n",
            "torch.Size([64, 784])\n",
            "torch.Size([64, 784])\n",
            "torch.Size([64, 784])\n",
            "torch.Size([64, 784])\n",
            "torch.Size([64, 784])\n",
            "torch.Size([64, 784])\n",
            "torch.Size([64, 784])\n",
            "torch.Size([64, 784])\n",
            "torch.Size([64, 784])\n",
            "torch.Size([64, 784])\n",
            "torch.Size([64, 784])\n",
            "torch.Size([64, 784])\n",
            "torch.Size([64, 784])\n",
            "torch.Size([64, 784])\n",
            "torch.Size([64, 784])\n",
            "torch.Size([64, 784])\n",
            "torch.Size([64, 784])\n",
            "torch.Size([64, 784])\n",
            "torch.Size([64, 784])\n",
            "torch.Size([64, 784])\n",
            "torch.Size([64, 784])\n",
            "torch.Size([64, 784])\n",
            "torch.Size([64, 784])\n",
            "torch.Size([64, 784])\n",
            "torch.Size([64, 784])\n",
            "torch.Size([64, 784])\n",
            "torch.Size([64, 784])\n",
            "torch.Size([64, 784])\n",
            "torch.Size([64, 784])\n",
            "torch.Size([64, 784])\n",
            "torch.Size([64, 784])\n",
            "torch.Size([64, 784])\n",
            "torch.Size([64, 784])\n",
            "torch.Size([64, 784])\n",
            "torch.Size([64, 784])\n",
            "torch.Size([64, 784])\n",
            "torch.Size([64, 784])\n",
            "torch.Size([64, 784])\n",
            "torch.Size([64, 784])\n",
            "torch.Size([64, 784])\n",
            "torch.Size([64, 784])\n",
            "torch.Size([64, 784])\n",
            "torch.Size([64, 784])\n",
            "torch.Size([64, 784])\n",
            "torch.Size([64, 784])\n",
            "torch.Size([64, 784])\n",
            "torch.Size([64, 784])\n",
            "torch.Size([64, 784])\n",
            "torch.Size([64, 784])\n",
            "torch.Size([64, 784])\n",
            "torch.Size([64, 784])\n",
            "torch.Size([64, 784])\n",
            "torch.Size([64, 784])\n",
            "torch.Size([64, 784])\n",
            "torch.Size([64, 784])\n",
            "torch.Size([64, 784])\n",
            "torch.Size([64, 784])\n",
            "torch.Size([64, 784])\n",
            "torch.Size([64, 784])\n",
            "torch.Size([64, 784])\n",
            "torch.Size([64, 784])\n",
            "torch.Size([64, 784])\n",
            "torch.Size([64, 784])\n",
            "torch.Size([64, 784])\n",
            "torch.Size([64, 784])\n",
            "torch.Size([64, 784])\n",
            "torch.Size([64, 784])\n",
            "torch.Size([64, 784])\n",
            "torch.Size([64, 784])\n",
            "torch.Size([64, 784])\n",
            "torch.Size([64, 784])\n",
            "torch.Size([64, 784])\n",
            "torch.Size([64, 784])\n",
            "torch.Size([64, 784])\n",
            "torch.Size([64, 784])\n",
            "torch.Size([64, 784])\n",
            "torch.Size([64, 784])\n",
            "torch.Size([64, 784])\n",
            "torch.Size([64, 784])\n",
            "torch.Size([64, 784])\n",
            "torch.Size([64, 784])\n",
            "torch.Size([64, 784])\n",
            "torch.Size([64, 784])\n",
            "torch.Size([64, 784])\n",
            "torch.Size([64, 784])\n",
            "torch.Size([64, 784])\n",
            "torch.Size([64, 784])\n",
            "torch.Size([64, 784])\n",
            "torch.Size([64, 784])\n",
            "torch.Size([64, 784])\n",
            "torch.Size([64, 784])\n",
            "torch.Size([64, 784])\n",
            "torch.Size([64, 784])\n",
            "torch.Size([64, 784])\n",
            "torch.Size([64, 784])\n",
            "torch.Size([64, 784])\n",
            "torch.Size([64, 784])\n",
            "torch.Size([64, 784])\n",
            "torch.Size([64, 784])\n",
            "torch.Size([64, 784])\n",
            "torch.Size([64, 784])\n",
            "torch.Size([64, 784])\n",
            "torch.Size([64, 784])\n",
            "torch.Size([64, 784])\n",
            "torch.Size([64, 784])\n",
            "torch.Size([64, 784])\n",
            "torch.Size([64, 784])\n",
            "torch.Size([64, 784])\n",
            "torch.Size([64, 784])\n",
            "torch.Size([64, 784])\n",
            "torch.Size([64, 784])\n",
            "torch.Size([64, 784])\n",
            "torch.Size([64, 784])\n",
            "torch.Size([64, 784])\n",
            "torch.Size([64, 784])\n",
            "torch.Size([64, 784])\n",
            "torch.Size([64, 784])\n",
            "torch.Size([64, 784])\n",
            "torch.Size([64, 784])\n",
            "torch.Size([64, 784])\n",
            "torch.Size([64, 784])\n",
            "torch.Size([64, 784])\n",
            "torch.Size([64, 784])\n",
            "torch.Size([64, 784])\n",
            "torch.Size([64, 784])\n",
            "torch.Size([64, 784])\n",
            "torch.Size([64, 784])\n",
            "torch.Size([64, 784])\n",
            "torch.Size([64, 784])\n",
            "torch.Size([64, 784])\n",
            "torch.Size([64, 784])\n",
            "torch.Size([64, 784])\n",
            "torch.Size([64, 784])\n",
            "torch.Size([64, 784])\n",
            "torch.Size([64, 784])\n",
            "torch.Size([64, 784])\n",
            "torch.Size([64, 784])\n",
            "torch.Size([64, 784])\n",
            "torch.Size([64, 784])\n"
          ]
        }
      ]
    },
    {
      "cell_type": "markdown",
      "source": [
        "# Training loop"
      ],
      "metadata": {
        "id": "Uenp95nRulqh"
      }
    },
    {
      "cell_type": "code",
      "source": [
        "w"
      ],
      "metadata": {
        "colab": {
          "base_uri": "https://localhost:8080/"
        },
        "id": "myFso6hAPGQj",
        "outputId": "56e7c4d1-dccf-47c5-e4f5-404cddaadd8f"
      },
      "execution_count": null,
      "outputs": [
        {
          "output_type": "execute_result",
          "data": {
            "text/plain": [
              "tensor([[3.98]], requires_grad=True)"
            ]
          },
          "metadata": {},
          "execution_count": 158
        }
      ]
    },
    {
      "cell_type": "code",
      "source": [
        "class FCModel(nn.Module):\n",
        "  def __init__(self, feature_size, hidden_size):\n",
        "    super(FCModel, self).__init__()\n",
        "\n",
        "    self.fc1 = nn.Linear(feature_size, hidden_size)\n",
        "    self.fc2 = nn.Linear(hidden_size, 10)\n",
        "    self.relu = nn.ReLU()\n",
        "  def forward(self, x):\n",
        "    out1 = self.fc(x)\n",
        "    out2 = self.relu(out1)\n",
        "    out3 = self.classification(out2)\n",
        "    return out3"
      ],
      "metadata": {
        "id": "w7-AufQX-Qbc"
      },
      "execution_count": null,
      "outputs": []
    },
    {
      "cell_type": "code",
      "source": [
        "x_train.shape"
      ],
      "metadata": {
        "colab": {
          "base_uri": "https://localhost:8080/"
        },
        "id": "YfhgMK_2va64",
        "outputId": "c49f0dff-baa0-4fb7-a6f8-f8ed47b3fe29"
      },
      "execution_count": null,
      "outputs": [
        {
          "output_type": "execute_result",
          "data": {
            "text/plain": [
              "torch.Size([50000, 784])"
            ]
          },
          "metadata": {},
          "execution_count": 160
        }
      ]
    },
    {
      "cell_type": "code",
      "source": [],
      "metadata": {
        "id": "DHU6gtqJvN58"
      },
      "execution_count": null,
      "outputs": []
    },
    {
      "cell_type": "code",
      "source": [
        "from sklearn.preprocessing import OneHotEncoder"
      ],
      "metadata": {
        "id": "Gf8vpbl1xO2k"
      },
      "execution_count": null,
      "outputs": []
    },
    {
      "cell_type": "code",
      "source": [
        "encoder = OneHotEncoder()\n",
        "y_train_dummy = encoder.fit_transform(y_train.view(-1,1)).toarray()\n",
        "y_train_dummy = tensor(y_train_dummy).float()\n",
        "y_train_dummy.shape"
      ],
      "metadata": {
        "colab": {
          "base_uri": "https://localhost:8080/"
        },
        "id": "YNQfpOiJw5f8",
        "outputId": "f443567a-b0a1-4566-cfef-da61c56218a6"
      },
      "execution_count": null,
      "outputs": [
        {
          "output_type": "execute_result",
          "data": {
            "text/plain": [
              "torch.Size([50000, 10])"
            ]
          },
          "metadata": {},
          "execution_count": 162
        }
      ]
    },
    {
      "cell_type": "code",
      "source": [
        "hidden_size = 256\n",
        "lr = 0.01\n",
        "model = FCModel(x_train.shape[1], 256)\n",
        "optimizer = torch.optim.SGD(model.parameters(), lr = lr)"
      ],
      "metadata": {
        "id": "mopWvKiHzHB-"
      },
      "execution_count": null,
      "outputs": []
    },
    {
      "cell_type": "code",
      "source": [
        "model.fc.weight.shape"
      ],
      "metadata": {
        "colab": {
          "base_uri": "https://localhost:8080/"
        },
        "id": "oJu1vb_aTmUJ",
        "outputId": "f10eafd3-060a-4455-ea1c-d7a905389e3f"
      },
      "execution_count": null,
      "outputs": [
        {
          "output_type": "execute_result",
          "data": {
            "text/plain": [
              "torch.Size([256, 784])"
            ]
          },
          "metadata": {},
          "execution_count": 164
        }
      ]
    },
    {
      "cell_type": "code",
      "source": [
        "model.fc.bias.shape"
      ],
      "metadata": {
        "colab": {
          "base_uri": "https://localhost:8080/"
        },
        "id": "ZpcTXDfETvKL",
        "outputId": "579db5ab-6b68-4b93-ad88-2200b8fd1ed8"
      },
      "execution_count": null,
      "outputs": [
        {
          "output_type": "execute_result",
          "data": {
            "text/plain": [
              "torch.Size([256])"
            ]
          },
          "metadata": {},
          "execution_count": 165
        }
      ]
    },
    {
      "cell_type": "code",
      "source": [
        "model.classification.weight.shape"
      ],
      "metadata": {
        "colab": {
          "base_uri": "https://localhost:8080/"
        },
        "id": "pF3COOkZT4Y0",
        "outputId": "c515f370-5d46-4f3f-f61e-05e818b63bed"
      },
      "execution_count": null,
      "outputs": [
        {
          "output_type": "execute_result",
          "data": {
            "text/plain": [
              "torch.Size([10, 256])"
            ]
          },
          "metadata": {},
          "execution_count": 166
        }
      ]
    },
    {
      "cell_type": "code",
      "source": [
        "epoch = 10\n",
        "for e in range(epoch):\n",
        "  output = model(x_train)\n",
        "  loss = mse_loss(output, y_train_dummy)\n",
        "  loss.backward()\n",
        "  optimizer.step()\n",
        "  optimizer.zero_grad()\n",
        "  predictions = output.argmax(-1)\n",
        "  accuracy = (predictions==y_train).float().mean()\n",
        "  print(f'epoch {e}; loss {loss.item():.4f}; accuracy {accuracy:.2f}')"
      ],
      "metadata": {
        "colab": {
          "base_uri": "https://localhost:8080/"
        },
        "id": "QIepqn5uvou3",
        "outputId": "b1824848-0aa9-4a2b-d1b3-0981c5457bd9"
      },
      "execution_count": null,
      "outputs": [
        {
          "output_type": "stream",
          "name": "stdout",
          "text": [
            "epoch 0; loss 0.1172; accuracy 0.06\n",
            "epoch 1; loss 0.1165; accuracy 0.06\n",
            "epoch 2; loss 0.1158; accuracy 0.06\n",
            "epoch 3; loss 0.1151; accuracy 0.07\n",
            "epoch 4; loss 0.1144; accuracy 0.07\n",
            "epoch 5; loss 0.1138; accuracy 0.07\n",
            "epoch 6; loss 0.1132; accuracy 0.07\n",
            "epoch 7; loss 0.1126; accuracy 0.07\n",
            "epoch 8; loss 0.1120; accuracy 0.07\n",
            "epoch 9; loss 0.1114; accuracy 0.08\n"
          ]
        }
      ]
    },
    {
      "cell_type": "code",
      "source": [
        "output[0], y_train[0]"
      ],
      "metadata": {
        "colab": {
          "base_uri": "https://localhost:8080/"
        },
        "id": "Svi-AKFazXbU",
        "outputId": "945decf9-b013-4ca2-a158-2e66fe194f99"
      },
      "execution_count": null,
      "outputs": [
        {
          "output_type": "execute_result",
          "data": {
            "text/plain": [
              "(tensor([ 0.08,  0.08, -0.05, -0.11,  0.18, -0.02, -0.04,  0.25, -0.15,  0.04], grad_fn=<SelectBackward0>),\n",
              " tensor(5))"
            ]
          },
          "metadata": {},
          "execution_count": 76
        }
      ]
    },
    {
      "cell_type": "code",
      "source": [
        "hidden_size = 256\n",
        "lr = 0.01\n",
        "model = FCModel(x_train.shape[1], 256)\n",
        "optimizer = torch.optim.SGD(model.parameters(), lr = lr)"
      ],
      "metadata": {
        "id": "Clg1xi8cwJGb"
      },
      "execution_count": null,
      "outputs": []
    },
    {
      "cell_type": "code",
      "source": [
        "for e in range(epoch):\n",
        "  output = model(x_train)\n",
        "  loss = ce_loss(output, y_train)\n",
        "  loss.backward()\n",
        "  optimizer.step()\n",
        "  optimizer.zero_grad()\n",
        "  predictions = output.argmax(-1)\n",
        "  accuracy = (predictions==y_train).float().mean()\n",
        "  print(f'epoch {e}; loss {loss.item():.4f}; accuracy {accuracy:.2f}')"
      ],
      "metadata": {
        "colab": {
          "base_uri": "https://localhost:8080/"
        },
        "id": "YiwF72Bzx6Rv",
        "outputId": "30e843b7-f7c9-4423-ff20-241d7b6ee418"
      },
      "execution_count": null,
      "outputs": [
        {
          "output_type": "stream",
          "name": "stdout",
          "text": [
            "epoch 0; loss 2.2971; accuracy 0.11\n",
            "epoch 1; loss 2.2951; accuracy 0.11\n",
            "epoch 2; loss 2.2932; accuracy 0.11\n",
            "epoch 3; loss 2.2912; accuracy 0.11\n",
            "epoch 4; loss 2.2893; accuracy 0.12\n",
            "epoch 5; loss 2.2873; accuracy 0.12\n",
            "epoch 6; loss 2.2854; accuracy 0.12\n",
            "epoch 7; loss 2.2835; accuracy 0.12\n",
            "epoch 8; loss 2.2815; accuracy 0.13\n",
            "epoch 9; loss 2.2796; accuracy 0.13\n"
          ]
        }
      ]
    },
    {
      "cell_type": "code",
      "source": [
        "output[0], y_train[0]"
      ],
      "metadata": {
        "colab": {
          "base_uri": "https://localhost:8080/"
        },
        "id": "IcOIhRnoySOJ",
        "outputId": "d589a967-8e50-4339-8ed9-0c6d6a289e2f"
      },
      "execution_count": null,
      "outputs": [
        {
          "output_type": "execute_result",
          "data": {
            "text/plain": [
              "(tensor([-0.00, -0.08,  0.01, -0.07, -0.19, -0.01,  0.04,  0.07,  0.01, -0.09], grad_fn=<SelectBackward0>),\n",
              " tensor(5))"
            ]
          },
          "metadata": {},
          "execution_count": 72
        }
      ]
    },
    {
      "cell_type": "code",
      "source": [],
      "metadata": {
        "id": "KnJDqY-azPHC"
      },
      "execution_count": null,
      "outputs": []
    }
  ]
}