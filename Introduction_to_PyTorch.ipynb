{
  "nbformat": 4,
  "nbformat_minor": 0,
  "metadata": {
    "colab": {
      "provenance": [],
      "authorship_tag": "ABX9TyPmI+wlClpUazDmOzoqE14O",
      "include_colab_link": true
    },
    "kernelspec": {
      "name": "python3",
      "display_name": "Python 3"
    },
    "language_info": {
      "name": "python"
    }
  },
  "cells": [
    {
      "cell_type": "markdown",
      "metadata": {
        "id": "view-in-github",
        "colab_type": "text"
      },
      "source": [
        "<a href=\"https://colab.research.google.com/github/davoodwadi/davoodwadi.github.io/blob/main/Introduction_to_PyTorch.ipynb\" target=\"_parent\"><img src=\"https://colab.research.google.com/assets/colab-badge.svg\" alt=\"Open In Colab\"/></a>"
      ]
    },
    {
      "cell_type": "code",
      "source": [
        "!git clone \"https://github.com/davoodwadi/davoodwadi.github.io.git\""
      ],
      "metadata": {
        "colab": {
          "base_uri": "https://localhost:8080/"
        },
        "id": "HLj0bGRzt1WG",
        "outputId": "210b8fbc-fba4-4631-95ce-8cab009f5867"
      },
      "execution_count": 1,
      "outputs": [
        {
          "output_type": "stream",
          "name": "stdout",
          "text": [
            "Cloning into 'davoodwadi.github.io'...\n",
            "remote: Enumerating objects: 755, done.\u001b[K\n",
            "remote: Counting objects: 100% (19/19), done.\u001b[K\n",
            "remote: Compressing objects: 100% (16/16), done.\u001b[K\n",
            "remote: Total 755 (delta 4), reused 5 (delta 1), pack-reused 736\u001b[K\n",
            "Receiving objects: 100% (755/755), 89.73 MiB | 32.12 MiB/s, done.\n",
            "Resolving deltas: 100% (432/432), done.\n",
            "Updating files: 100% (239/239), done.\n"
          ]
        }
      ]
    },
    {
      "cell_type": "code",
      "execution_count": 1,
      "metadata": {
        "id": "3jKu76UtsdU6"
      },
      "outputs": [],
      "source": [
        "import pickle,gzip,math,os,time,shutil,torch,matplotlib as mpl, numpy as np, matplotlib.pyplot as plt\n",
        "from pathlib import Path\n",
        "from torch import tensor, nn"
      ]
    },
    {
      "cell_type": "code",
      "source": [
        "torch.manual_seed(42)\n",
        "\n",
        "mpl.rcParams['image.cmap'] = 'gray'\n",
        "torch.set_printoptions(precision=2, linewidth=125, sci_mode=False)\n",
        "np.set_printoptions(precision=2, linewidth=125)"
      ],
      "metadata": {
        "id": "A5oCxpApsmdY"
      },
      "execution_count": 2,
      "outputs": []
    },
    {
      "cell_type": "markdown",
      "source": [
        "# Linear Regression and Gradient Descent"
      ],
      "metadata": {
        "id": "QDU3tk1ovCCx"
      }
    },
    {
      "cell_type": "code",
      "source": [
        "X = torch.randn(100, 1)\n",
        "y = X * 4 + torch.randn(100, 1)\n",
        "X.shape, y.shape"
      ],
      "metadata": {
        "colab": {
          "base_uri": "https://localhost:8080/"
        },
        "id": "gATUwc8_vGea",
        "outputId": "2756eb12-18ae-4280-badb-b498b1ef2c51"
      },
      "execution_count": 3,
      "outputs": [
        {
          "output_type": "execute_result",
          "data": {
            "text/plain": [
              "(torch.Size([100, 1]), torch.Size([100, 1]))"
            ]
          },
          "metadata": {},
          "execution_count": 3
        }
      ]
    },
    {
      "cell_type": "code",
      "source": [
        "plt.scatter(X,y)"
      ],
      "metadata": {
        "colab": {
          "base_uri": "https://localhost:8080/",
          "height": 448
        },
        "id": "KdK4ABISvGbp",
        "outputId": "80f23cd2-b1f0-40ac-b994-1ede6aecb88a"
      },
      "execution_count": 4,
      "outputs": [
        {
          "output_type": "execute_result",
          "data": {
            "text/plain": [
              "<matplotlib.collections.PathCollection at 0x7bfff9287970>"
            ]
          },
          "metadata": {},
          "execution_count": 4
        },
        {
          "output_type": "display_data",
          "data": {
            "text/plain": [
              "<Figure size 640x480 with 1 Axes>"
            ],
            "image/png": "[encoded data removed]"
          },
          "metadata": {}
        }
      ]
    },
    {
      "cell_type": "code",
      "source": [
        "Ws = torch.linspace(0,8, 50)\n",
        "Ws"
      ],
      "metadata": {
        "colab": {
          "base_uri": "https://localhost:8080/"
        },
        "id": "Rfmm1CUQDb0K",
        "outputId": "dcd036d5-a4b5-41b3-cf7a-01d85c942812"
      },
      "execution_count": 5,
      "outputs": [
        {
          "output_type": "execute_result",
          "data": {
            "text/plain": [
              "tensor([0.00, 0.16, 0.33, 0.49, 0.65, 0.82, 0.98, 1.14, 1.31, 1.47, 1.63, 1.80, 1.96, 2.12, 2.29, 2.45, 2.61, 2.78, 2.94,\n",
              "        3.10, 3.27, 3.43, 3.59, 3.76, 3.92, 4.08, 4.24, 4.41, 4.57, 4.73, 4.90, 5.06, 5.22, 5.39, 5.55, 5.71, 5.88, 6.04,\n",
              "        6.20, 6.37, 6.53, 6.69, 6.86, 7.02, 7.18, 7.35, 7.51, 7.67, 7.84, 8.00])"
            ]
          },
          "metadata": {},
          "execution_count": 5
        }
      ]
    },
    {
      "cell_type": "code",
      "source": [
        "X.shape"
      ],
      "metadata": {
        "colab": {
          "base_uri": "https://localhost:8080/"
        },
        "id": "2QljeqtZD4fa",
        "outputId": "49fcfea7-2fa8-4f18-b0c4-8a86545ee7e2"
      },
      "execution_count": 6,
      "outputs": [
        {
          "output_type": "execute_result",
          "data": {
            "text/plain": [
              "torch.Size([100, 1])"
            ]
          },
          "metadata": {},
          "execution_count": 6
        }
      ]
    },
    {
      "cell_type": "code",
      "source": [
        "losses = []\n",
        "for w in Ws:\n",
        "  y_pred = X*w\n",
        "  loss = (y-y_pred).pow(2).mean() #mse\n",
        "  losses.append(loss.item())"
      ],
      "metadata": {
        "id": "phbGUM0sDbxz"
      },
      "execution_count": 7,
      "outputs": []
    },
    {
      "cell_type": "code",
      "source": [
        "plt.plot(Ws, losses)"
      ],
      "metadata": {
        "colab": {
          "base_uri": "https://localhost:8080/",
          "height": 448
        },
        "id": "zIOqG2FXDbvV",
        "outputId": "5f2794bd-061b-4878-c332-5ee8fc4812ac"
      },
      "execution_count": 8,
      "outputs": [
        {
          "output_type": "execute_result",
          "data": {
            "text/plain": [
              "[<matplotlib.lines.Line2D at 0x7bfff91d8070>]"
            ]
          },
          "metadata": {},
          "execution_count": 8
        },
        {
          "output_type": "display_data",
          "data": {
            "text/plain": [
              "<Figure size 640x480 with 1 Axes>"
            ],
            "image/png": "[encoded data removed]"
          },
          "metadata": {}
        }
      ]
    },
    {
      "cell_type": "code",
      "source": [],
      "metadata": {
        "id": "vOI3UtXVDbsy"
      },
      "execution_count": 10,
      "outputs": []
    },
    {
      "cell_type": "code",
      "source": [
        "w = tensor([[1.]], requires_grad=True)\n",
        "w"
      ],
      "metadata": {
        "colab": {
          "base_uri": "https://localhost:8080/"
        },
        "id": "yaMnTqalvGXZ",
        "outputId": "558f807b-1753-43fe-b2b4-4b925d240569"
      },
      "execution_count": 10,
      "outputs": [
        {
          "output_type": "execute_result",
          "data": {
            "text/plain": [
              "tensor([[1.]], requires_grad=True)"
            ]
          },
          "metadata": {},
          "execution_count": 10
        }
      ]
    },
    {
      "cell_type": "code",
      "source": [
        "y_hat = X @ w"
      ],
      "metadata": {
        "id": "5IKWRmpfvGUE"
      },
      "execution_count": 11,
      "outputs": []
    },
    {
      "cell_type": "code",
      "source": [
        "loss_fn = nn.MSELoss()"
      ],
      "metadata": {
        "id": "YTL5fsgBuzdc"
      },
      "execution_count": 12,
      "outputs": []
    },
    {
      "cell_type": "code",
      "source": [
        "loss = loss_fn(y_hat, y)\n",
        "loss"
      ],
      "metadata": {
        "colab": {
          "base_uri": "https://localhost:8080/"
        },
        "id": "bEf5ZZF8uzaf",
        "outputId": "f14fed5e-be97-4a5f-8d79-d116e188d2c3"
      },
      "execution_count": 13,
      "outputs": [
        {
          "output_type": "execute_result",
          "data": {
            "text/plain": [
              "tensor(9.56, grad_fn=<MseLossBackward0>)"
            ]
          },
          "metadata": {},
          "execution_count": 13
        }
      ]
    },
    {
      "cell_type": "code",
      "source": [
        "loss.backward()"
      ],
      "metadata": {
        "id": "3WYdr5AG_mae"
      },
      "execution_count": 14,
      "outputs": []
    },
    {
      "cell_type": "code",
      "source": [
        "w.grad"
      ],
      "metadata": {
        "colab": {
          "base_uri": "https://localhost:8080/"
        },
        "id": "p08t7QCV_vZB",
        "outputId": "086f4bd0-7810-4ae0-a2db-68cbc11c3653"
      },
      "execution_count": 15,
      "outputs": [
        {
          "output_type": "execute_result",
          "data": {
            "text/plain": [
              "tensor([[-5.83]])"
            ]
          },
          "metadata": {},
          "execution_count": 15
        }
      ]
    },
    {
      "cell_type": "markdown",
      "source": [
        "gradient descent step"
      ],
      "metadata": {
        "id": "wzYO7ap5_-iH"
      }
    },
    {
      "cell_type": "code",
      "source": [
        "lr = 0.01\n",
        "with torch.no_grad():\n",
        "  w = w - w.grad * lr\n",
        "w"
      ],
      "metadata": {
        "id": "hMTFhMmv_9ra",
        "colab": {
          "base_uri": "https://localhost:8080/"
        },
        "outputId": "cf5d9cab-9df5-4d87-b851-147cd4791ef5"
      },
      "execution_count": 16,
      "outputs": [
        {
          "output_type": "execute_result",
          "data": {
            "text/plain": [
              "tensor([[1.06]])"
            ]
          },
          "metadata": {},
          "execution_count": 16
        }
      ]
    },
    {
      "cell_type": "markdown",
      "source": [
        "In a loop"
      ],
      "metadata": {
        "id": "VklSHAvHZblT"
      }
    },
    {
      "cell_type": "markdown",
      "source": [
        "## Note. *Resetting the gradient must be inside the no_grad context manager.*"
      ],
      "metadata": {
        "id": "SxVxKhHRaREx"
      }
    },
    {
      "cell_type": "code",
      "source": [
        "w = tensor([[1.]], requires_grad=True)\n",
        "for iteration in range(200):\n",
        "  y_hat = X @ w\n",
        "  loss = loss_fn(y_hat, y)\n",
        "  loss.backward()\n",
        "  with torch.no_grad():\n",
        "    w.data = w.data - w.grad * lr\n",
        "    # resetting the gradient must be inside the no_grad context manager\n",
        "    w.grad = None\n",
        "  if iteration%10==0:\n",
        "    print(f'loss`: {loss:.2f}, w: {w.item():.2f}')\n",
        "\n",
        "\n",
        "\n"
      ],
      "metadata": {
        "colab": {
          "base_uri": "https://localhost:8080/"
        },
        "id": "nMoDr8tbGVeQ",
        "outputId": "a10814e9-23e3-4757-862e-41154e781a3f"
      },
      "execution_count": 28,
      "outputs": [
        {
          "output_type": "stream",
          "name": "stdout",
          "text": [
            "loss`: 9.56, w: 1.06\n",
            "loss`: 6.72, w: 1.58\n",
            "loss`: 4.80, w: 2.01\n",
            "loss`: 3.50, w: 2.37\n",
            "loss`: 2.62, w: 2.66\n",
            "loss`: 2.03, w: 2.90\n",
            "loss`: 1.63, w: 3.10\n",
            "loss`: 1.35, w: 3.26\n",
            "loss`: 1.17, w: 3.39\n",
            "loss`: 1.04, w: 3.50\n",
            "loss`: 0.96, w: 3.59\n",
            "loss`: 0.90, w: 3.67\n",
            "loss`: 0.86, w: 3.73\n",
            "loss`: 0.84, w: 3.78\n",
            "loss`: 0.82, w: 3.82\n",
            "loss`: 0.81, w: 3.86\n",
            "loss`: 0.80, w: 3.88\n",
            "loss`: 0.79, w: 3.91\n",
            "loss`: 0.79, w: 3.93\n",
            "loss`: 0.79, w: 3.94\n"
          ]
        }
      ]
    },
    {
      "cell_type": "code",
      "source": [
        "w = tensor([[1.]], requires_grad=True)\n",
        "optimizer = torch.optim.SGD([w], lr = lr)"
      ],
      "metadata": {
        "id": "seQGmq-kGVbV"
      },
      "execution_count": 22,
      "outputs": []
    },
    {
      "cell_type": "code",
      "source": [
        "for iteration in range(20):\n",
        "  y_hat = X @ w\n",
        "  loss = loss_fn(y_hat, y)\n",
        "  loss.backward()\n",
        "  optimizer.step()\n",
        "  optimizer.zero_grad()\n",
        "  print(f'loss`: {loss:.2f}, w: {w}')\n"
      ],
      "metadata": {
        "colab": {
          "base_uri": "https://localhost:8080/"
        },
        "id": "_h49JvclGVYt",
        "outputId": "ac0f8781-0ee1-429a-8c12-ce0121fd882b"
      },
      "execution_count": 23,
      "outputs": [
        {
          "output_type": "stream",
          "name": "stdout",
          "text": [
            "loss`: 9.56, w: tensor([[1.06]], requires_grad=True)\n",
            "loss`: 9.23, w: tensor([[1.12]], requires_grad=True)\n",
            "loss`: 8.90, w: tensor([[1.17]], requires_grad=True)\n",
            "loss`: 8.59, w: tensor([[1.23]], requires_grad=True)\n",
            "loss`: 8.29, w: tensor([[1.28]], requires_grad=True)\n",
            "loss`: 8.01, w: tensor([[1.33]], requires_grad=True)\n",
            "loss`: 7.73, w: tensor([[1.39]], requires_grad=True)\n",
            "loss`: 7.46, w: tensor([[1.44]], requires_grad=True)\n",
            "loss`: 7.21, w: tensor([[1.49]], requires_grad=True)\n",
            "loss`: 6.96, w: tensor([[1.53]], requires_grad=True)\n",
            "loss`: 6.72, w: tensor([[1.58]], requires_grad=True)\n",
            "loss`: 6.50, w: tensor([[1.63]], requires_grad=True)\n",
            "loss`: 6.28, w: tensor([[1.68]], requires_grad=True)\n",
            "loss`: 6.07, w: tensor([[1.72]], requires_grad=True)\n",
            "loss`: 5.87, w: tensor([[1.77]], requires_grad=True)\n",
            "loss`: 5.67, w: tensor([[1.81]], requires_grad=True)\n",
            "loss`: 5.48, w: tensor([[1.85]], requires_grad=True)\n",
            "loss`: 5.30, w: tensor([[1.89]], requires_grad=True)\n",
            "loss`: 5.13, w: tensor([[1.93]], requires_grad=True)\n",
            "loss`: 4.96, w: tensor([[1.97]], requires_grad=True)\n"
          ]
        }
      ]
    },
    {
      "cell_type": "code",
      "source": [],
      "metadata": {
        "id": "f40-jYTVGVWA"
      },
      "execution_count": 23,
      "outputs": []
    },
    {
      "cell_type": "markdown",
      "source": [
        "# MNIST dataset"
      ],
      "metadata": {
        "id": "2jxppWlJu0WY"
      }
    },
    {
      "cell_type": "code",
      "source": [
        "path_data = Path('./davoodwadi.github.io/data/')\n",
        "path_gz = path_data/'mnist.pkl.gz'\n",
        "with gzip.open(path_gz, 'rb') as f: ((x_train, y_train), (x_valid, y_valid), _) = pickle.load(f, encoding='latin-1')\n",
        "x_train, y_train, x_valid, y_valid = map(tensor, [x_train, y_train, x_valid, y_valid])"
      ],
      "metadata": {
        "id": "b0vVR4dhuzXU"
      },
      "execution_count": 24,
      "outputs": []
    },
    {
      "cell_type": "code",
      "source": [
        "x_train.shape"
      ],
      "metadata": {
        "colab": {
          "base_uri": "https://localhost:8080/"
        },
        "id": "uTPmluE_K_YN",
        "outputId": "546acf9d-2ee4-46c7-c75a-e216b38a0dfa"
      },
      "execution_count": 25,
      "outputs": [
        {
          "output_type": "execute_result",
          "data": {
            "text/plain": [
              "torch.Size([50000, 784])"
            ]
          },
          "metadata": {},
          "execution_count": 25
        }
      ]
    },
    {
      "cell_type": "code",
      "source": [
        "# x_binary = x_train[(y_train==0) | (y_train==1)]\n",
        "# y_binary = y_train[(y_train==0) | (y_train==1)]"
      ],
      "metadata": {
        "id": "bgIc6Lm6zxdi"
      },
      "execution_count": 26,
      "outputs": []
    },
    {
      "cell_type": "code",
      "source": [
        "y_train[0]"
      ],
      "metadata": {
        "colab": {
          "base_uri": "https://localhost:8080/"
        },
        "id": "ghzxhBaiLPnd",
        "outputId": "2558b603-2a7c-4b83-f798-9613d4fb6e85"
      },
      "execution_count": 27,
      "outputs": [
        {
          "output_type": "execute_result",
          "data": {
            "text/plain": [
              "tensor(5)"
            ]
          },
          "metadata": {},
          "execution_count": 27
        }
      ]
    },
    {
      "cell_type": "code",
      "source": [
        "i=0\n",
        "plt.imshow(x_train[i].view(28,28))\n",
        "plt.title(y_train[i].item())"
      ],
      "metadata": {
        "colab": {
          "base_uri": "https://localhost:8080/",
          "height": 470
        },
        "id": "MMWj-u3zsxmH",
        "outputId": "b0fb9a50-e58b-4193-fff1-d20dc6aed470"
      },
      "execution_count": 28,
      "outputs": [
        {
          "output_type": "execute_result",
          "data": {
            "text/plain": [
              "Text(0.5, 1.0, '5')"
            ]
          },
          "metadata": {},
          "execution_count": 28
        },
        {
          "output_type": "display_data",
          "data": {
            "text/plain": [
              "<Figure size 640x480 with 1 Axes>"
            ],
            "image/png": "[encoded data removed]"
          },
          "metadata": {}
        }
      ]
    },
    {
      "cell_type": "markdown",
      "source": [
        "# MSE loss for classification"
      ],
      "metadata": {
        "id": "-eLXAkfT5Mlp"
      }
    },
    {
      "cell_type": "code",
      "source": [
        "mse_loss = torch.nn.MSELoss()\n",
        "inp = tensor([[.9,0.1]])\n",
        "tarOnehot = tensor([[0, 1]])\n",
        "mse_loss(inp, tarOnehot)"
      ],
      "metadata": {
        "colab": {
          "base_uri": "https://localhost:8080/"
        },
        "id": "AEisHKyQ4c-y",
        "outputId": "797b8fcc-4be6-42cf-d953-1dc4c8c8d464"
      },
      "execution_count": 29,
      "outputs": [
        {
          "output_type": "execute_result",
          "data": {
            "text/plain": [
              "tensor(0.81)"
            ]
          },
          "metadata": {},
          "execution_count": 29
        }
      ]
    },
    {
      "cell_type": "code",
      "source": [
        "mse_loss = torch.nn.MSELoss()\n",
        "inp = tensor([[.5,0.1, 0.1, 0.1, 0.1, 0., 0., 0., 0., 0.1 ]])\n",
        "tarOnehot = tensor([[0, 1, 0, 0, 0, 0, 0, 0, 0, 0]])\n",
        "mse_loss(inp, tarOnehot)"
      ],
      "metadata": {
        "colab": {
          "base_uri": "https://localhost:8080/"
        },
        "id": "7wXExvyX5Qqy",
        "outputId": "6227eae3-2d4b-4afd-86d8-0a4b71738363"
      },
      "execution_count": 30,
      "outputs": [
        {
          "output_type": "execute_result",
          "data": {
            "text/plain": [
              "tensor(0.11)"
            ]
          },
          "metadata": {},
          "execution_count": 30
        }
      ]
    },
    {
      "cell_type": "markdown",
      "source": [
        "## CrossEntropy loss"
      ],
      "metadata": {
        "id": "-H61GKgQ5R3T"
      }
    },
    {
      "cell_type": "code",
      "source": [
        "ce_loss = torch.nn.CrossEntropyLoss()\n",
        "inp = tensor([[.9,0.1]])\n",
        "logInp = inp.log()\n",
        "print(logInp)\n",
        "tar = tensor([1])\n",
        "\n",
        "ce_loss(logInp, tar).item()"
      ],
      "metadata": {
        "colab": {
          "base_uri": "https://localhost:8080/"
        },
        "id": "BrrOeqrjszIp",
        "outputId": "172a8c26-5f22-443f-f9d4-0bb00501a76d"
      },
      "execution_count": 31,
      "outputs": [
        {
          "output_type": "stream",
          "name": "stdout",
          "text": [
            "tensor([[-0.11, -2.30]])\n"
          ]
        },
        {
          "output_type": "execute_result",
          "data": {
            "text/plain": [
              "2.3025851249694824"
            ]
          },
          "metadata": {},
          "execution_count": 31
        }
      ]
    },
    {
      "cell_type": "code",
      "source": [
        "p = tensor(0.1)\n",
        "(-1) * (tar * p.log() + (1-tar) * (1-p).log())"
      ],
      "metadata": {
        "colab": {
          "base_uri": "https://localhost:8080/"
        },
        "id": "6wSC2JsTtI2N",
        "outputId": "815c5927-e1db-4dd1-81c0-7169b8a79311"
      },
      "execution_count": 32,
      "outputs": [
        {
          "output_type": "execute_result",
          "data": {
            "text/plain": [
              "tensor([2.30])"
            ]
          },
          "metadata": {},
          "execution_count": 32
        }
      ]
    },
    {
      "cell_type": "markdown",
      "source": [
        "## 10 classes"
      ],
      "metadata": {
        "id": "oVIV1eqL3e8w"
      }
    },
    {
      "cell_type": "code",
      "source": [
        "ce_loss = torch.nn.CrossEntropyLoss()\n",
        "inp = tensor([[.5,0.1, 0.1, 0.1, 0.1, 0., 0., 0., 0., 0.1 ]])\n",
        "logInp = inp.log()\n",
        "print(logInp)\n",
        "tar = tensor([1])\n",
        "print(inp.shape, tar.shape)\n",
        "ce_loss(logInp, tar).item()"
      ],
      "metadata": {
        "colab": {
          "base_uri": "https://localhost:8080/"
        },
        "id": "moh2UB1R2ANr",
        "outputId": "01f21662-0268-4082-f7af-75199cf672f4"
      },
      "execution_count": 33,
      "outputs": [
        {
          "output_type": "stream",
          "name": "stdout",
          "text": [
            "tensor([[-0.69, -2.30, -2.30, -2.30, -2.30,  -inf,  -inf,  -inf,  -inf, -2.30]])\n",
            "torch.Size([1, 10]) torch.Size([1])\n"
          ]
        },
        {
          "output_type": "execute_result",
          "data": {
            "text/plain": [
              "2.3025851249694824"
            ]
          },
          "metadata": {},
          "execution_count": 33
        }
      ]
    },
    {
      "cell_type": "code",
      "source": [
        "p = tensor(0.1)\n",
        "(-1) * (tar * p.log())"
      ],
      "metadata": {
        "colab": {
          "base_uri": "https://localhost:8080/"
        },
        "id": "hX0-bkKu3kNw",
        "outputId": "4920ad8e-a180-4721-9f27-eb9907b43a55"
      },
      "execution_count": 34,
      "outputs": [
        {
          "output_type": "execute_result",
          "data": {
            "text/plain": [
              "tensor([2.30])"
            ]
          },
          "metadata": {},
          "execution_count": 34
        }
      ]
    },
    {
      "cell_type": "markdown",
      "source": [
        "# Datasets and dataloaders"
      ],
      "metadata": {
        "id": "y-H4zwdF85FB"
      }
    },
    {
      "cell_type": "code",
      "source": [
        "from torch.utils.data import Dataset, DataLoader"
      ],
      "metadata": {
        "id": "agmO7BKv3-wi"
      },
      "execution_count": 35,
      "outputs": []
    },
    {
      "cell_type": "code",
      "source": [
        "class dataset(Dataset):\n",
        "  def __init__(self, x, y):\n",
        "    self.x = x\n",
        "    self.y = y\n",
        "\n",
        "  def __len__(self):\n",
        "    return len(self.x)\n",
        "\n",
        "  def __getitem__(self, index):\n",
        "    return self.x[index], self.y[index]"
      ],
      "metadata": {
        "id": "wpvRvKsX9Hns"
      },
      "execution_count": 36,
      "outputs": []
    },
    {
      "cell_type": "code",
      "source": [
        "data_train = dataset(x_train, y_train)"
      ],
      "metadata": {
        "id": "oAKJD6hc9s7E"
      },
      "execution_count": 37,
      "outputs": []
    },
    {
      "cell_type": "code",
      "source": [
        "x, y = data_train[0]"
      ],
      "metadata": {
        "id": "T9meHopy9xVz"
      },
      "execution_count": 38,
      "outputs": []
    },
    {
      "cell_type": "code",
      "source": [
        "x.shape"
      ],
      "metadata": {
        "colab": {
          "base_uri": "https://localhost:8080/"
        },
        "id": "cdNXltssOMX7",
        "outputId": "0e0ea68c-4020-4526-d732-10558ecb2bc5"
      },
      "execution_count": 39,
      "outputs": [
        {
          "output_type": "execute_result",
          "data": {
            "text/plain": [
              "torch.Size([784])"
            ]
          },
          "metadata": {},
          "execution_count": 39
        }
      ]
    },
    {
      "cell_type": "code",
      "source": [
        "y"
      ],
      "metadata": {
        "colab": {
          "base_uri": "https://localhost:8080/"
        },
        "id": "lVmjV7DUOOFb",
        "outputId": "b3e3d7e7-2d37-4c97-b89f-6f60b0360602"
      },
      "execution_count": 40,
      "outputs": [
        {
          "output_type": "execute_result",
          "data": {
            "text/plain": [
              "tensor(5)"
            ]
          },
          "metadata": {},
          "execution_count": 40
        }
      ]
    },
    {
      "cell_type": "code",
      "source": [
        "train_dataset = ...\n",
        "valid_dataset = ..."
      ],
      "metadata": {
        "id": "953EaCvP-JZA"
      },
      "execution_count": 41,
      "outputs": []
    },
    {
      "cell_type": "code",
      "source": [
        "train_loader = DataLoader(data_train, batch_size=64, shuffle=True, drop_last=True)\n",
        "# valid_loader = DataLoader(x_valid, batch_size=64, shuffle=False)"
      ],
      "metadata": {
        "id": "8g_RLS7u9pc0"
      },
      "execution_count": 42,
      "outputs": []
    },
    {
      "cell_type": "code",
      "source": [
        "for xs, ys in train_loader:\n",
        "  print(xs.shape)"
      ],
      "metadata": {
        "colab": {
          "base_uri": "https://localhost:8080/"
        },
        "id": "_DzS5wA6-Bgz",
        "outputId": "7828df02-f22b-4ba2-a970-945e51f8b7de"
      },
      "execution_count": 43,
      "outputs": [
        {
          "output_type": "stream",
          "name": "stdout",
          "text": [
            "torch.Size([64, 784])\n",
            "torch.Size([64, 784])\n",
            "torch.Size([64, 784])\n",
            "torch.Size([64, 784])\n",
            "torch.Size([64, 784])\n",
            "torch.Size([64, 784])\n",
            "torch.Size([64, 784])\n",
            "torch.Size([64, 784])\n",
            "torch.Size([64, 784])\n",
            "torch.Size([64, 784])\n",
            "torch.Size([64, 784])\n",
            "torch.Size([64, 784])\n",
            "torch.Size([64, 784])\n",
            "torch.Size([64, 784])\n",
            "torch.Size([64, 784])\n",
            "torch.Size([64, 784])\n",
            "torch.Size([64, 784])\n",
            "torch.Size([64, 784])\n",
            "torch.Size([64, 784])\n",
            "torch.Size([64, 784])\n",
            "torch.Size([64, 784])\n",
            "torch.Size([64, 784])\n",
            "torch.Size([64, 784])\n",
            "torch.Size([64, 784])\n",
            "torch.Size([64, 784])\n",
            "torch.Size([64, 784])\n",
            "torch.Size([64, 784])\n",
            "torch.Size([64, 784])\n",
            "torch.Size([64, 784])\n",
            "torch.Size([64, 784])\n",
            "torch.Size([64, 784])\n",
            "torch.Size([64, 784])\n",
            "torch.Size([64, 784])\n",
            "torch.Size([64, 784])\n",
            "torch.Size([64, 784])\n",
            "torch.Size([64, 784])\n",
            "torch.Size([64, 784])\n",
            "torch.Size([64, 784])\n",
            "torch.Size([64, 784])\n",
            "torch.Size([64, 784])\n",
            "torch.Size([64, 784])\n",
            "torch.Size([64, 784])\n",
            "torch.Size([64, 784])\n",
            "torch.Size([64, 784])\n",
            "torch.Size([64, 784])\n",
            "torch.Size([64, 784])\n",
            "torch.Size([64, 784])\n",
            "torch.Size([64, 784])\n",
            "torch.Size([64, 784])\n",
            "torch.Size([64, 784])\n",
            "torch.Size([64, 784])\n",
            "torch.Size([64, 784])\n",
            "torch.Size([64, 784])\n",
            "torch.Size([64, 784])\n",
            "torch.Size([64, 784])\n",
            "torch.Size([64, 784])\n",
            "torch.Size([64, 784])\n",
            "torch.Size([64, 784])\n",
            "torch.Size([64, 784])\n",
            "torch.Size([64, 784])\n",
            "torch.Size([64, 784])\n",
            "torch.Size([64, 784])\n",
            "torch.Size([64, 784])\n",
            "torch.Size([64, 784])\n",
            "torch.Size([64, 784])\n",
            "torch.Size([64, 784])\n",
            "torch.Size([64, 784])\n",
            "torch.Size([64, 784])\n",
            "torch.Size([64, 784])\n",
            "torch.Size([64, 784])\n",
            "torch.Size([64, 784])\n",
            "torch.Size([64, 784])\n",
            "torch.Size([64, 784])\n",
            "torch.Size([64, 784])\n",
            "torch.Size([64, 784])\n",
            "torch.Size([64, 784])\n",
            "torch.Size([64, 784])\n",
            "torch.Size([64, 784])\n",
            "torch.Size([64, 784])\n",
            "torch.Size([64, 784])\n",
            "torch.Size([64, 784])\n",
            "torch.Size([64, 784])\n",
            "torch.Size([64, 784])\n",
            "torch.Size([64, 784])\n",
            "torch.Size([64, 784])\n",
            "torch.Size([64, 784])\n",
            "torch.Size([64, 784])\n",
            "torch.Size([64, 784])\n",
            "torch.Size([64, 784])\n",
            "torch.Size([64, 784])\n",
            "torch.Size([64, 784])\n",
            "torch.Size([64, 784])\n",
            "torch.Size([64, 784])\n",
            "torch.Size([64, 784])\n",
            "torch.Size([64, 784])\n",
            "torch.Size([64, 784])\n",
            "torch.Size([64, 784])\n",
            "torch.Size([64, 784])\n",
            "torch.Size([64, 784])\n",
            "torch.Size([64, 784])\n",
            "torch.Size([64, 784])\n",
            "torch.Size([64, 784])\n",
            "torch.Size([64, 784])\n",
            "torch.Size([64, 784])\n",
            "torch.Size([64, 784])\n",
            "torch.Size([64, 784])\n",
            "torch.Size([64, 784])\n",
            "torch.Size([64, 784])\n",
            "torch.Size([64, 784])\n",
            "torch.Size([64, 784])\n",
            "torch.Size([64, 784])\n",
            "torch.Size([64, 784])\n",
            "torch.Size([64, 784])\n",
            "torch.Size([64, 784])\n",
            "torch.Size([64, 784])\n",
            "torch.Size([64, 784])\n",
            "torch.Size([64, 784])\n",
            "torch.Size([64, 784])\n",
            "torch.Size([64, 784])\n",
            "torch.Size([64, 784])\n",
            "torch.Size([64, 784])\n",
            "torch.Size([64, 784])\n",
            "torch.Size([64, 784])\n",
            "torch.Size([64, 784])\n",
            "torch.Size([64, 784])\n",
            "torch.Size([64, 784])\n",
            "torch.Size([64, 784])\n",
            "torch.Size([64, 784])\n",
            "torch.Size([64, 784])\n",
            "torch.Size([64, 784])\n",
            "torch.Size([64, 784])\n",
            "torch.Size([64, 784])\n",
            "torch.Size([64, 784])\n",
            "torch.Size([64, 784])\n",
            "torch.Size([64, 784])\n",
            "torch.Size([64, 784])\n",
            "torch.Size([64, 784])\n",
            "torch.Size([64, 784])\n",
            "torch.Size([64, 784])\n",
            "torch.Size([64, 784])\n",
            "torch.Size([64, 784])\n",
            "torch.Size([64, 784])\n",
            "torch.Size([64, 784])\n",
            "torch.Size([64, 784])\n",
            "torch.Size([64, 784])\n",
            "torch.Size([64, 784])\n",
            "torch.Size([64, 784])\n",
            "torch.Size([64, 784])\n",
            "torch.Size([64, 784])\n",
            "torch.Size([64, 784])\n",
            "torch.Size([64, 784])\n",
            "torch.Size([64, 784])\n",
            "torch.Size([64, 784])\n",
            "torch.Size([64, 784])\n",
            "torch.Size([64, 784])\n",
            "torch.Size([64, 784])\n",
            "torch.Size([64, 784])\n",
            "torch.Size([64, 784])\n",
            "torch.Size([64, 784])\n",
            "torch.Size([64, 784])\n",
            "torch.Size([64, 784])\n",
            "torch.Size([64, 784])\n",
            "torch.Size([64, 784])\n",
            "torch.Size([64, 784])\n",
            "torch.Size([64, 784])\n",
            "torch.Size([64, 784])\n",
            "torch.Size([64, 784])\n",
            "torch.Size([64, 784])\n",
            "torch.Size([64, 784])\n",
            "torch.Size([64, 784])\n",
            "torch.Size([64, 784])\n",
            "torch.Size([64, 784])\n",
            "torch.Size([64, 784])\n",
            "torch.Size([64, 784])\n",
            "torch.Size([64, 784])\n",
            "torch.Size([64, 784])\n",
            "torch.Size([64, 784])\n",
            "torch.Size([64, 784])\n",
            "torch.Size([64, 784])\n",
            "torch.Size([64, 784])\n",
            "torch.Size([64, 784])\n",
            "torch.Size([64, 784])\n",
            "torch.Size([64, 784])\n",
            "torch.Size([64, 784])\n",
            "torch.Size([64, 784])\n",
            "torch.Size([64, 784])\n",
            "torch.Size([64, 784])\n",
            "torch.Size([64, 784])\n",
            "torch.Size([64, 784])\n",
            "torch.Size([64, 784])\n",
            "torch.Size([64, 784])\n",
            "torch.Size([64, 784])\n",
            "torch.Size([64, 784])\n",
            "torch.Size([64, 784])\n",
            "torch.Size([64, 784])\n",
            "torch.Size([64, 784])\n",
            "torch.Size([64, 784])\n",
            "torch.Size([64, 784])\n",
            "torch.Size([64, 784])\n",
            "torch.Size([64, 784])\n",
            "torch.Size([64, 784])\n",
            "torch.Size([64, 784])\n",
            "torch.Size([64, 784])\n",
            "torch.Size([64, 784])\n",
            "torch.Size([64, 784])\n",
            "torch.Size([64, 784])\n",
            "torch.Size([64, 784])\n",
            "torch.Size([64, 784])\n",
            "torch.Size([64, 784])\n",
            "torch.Size([64, 784])\n",
            "torch.Size([64, 784])\n",
            "torch.Size([64, 784])\n",
            "torch.Size([64, 784])\n",
            "torch.Size([64, 784])\n",
            "torch.Size([64, 784])\n",
            "torch.Size([64, 784])\n",
            "torch.Size([64, 784])\n",
            "torch.Size([64, 784])\n",
            "torch.Size([64, 784])\n",
            "torch.Size([64, 784])\n",
            "torch.Size([64, 784])\n",
            "torch.Size([64, 784])\n",
            "torch.Size([64, 784])\n",
            "torch.Size([64, 784])\n",
            "torch.Size([64, 784])\n",
            "torch.Size([64, 784])\n",
            "torch.Size([64, 784])\n",
            "torch.Size([64, 784])\n",
            "torch.Size([64, 784])\n",
            "torch.Size([64, 784])\n",
            "torch.Size([64, 784])\n",
            "torch.Size([64, 784])\n",
            "torch.Size([64, 784])\n",
            "torch.Size([64, 784])\n",
            "torch.Size([64, 784])\n",
            "torch.Size([64, 784])\n",
            "torch.Size([64, 784])\n",
            "torch.Size([64, 784])\n",
            "torch.Size([64, 784])\n",
            "torch.Size([64, 784])\n",
            "torch.Size([64, 784])\n",
            "torch.Size([64, 784])\n",
            "torch.Size([64, 784])\n",
            "torch.Size([64, 784])\n",
            "torch.Size([64, 784])\n",
            "torch.Size([64, 784])\n",
            "torch.Size([64, 784])\n",
            "torch.Size([64, 784])\n",
            "torch.Size([64, 784])\n",
            "torch.Size([64, 784])\n",
            "torch.Size([64, 784])\n",
            "torch.Size([64, 784])\n",
            "torch.Size([64, 784])\n",
            "torch.Size([64, 784])\n",
            "torch.Size([64, 784])\n",
            "torch.Size([64, 784])\n",
            "torch.Size([64, 784])\n",
            "torch.Size([64, 784])\n",
            "torch.Size([64, 784])\n",
            "torch.Size([64, 784])\n",
            "torch.Size([64, 784])\n",
            "torch.Size([64, 784])\n",
            "torch.Size([64, 784])\n",
            "torch.Size([64, 784])\n",
            "torch.Size([64, 784])\n",
            "torch.Size([64, 784])\n",
            "torch.Size([64, 784])\n",
            "torch.Size([64, 784])\n",
            "torch.Size([64, 784])\n",
            "torch.Size([64, 784])\n",
            "torch.Size([64, 784])\n",
            "torch.Size([64, 784])\n",
            "torch.Size([64, 784])\n",
            "torch.Size([64, 784])\n",
            "torch.Size([64, 784])\n",
            "torch.Size([64, 784])\n",
            "torch.Size([64, 784])\n",
            "torch.Size([64, 784])\n",
            "torch.Size([64, 784])\n",
            "torch.Size([64, 784])\n",
            "torch.Size([64, 784])\n",
            "torch.Size([64, 784])\n",
            "torch.Size([64, 784])\n",
            "torch.Size([64, 784])\n",
            "torch.Size([64, 784])\n",
            "torch.Size([64, 784])\n",
            "torch.Size([64, 784])\n",
            "torch.Size([64, 784])\n",
            "torch.Size([64, 784])\n",
            "torch.Size([64, 784])\n",
            "torch.Size([64, 784])\n",
            "torch.Size([64, 784])\n",
            "torch.Size([64, 784])\n",
            "torch.Size([64, 784])\n",
            "torch.Size([64, 784])\n",
            "torch.Size([64, 784])\n",
            "torch.Size([64, 784])\n",
            "torch.Size([64, 784])\n",
            "torch.Size([64, 784])\n",
            "torch.Size([64, 784])\n",
            "torch.Size([64, 784])\n",
            "torch.Size([64, 784])\n",
            "torch.Size([64, 784])\n",
            "torch.Size([64, 784])\n",
            "torch.Size([64, 784])\n",
            "torch.Size([64, 784])\n",
            "torch.Size([64, 784])\n",
            "torch.Size([64, 784])\n",
            "torch.Size([64, 784])\n",
            "torch.Size([64, 784])\n",
            "torch.Size([64, 784])\n",
            "torch.Size([64, 784])\n",
            "torch.Size([64, 784])\n",
            "torch.Size([64, 784])\n",
            "torch.Size([64, 784])\n",
            "torch.Size([64, 784])\n",
            "torch.Size([64, 784])\n",
            "torch.Size([64, 784])\n",
            "torch.Size([64, 784])\n",
            "torch.Size([64, 784])\n",
            "torch.Size([64, 784])\n",
            "torch.Size([64, 784])\n",
            "torch.Size([64, 784])\n",
            "torch.Size([64, 784])\n",
            "torch.Size([64, 784])\n",
            "torch.Size([64, 784])\n",
            "torch.Size([64, 784])\n",
            "torch.Size([64, 784])\n",
            "torch.Size([64, 784])\n",
            "torch.Size([64, 784])\n",
            "torch.Size([64, 784])\n",
            "torch.Size([64, 784])\n",
            "torch.Size([64, 784])\n",
            "torch.Size([64, 784])\n",
            "torch.Size([64, 784])\n",
            "torch.Size([64, 784])\n",
            "torch.Size([64, 784])\n",
            "torch.Size([64, 784])\n",
            "torch.Size([64, 784])\n",
            "torch.Size([64, 784])\n",
            "torch.Size([64, 784])\n",
            "torch.Size([64, 784])\n",
            "torch.Size([64, 784])\n",
            "torch.Size([64, 784])\n",
            "torch.Size([64, 784])\n",
            "torch.Size([64, 784])\n",
            "torch.Size([64, 784])\n",
            "torch.Size([64, 784])\n",
            "torch.Size([64, 784])\n",
            "torch.Size([64, 784])\n",
            "torch.Size([64, 784])\n",
            "torch.Size([64, 784])\n",
            "torch.Size([64, 784])\n",
            "torch.Size([64, 784])\n",
            "torch.Size([64, 784])\n",
            "torch.Size([64, 784])\n",
            "torch.Size([64, 784])\n",
            "torch.Size([64, 784])\n",
            "torch.Size([64, 784])\n",
            "torch.Size([64, 784])\n",
            "torch.Size([64, 784])\n",
            "torch.Size([64, 784])\n",
            "torch.Size([64, 784])\n",
            "torch.Size([64, 784])\n",
            "torch.Size([64, 784])\n",
            "torch.Size([64, 784])\n",
            "torch.Size([64, 784])\n",
            "torch.Size([64, 784])\n",
            "torch.Size([64, 784])\n",
            "torch.Size([64, 784])\n",
            "torch.Size([64, 784])\n",
            "torch.Size([64, 784])\n",
            "torch.Size([64, 784])\n",
            "torch.Size([64, 784])\n",
            "torch.Size([64, 784])\n",
            "torch.Size([64, 784])\n",
            "torch.Size([64, 784])\n",
            "torch.Size([64, 784])\n",
            "torch.Size([64, 784])\n",
            "torch.Size([64, 784])\n",
            "torch.Size([64, 784])\n",
            "torch.Size([64, 784])\n",
            "torch.Size([64, 784])\n",
            "torch.Size([64, 784])\n",
            "torch.Size([64, 784])\n",
            "torch.Size([64, 784])\n",
            "torch.Size([64, 784])\n",
            "torch.Size([64, 784])\n",
            "torch.Size([64, 784])\n",
            "torch.Size([64, 784])\n",
            "torch.Size([64, 784])\n",
            "torch.Size([64, 784])\n",
            "torch.Size([64, 784])\n",
            "torch.Size([64, 784])\n",
            "torch.Size([64, 784])\n",
            "torch.Size([64, 784])\n",
            "torch.Size([64, 784])\n",
            "torch.Size([64, 784])\n",
            "torch.Size([64, 784])\n",
            "torch.Size([64, 784])\n",
            "torch.Size([64, 784])\n",
            "torch.Size([64, 784])\n",
            "torch.Size([64, 784])\n",
            "torch.Size([64, 784])\n",
            "torch.Size([64, 784])\n",
            "torch.Size([64, 784])\n",
            "torch.Size([64, 784])\n",
            "torch.Size([64, 784])\n",
            "torch.Size([64, 784])\n",
            "torch.Size([64, 784])\n",
            "torch.Size([64, 784])\n",
            "torch.Size([64, 784])\n",
            "torch.Size([64, 784])\n",
            "torch.Size([64, 784])\n",
            "torch.Size([64, 784])\n",
            "torch.Size([64, 784])\n",
            "torch.Size([64, 784])\n",
            "torch.Size([64, 784])\n",
            "torch.Size([64, 784])\n",
            "torch.Size([64, 784])\n",
            "torch.Size([64, 784])\n",
            "torch.Size([64, 784])\n",
            "torch.Size([64, 784])\n",
            "torch.Size([64, 784])\n",
            "torch.Size([64, 784])\n",
            "torch.Size([64, 784])\n",
            "torch.Size([64, 784])\n",
            "torch.Size([64, 784])\n",
            "torch.Size([64, 784])\n",
            "torch.Size([64, 784])\n",
            "torch.Size([64, 784])\n",
            "torch.Size([64, 784])\n",
            "torch.Size([64, 784])\n",
            "torch.Size([64, 784])\n",
            "torch.Size([64, 784])\n",
            "torch.Size([64, 784])\n",
            "torch.Size([64, 784])\n",
            "torch.Size([64, 784])\n",
            "torch.Size([64, 784])\n",
            "torch.Size([64, 784])\n",
            "torch.Size([64, 784])\n",
            "torch.Size([64, 784])\n",
            "torch.Size([64, 784])\n",
            "torch.Size([64, 784])\n",
            "torch.Size([64, 784])\n",
            "torch.Size([64, 784])\n",
            "torch.Size([64, 784])\n",
            "torch.Size([64, 784])\n",
            "torch.Size([64, 784])\n",
            "torch.Size([64, 784])\n",
            "torch.Size([64, 784])\n",
            "torch.Size([64, 784])\n",
            "torch.Size([64, 784])\n",
            "torch.Size([64, 784])\n",
            "torch.Size([64, 784])\n",
            "torch.Size([64, 784])\n",
            "torch.Size([64, 784])\n",
            "torch.Size([64, 784])\n",
            "torch.Size([64, 784])\n",
            "torch.Size([64, 784])\n",
            "torch.Size([64, 784])\n",
            "torch.Size([64, 784])\n",
            "torch.Size([64, 784])\n",
            "torch.Size([64, 784])\n",
            "torch.Size([64, 784])\n",
            "torch.Size([64, 784])\n",
            "torch.Size([64, 784])\n",
            "torch.Size([64, 784])\n",
            "torch.Size([64, 784])\n",
            "torch.Size([64, 784])\n",
            "torch.Size([64, 784])\n",
            "torch.Size([64, 784])\n",
            "torch.Size([64, 784])\n",
            "torch.Size([64, 784])\n",
            "torch.Size([64, 784])\n",
            "torch.Size([64, 784])\n",
            "torch.Size([64, 784])\n",
            "torch.Size([64, 784])\n",
            "torch.Size([64, 784])\n",
            "torch.Size([64, 784])\n",
            "torch.Size([64, 784])\n",
            "torch.Size([64, 784])\n",
            "torch.Size([64, 784])\n",
            "torch.Size([64, 784])\n",
            "torch.Size([64, 784])\n",
            "torch.Size([64, 784])\n",
            "torch.Size([64, 784])\n",
            "torch.Size([64, 784])\n",
            "torch.Size([64, 784])\n",
            "torch.Size([64, 784])\n",
            "torch.Size([64, 784])\n",
            "torch.Size([64, 784])\n",
            "torch.Size([64, 784])\n",
            "torch.Size([64, 784])\n",
            "torch.Size([64, 784])\n",
            "torch.Size([64, 784])\n",
            "torch.Size([64, 784])\n",
            "torch.Size([64, 784])\n",
            "torch.Size([64, 784])\n",
            "torch.Size([64, 784])\n",
            "torch.Size([64, 784])\n",
            "torch.Size([64, 784])\n",
            "torch.Size([64, 784])\n",
            "torch.Size([64, 784])\n",
            "torch.Size([64, 784])\n",
            "torch.Size([64, 784])\n",
            "torch.Size([64, 784])\n",
            "torch.Size([64, 784])\n",
            "torch.Size([64, 784])\n",
            "torch.Size([64, 784])\n",
            "torch.Size([64, 784])\n",
            "torch.Size([64, 784])\n",
            "torch.Size([64, 784])\n",
            "torch.Size([64, 784])\n",
            "torch.Size([64, 784])\n",
            "torch.Size([64, 784])\n",
            "torch.Size([64, 784])\n",
            "torch.Size([64, 784])\n",
            "torch.Size([64, 784])\n",
            "torch.Size([64, 784])\n",
            "torch.Size([64, 784])\n",
            "torch.Size([64, 784])\n",
            "torch.Size([64, 784])\n",
            "torch.Size([64, 784])\n",
            "torch.Size([64, 784])\n",
            "torch.Size([64, 784])\n",
            "torch.Size([64, 784])\n",
            "torch.Size([64, 784])\n",
            "torch.Size([64, 784])\n",
            "torch.Size([64, 784])\n",
            "torch.Size([64, 784])\n",
            "torch.Size([64, 784])\n",
            "torch.Size([64, 784])\n",
            "torch.Size([64, 784])\n",
            "torch.Size([64, 784])\n",
            "torch.Size([64, 784])\n",
            "torch.Size([64, 784])\n",
            "torch.Size([64, 784])\n",
            "torch.Size([64, 784])\n",
            "torch.Size([64, 784])\n",
            "torch.Size([64, 784])\n",
            "torch.Size([64, 784])\n",
            "torch.Size([64, 784])\n",
            "torch.Size([64, 784])\n",
            "torch.Size([64, 784])\n",
            "torch.Size([64, 784])\n",
            "torch.Size([64, 784])\n",
            "torch.Size([64, 784])\n",
            "torch.Size([64, 784])\n",
            "torch.Size([64, 784])\n",
            "torch.Size([64, 784])\n",
            "torch.Size([64, 784])\n",
            "torch.Size([64, 784])\n",
            "torch.Size([64, 784])\n",
            "torch.Size([64, 784])\n",
            "torch.Size([64, 784])\n",
            "torch.Size([64, 784])\n",
            "torch.Size([64, 784])\n",
            "torch.Size([64, 784])\n",
            "torch.Size([64, 784])\n",
            "torch.Size([64, 784])\n",
            "torch.Size([64, 784])\n",
            "torch.Size([64, 784])\n",
            "torch.Size([64, 784])\n",
            "torch.Size([64, 784])\n",
            "torch.Size([64, 784])\n",
            "torch.Size([64, 784])\n",
            "torch.Size([64, 784])\n",
            "torch.Size([64, 784])\n",
            "torch.Size([64, 784])\n",
            "torch.Size([64, 784])\n",
            "torch.Size([64, 784])\n",
            "torch.Size([64, 784])\n",
            "torch.Size([64, 784])\n",
            "torch.Size([64, 784])\n",
            "torch.Size([64, 784])\n",
            "torch.Size([64, 784])\n",
            "torch.Size([64, 784])\n",
            "torch.Size([64, 784])\n",
            "torch.Size([64, 784])\n",
            "torch.Size([64, 784])\n",
            "torch.Size([64, 784])\n",
            "torch.Size([64, 784])\n",
            "torch.Size([64, 784])\n",
            "torch.Size([64, 784])\n",
            "torch.Size([64, 784])\n",
            "torch.Size([64, 784])\n",
            "torch.Size([64, 784])\n",
            "torch.Size([64, 784])\n",
            "torch.Size([64, 784])\n",
            "torch.Size([64, 784])\n",
            "torch.Size([64, 784])\n",
            "torch.Size([64, 784])\n",
            "torch.Size([64, 784])\n",
            "torch.Size([64, 784])\n",
            "torch.Size([64, 784])\n",
            "torch.Size([64, 784])\n",
            "torch.Size([64, 784])\n",
            "torch.Size([64, 784])\n",
            "torch.Size([64, 784])\n",
            "torch.Size([64, 784])\n",
            "torch.Size([64, 784])\n",
            "torch.Size([64, 784])\n",
            "torch.Size([64, 784])\n",
            "torch.Size([64, 784])\n",
            "torch.Size([64, 784])\n",
            "torch.Size([64, 784])\n",
            "torch.Size([64, 784])\n",
            "torch.Size([64, 784])\n",
            "torch.Size([64, 784])\n",
            "torch.Size([64, 784])\n",
            "torch.Size([64, 784])\n",
            "torch.Size([64, 784])\n",
            "torch.Size([64, 784])\n",
            "torch.Size([64, 784])\n",
            "torch.Size([64, 784])\n",
            "torch.Size([64, 784])\n",
            "torch.Size([64, 784])\n",
            "torch.Size([64, 784])\n",
            "torch.Size([64, 784])\n",
            "torch.Size([64, 784])\n",
            "torch.Size([64, 784])\n",
            "torch.Size([64, 784])\n",
            "torch.Size([64, 784])\n",
            "torch.Size([64, 784])\n",
            "torch.Size([64, 784])\n",
            "torch.Size([64, 784])\n",
            "torch.Size([64, 784])\n",
            "torch.Size([64, 784])\n",
            "torch.Size([64, 784])\n",
            "torch.Size([64, 784])\n",
            "torch.Size([64, 784])\n",
            "torch.Size([64, 784])\n",
            "torch.Size([64, 784])\n",
            "torch.Size([64, 784])\n",
            "torch.Size([64, 784])\n",
            "torch.Size([64, 784])\n",
            "torch.Size([64, 784])\n",
            "torch.Size([64, 784])\n",
            "torch.Size([64, 784])\n",
            "torch.Size([64, 784])\n",
            "torch.Size([64, 784])\n",
            "torch.Size([64, 784])\n",
            "torch.Size([64, 784])\n",
            "torch.Size([64, 784])\n",
            "torch.Size([64, 784])\n",
            "torch.Size([64, 784])\n",
            "torch.Size([64, 784])\n",
            "torch.Size([64, 784])\n",
            "torch.Size([64, 784])\n",
            "torch.Size([64, 784])\n",
            "torch.Size([64, 784])\n",
            "torch.Size([64, 784])\n",
            "torch.Size([64, 784])\n",
            "torch.Size([64, 784])\n",
            "torch.Size([64, 784])\n",
            "torch.Size([64, 784])\n",
            "torch.Size([64, 784])\n",
            "torch.Size([64, 784])\n",
            "torch.Size([64, 784])\n",
            "torch.Size([64, 784])\n",
            "torch.Size([64, 784])\n",
            "torch.Size([64, 784])\n",
            "torch.Size([64, 784])\n",
            "torch.Size([64, 784])\n",
            "torch.Size([64, 784])\n",
            "torch.Size([64, 784])\n",
            "torch.Size([64, 784])\n",
            "torch.Size([64, 784])\n",
            "torch.Size([64, 784])\n",
            "torch.Size([64, 784])\n",
            "torch.Size([64, 784])\n",
            "torch.Size([64, 784])\n",
            "torch.Size([64, 784])\n",
            "torch.Size([64, 784])\n",
            "torch.Size([64, 784])\n",
            "torch.Size([64, 784])\n",
            "torch.Size([64, 784])\n",
            "torch.Size([64, 784])\n",
            "torch.Size([64, 784])\n",
            "torch.Size([64, 784])\n",
            "torch.Size([64, 784])\n",
            "torch.Size([64, 784])\n",
            "torch.Size([64, 784])\n",
            "torch.Size([64, 784])\n",
            "torch.Size([64, 784])\n",
            "torch.Size([64, 784])\n",
            "torch.Size([64, 784])\n",
            "torch.Size([64, 784])\n",
            "torch.Size([64, 784])\n",
            "torch.Size([64, 784])\n",
            "torch.Size([64, 784])\n",
            "torch.Size([64, 784])\n",
            "torch.Size([64, 784])\n",
            "torch.Size([64, 784])\n",
            "torch.Size([64, 784])\n",
            "torch.Size([64, 784])\n",
            "torch.Size([64, 784])\n",
            "torch.Size([64, 784])\n",
            "torch.Size([64, 784])\n",
            "torch.Size([64, 784])\n",
            "torch.Size([64, 784])\n",
            "torch.Size([64, 784])\n",
            "torch.Size([64, 784])\n",
            "torch.Size([64, 784])\n",
            "torch.Size([64, 784])\n",
            "torch.Size([64, 784])\n",
            "torch.Size([64, 784])\n",
            "torch.Size([64, 784])\n",
            "torch.Size([64, 784])\n",
            "torch.Size([64, 784])\n",
            "torch.Size([64, 784])\n",
            "torch.Size([64, 784])\n",
            "torch.Size([64, 784])\n",
            "torch.Size([64, 784])\n",
            "torch.Size([64, 784])\n",
            "torch.Size([64, 784])\n",
            "torch.Size([64, 784])\n",
            "torch.Size([64, 784])\n",
            "torch.Size([64, 784])\n",
            "torch.Size([64, 784])\n",
            "torch.Size([64, 784])\n",
            "torch.Size([64, 784])\n",
            "torch.Size([64, 784])\n",
            "torch.Size([64, 784])\n",
            "torch.Size([64, 784])\n",
            "torch.Size([64, 784])\n",
            "torch.Size([64, 784])\n",
            "torch.Size([64, 784])\n",
            "torch.Size([64, 784])\n",
            "torch.Size([64, 784])\n",
            "torch.Size([64, 784])\n",
            "torch.Size([64, 784])\n",
            "torch.Size([64, 784])\n",
            "torch.Size([64, 784])\n",
            "torch.Size([64, 784])\n",
            "torch.Size([64, 784])\n",
            "torch.Size([64, 784])\n",
            "torch.Size([64, 784])\n",
            "torch.Size([64, 784])\n",
            "torch.Size([64, 784])\n",
            "torch.Size([64, 784])\n",
            "torch.Size([64, 784])\n",
            "torch.Size([64, 784])\n",
            "torch.Size([64, 784])\n",
            "torch.Size([64, 784])\n",
            "torch.Size([64, 784])\n",
            "torch.Size([64, 784])\n",
            "torch.Size([64, 784])\n",
            "torch.Size([64, 784])\n",
            "torch.Size([64, 784])\n",
            "torch.Size([64, 784])\n",
            "torch.Size([64, 784])\n",
            "torch.Size([64, 784])\n",
            "torch.Size([64, 784])\n",
            "torch.Size([64, 784])\n",
            "torch.Size([64, 784])\n",
            "torch.Size([64, 784])\n",
            "torch.Size([64, 784])\n",
            "torch.Size([64, 784])\n",
            "torch.Size([64, 784])\n",
            "torch.Size([64, 784])\n",
            "torch.Size([64, 784])\n",
            "torch.Size([64, 784])\n",
            "torch.Size([64, 784])\n",
            "torch.Size([64, 784])\n",
            "torch.Size([64, 784])\n",
            "torch.Size([64, 784])\n",
            "torch.Size([64, 784])\n",
            "torch.Size([64, 784])\n",
            "torch.Size([64, 784])\n",
            "torch.Size([64, 784])\n",
            "torch.Size([64, 784])\n",
            "torch.Size([64, 784])\n",
            "torch.Size([64, 784])\n",
            "torch.Size([64, 784])\n",
            "torch.Size([64, 784])\n",
            "torch.Size([64, 784])\n",
            "torch.Size([64, 784])\n",
            "torch.Size([64, 784])\n",
            "torch.Size([64, 784])\n"
          ]
        }
      ]
    },
    {
      "cell_type": "markdown",
      "source": [
        "# Training loop"
      ],
      "metadata": {
        "id": "Uenp95nRulqh"
      }
    },
    {
      "cell_type": "code",
      "source": [
        "w"
      ],
      "metadata": {
        "colab": {
          "base_uri": "https://localhost:8080/"
        },
        "id": "myFso6hAPGQj",
        "outputId": "8bb55196-f641-45a8-e6ec-391e3c7feb04"
      },
      "execution_count": 44,
      "outputs": [
        {
          "output_type": "execute_result",
          "data": {
            "text/plain": [
              "tensor([[1.97]], requires_grad=True)"
            ]
          },
          "metadata": {},
          "execution_count": 44
        }
      ]
    },
    {
      "cell_type": "code",
      "source": [
        "class FCModel(nn.Module):\n",
        "  def __init__(self, feature_size, hidden_size):\n",
        "    super(FCModel, self).__init__()\n",
        "\n",
        "    self.fc1 = nn.Linear(feature_size, hidden_size)\n",
        "    self.fc2 = nn.Linear(hidden_size, 10)\n",
        "    self.relu = nn.ReLU()\n",
        "  def forward(self, x):\n",
        "    out1 = self.fc1(x)\n",
        "    out2 = self.relu(out1)\n",
        "    out3 = self.fc2(out2)\n",
        "    return out3"
      ],
      "metadata": {
        "id": "w7-AufQX-Qbc"
      },
      "execution_count": 58,
      "outputs": []
    },
    {
      "cell_type": "code",
      "source": [
        "x_train.shape"
      ],
      "metadata": {
        "colab": {
          "base_uri": "https://localhost:8080/"
        },
        "id": "YfhgMK_2va64",
        "outputId": "08c36f11-2418-44aa-d6ec-e6525f8d5072"
      },
      "execution_count": 59,
      "outputs": [
        {
          "output_type": "execute_result",
          "data": {
            "text/plain": [
              "torch.Size([50000, 784])"
            ]
          },
          "metadata": {},
          "execution_count": 59
        }
      ]
    },
    {
      "cell_type": "code",
      "source": [],
      "metadata": {
        "id": "DHU6gtqJvN58"
      },
      "execution_count": 59,
      "outputs": []
    },
    {
      "cell_type": "code",
      "source": [
        "from sklearn.preprocessing import OneHotEncoder"
      ],
      "metadata": {
        "id": "Gf8vpbl1xO2k"
      },
      "execution_count": 60,
      "outputs": []
    },
    {
      "cell_type": "code",
      "source": [
        "encoder = OneHotEncoder()\n",
        "y_train_dummy = encoder.fit_transform(y_train.view(-1,1)).toarray()\n",
        "y_train_dummy = tensor(y_train_dummy).float()\n",
        "y_train_dummy.shape"
      ],
      "metadata": {
        "colab": {
          "base_uri": "https://localhost:8080/"
        },
        "id": "YNQfpOiJw5f8",
        "outputId": "f2a14da1-a803-420c-d379-3895fcdb4b0c"
      },
      "execution_count": 61,
      "outputs": [
        {
          "output_type": "execute_result",
          "data": {
            "text/plain": [
              "torch.Size([50000, 10])"
            ]
          },
          "metadata": {},
          "execution_count": 61
        }
      ]
    },
    {
      "cell_type": "code",
      "source": [
        "hidden_size = 256\n",
        "lr = 0.01\n",
        "model = FCModel(x_train.shape[1], 256)\n",
        "optimizer = torch.optim.SGD(model.parameters(), lr = lr)"
      ],
      "metadata": {
        "id": "mopWvKiHzHB-"
      },
      "execution_count": 62,
      "outputs": []
    },
    {
      "cell_type": "code",
      "source": [
        "model.fc1.weight.shape"
      ],
      "metadata": {
        "colab": {
          "base_uri": "https://localhost:8080/"
        },
        "id": "oJu1vb_aTmUJ",
        "outputId": "14ee4ba8-a4e0-40d8-9ccf-641339c00f76"
      },
      "execution_count": 63,
      "outputs": [
        {
          "output_type": "execute_result",
          "data": {
            "text/plain": [
              "torch.Size([256, 784])"
            ]
          },
          "metadata": {},
          "execution_count": 63
        }
      ]
    },
    {
      "cell_type": "code",
      "source": [
        "model.fc1.bias.shape"
      ],
      "metadata": {
        "colab": {
          "base_uri": "https://localhost:8080/"
        },
        "id": "ZpcTXDfETvKL",
        "outputId": "ec49fa80-ec2a-4d3c-8282-91c7c22d9cd1"
      },
      "execution_count": 64,
      "outputs": [
        {
          "output_type": "execute_result",
          "data": {
            "text/plain": [
              "torch.Size([256])"
            ]
          },
          "metadata": {},
          "execution_count": 64
        }
      ]
    },
    {
      "cell_type": "code",
      "source": [
        "model.fc2.weight.shape"
      ],
      "metadata": {
        "colab": {
          "base_uri": "https://localhost:8080/"
        },
        "id": "pF3COOkZT4Y0",
        "outputId": "a60c29aa-435a-4f7d-9734-be65edcc28a4"
      },
      "execution_count": 65,
      "outputs": [
        {
          "output_type": "execute_result",
          "data": {
            "text/plain": [
              "torch.Size([10, 256])"
            ]
          },
          "metadata": {},
          "execution_count": 65
        }
      ]
    },
    {
      "cell_type": "code",
      "source": [
        "epoch = 10\n",
        "for e in range(epoch):\n",
        "  output = model(x_train)\n",
        "  loss = mse_loss(output, y_train_dummy)\n",
        "  loss.backward()\n",
        "  optimizer.step()\n",
        "  optimizer.zero_grad()\n",
        "  predictions = output.argmax(-1)\n",
        "  accuracy = (predictions==y_train).float().mean()\n",
        "  print(f'epoch {e}; loss {loss.item():.4f}; accuracy {accuracy:.2f}')"
      ],
      "metadata": {
        "colab": {
          "base_uri": "https://localhost:8080/"
        },
        "id": "QIepqn5uvou3",
        "outputId": "280d1b50-f6a0-4aa0-a9a3-8692351e0e4b"
      },
      "execution_count": 66,
      "outputs": [
        {
          "output_type": "stream",
          "name": "stdout",
          "text": [
            "epoch 0; loss 0.1080; accuracy 0.10\n",
            "epoch 1; loss 0.1074; accuracy 0.10\n",
            "epoch 2; loss 0.1069; accuracy 0.10\n",
            "epoch 3; loss 0.1064; accuracy 0.10\n",
            "epoch 4; loss 0.1059; accuracy 0.10\n",
            "epoch 5; loss 0.1055; accuracy 0.10\n",
            "epoch 6; loss 0.1050; accuracy 0.10\n",
            "epoch 7; loss 0.1045; accuracy 0.10\n",
            "epoch 8; loss 0.1041; accuracy 0.10\n",
            "epoch 9; loss 0.1037; accuracy 0.11\n"
          ]
        }
      ]
    },
    {
      "cell_type": "code",
      "source": [
        "output[0], y_train[0]"
      ],
      "metadata": {
        "colab": {
          "base_uri": "https://localhost:8080/"
        },
        "id": "Svi-AKFazXbU",
        "outputId": "98316993-dbc9-4bd2-fac7-ccab4fa6dad1"
      },
      "execution_count": 67,
      "outputs": [
        {
          "output_type": "execute_result",
          "data": {
            "text/plain": [
              "(tensor([ 0.03,  0.02,  0.02, -0.07,  0.09, -0.02,  0.06,  0.03, -0.06,  0.17], grad_fn=<SelectBackward0>),\n",
              " tensor(5))"
            ]
          },
          "metadata": {},
          "execution_count": 67
        }
      ]
    },
    {
      "cell_type": "code",
      "source": [
        "hidden_size = 256\n",
        "lr = 0.01\n",
        "model = FCModel(x_train.shape[1], 256)\n",
        "optimizer = torch.optim.SGD(model.parameters(), lr = lr)"
      ],
      "metadata": {
        "id": "Clg1xi8cwJGb"
      },
      "execution_count": 68,
      "outputs": []
    },
    {
      "cell_type": "code",
      "source": [
        "for e in range(epoch):\n",
        "  output = model(x_train)\n",
        "  loss = ce_loss(output, y_train)\n",
        "  loss.backward()\n",
        "  optimizer.step()\n",
        "  optimizer.zero_grad()\n",
        "  predictions = output.argmax(-1)\n",
        "  accuracy = (predictions==y_train).float().mean()\n",
        "  print(f'epoch {e}; loss {loss.item():.4f}; accuracy {accuracy:.2f}')"
      ],
      "metadata": {
        "colab": {
          "base_uri": "https://localhost:8080/"
        },
        "id": "YiwF72Bzx6Rv",
        "outputId": "dd6d435f-90e4-450c-af7d-87e927f36b1b"
      },
      "execution_count": 69,
      "outputs": [
        {
          "output_type": "stream",
          "name": "stdout",
          "text": [
            "epoch 0; loss 2.2996; accuracy 0.12\n",
            "epoch 1; loss 2.2978; accuracy 0.12\n",
            "epoch 2; loss 2.2959; accuracy 0.12\n",
            "epoch 3; loss 2.2940; accuracy 0.12\n",
            "epoch 4; loss 2.2921; accuracy 0.12\n",
            "epoch 5; loss 2.2902; accuracy 0.12\n",
            "epoch 6; loss 2.2883; accuracy 0.13\n",
            "epoch 7; loss 2.2865; accuracy 0.13\n",
            "epoch 8; loss 2.2846; accuracy 0.13\n",
            "epoch 9; loss 2.2827; accuracy 0.13\n"
          ]
        }
      ]
    },
    {
      "cell_type": "code",
      "source": [
        "output[0], y_train[0]"
      ],
      "metadata": {
        "colab": {
          "base_uri": "https://localhost:8080/"
        },
        "id": "IcOIhRnoySOJ",
        "outputId": "8bdcb901-5a96-4efd-fc27-0b1834482425"
      },
      "execution_count": 70,
      "outputs": [
        {
          "output_type": "execute_result",
          "data": {
            "text/plain": [
              "(tensor([ 0.14, -0.01, -0.17,  0.03,  0.01,  0.05, -0.02,  0.05, -0.03, -0.06], grad_fn=<SelectBackward0>),\n",
              " tensor(5))"
            ]
          },
          "metadata": {},
          "execution_count": 70
        }
      ]
    },
    {
      "cell_type": "code",
      "source": [],
      "metadata": {
        "id": "KnJDqY-azPHC"
      },
      "execution_count": null,
      "outputs": []
    }
  ]
}