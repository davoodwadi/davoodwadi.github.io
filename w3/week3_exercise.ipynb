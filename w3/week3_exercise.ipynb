{
 "cells": [
  {
   "cell_type": "code",
   "execution_count": 1,
   "id": "789aa719-4866-4dce-a718-ad701acc6758",
   "metadata": {},
   "outputs": [
    {
     "name": "stdout",
     "output_type": "stream",
     "text": [
      "Collecting imbalanced-learn\n",
      "  Obtaining dependency information for imbalanced-learn from https://files.pythonhosted.org/packages/a3/9e/fbe60a768502af54563dcb59ca7856f5a8833b3ad5ada658922e1ab09b7f/imbalanced_learn-0.11.0-py3-none-any.whl.metadata\n",
      "  Downloading imbalanced_learn-0.11.0-py3-none-any.whl.metadata (8.3 kB)\n",
      "Requirement already satisfied: numpy>=1.17.3 in /Users/davoodwadi/mambaforge/lib/python3.10/site-packages (from imbalanced-learn) (1.25.2)\n",
      "Requirement already satisfied: scipy>=1.5.0 in /Users/davoodwadi/mambaforge/lib/python3.10/site-packages (from imbalanced-learn) (1.11.2)\n",
      "Requirement already satisfied: scikit-learn>=1.0.2 in /Users/davoodwadi/mambaforge/lib/python3.10/site-packages (from imbalanced-learn) (1.3.0)\n",
      "Requirement already satisfied: joblib>=1.1.1 in /Users/davoodwadi/mambaforge/lib/python3.10/site-packages (from imbalanced-learn) (1.3.2)\n",
      "Requirement already satisfied: threadpoolctl>=2.0.0 in /Users/davoodwadi/mambaforge/lib/python3.10/site-packages (from imbalanced-learn) (3.2.0)\n",
      "Downloading imbalanced_learn-0.11.0-py3-none-any.whl (235 kB)\n",
      "\u001b[2K   \u001b[90m━━━━━━━━━━━━━━━━━━━━━━━━━━━━━━━━━━━━━━━━\u001b[0m \u001b[32m235.6/235.6 kB\u001b[0m \u001b[31m4.5 MB/s\u001b[0m eta \u001b[36m0:00:00\u001b[0m:00:01\u001b[0m\n",
      "\u001b[?25hInstalling collected packages: imbalanced-learn\n",
      "Successfully installed imbalanced-learn-0.11.0\n"
     ]
    }
   ],
   "source": [
    "!pip install imbalanced-learn"
   ]
  },
  {
   "cell_type": "code",
   "execution_count": 3,
   "id": "fb825201-ca88-40f5-b440-582019f6233c",
   "metadata": {},
   "outputs": [],
   "source": [
    "from imblearn.datasets import fetch_datasets"
   ]
  },
  {
   "cell_type": "code",
   "execution_count": 4,
   "id": "5010414a-f591-4b75-855f-0d4b10bc1617",
   "metadata": {},
   "outputs": [],
   "source": [
    "# Load the dataset\n",
    "data = fetch_datasets()['mammography']\n",
    "X, y = data.data, data.target"
   ]
  },
  {
   "cell_type": "code",
   "execution_count": 5,
   "id": "7ead6c94-529a-4ab0-80de-28025c07ee2e",
   "metadata": {},
   "outputs": [],
   "source": [
    "import pandas as pd\n",
    "import numpy as np"
   ]
  },
  {
   "cell_type": "code",
   "execution_count": 11,
   "id": "6afcaa68-7077-42b5-90b9-919467114383",
   "metadata": {},
   "outputs": [
    {
     "data": {
      "text/html": [
       "<div>\n",
       "<style scoped>\n",
       "    .dataframe tbody tr th:only-of-type {\n",
       "        vertical-align: middle;\n",
       "    }\n",
       "\n",
       "    .dataframe tbody tr th {\n",
       "        vertical-align: top;\n",
       "    }\n",
       "\n",
       "    .dataframe thead th {\n",
       "        text-align: right;\n",
       "    }\n",
       "</style>\n",
       "<table border=\"1\" class=\"dataframe\">\n",
       "  <thead>\n",
       "    <tr style=\"text-align: right;\">\n",
       "      <th></th>\n",
       "      <th>feature_1</th>\n",
       "      <th>feature_2</th>\n",
       "      <th>feature_3</th>\n",
       "      <th>feature_4</th>\n",
       "      <th>feature_5</th>\n",
       "      <th>feature_6</th>\n",
       "      <th>y</th>\n",
       "    </tr>\n",
       "  </thead>\n",
       "  <tbody>\n",
       "    <tr>\n",
       "      <th>0</th>\n",
       "      <td>0.230020</td>\n",
       "      <td>5.072578</td>\n",
       "      <td>-0.276061</td>\n",
       "      <td>0.832444</td>\n",
       "      <td>-0.377866</td>\n",
       "      <td>0.480322</td>\n",
       "      <td>-1.0</td>\n",
       "    </tr>\n",
       "    <tr>\n",
       "      <th>1</th>\n",
       "      <td>0.155491</td>\n",
       "      <td>-0.169390</td>\n",
       "      <td>0.670652</td>\n",
       "      <td>-0.859553</td>\n",
       "      <td>-0.377866</td>\n",
       "      <td>-0.945723</td>\n",
       "      <td>-1.0</td>\n",
       "    </tr>\n",
       "    <tr>\n",
       "      <th>2</th>\n",
       "      <td>-0.784415</td>\n",
       "      <td>-0.443654</td>\n",
       "      <td>5.674705</td>\n",
       "      <td>-0.859553</td>\n",
       "      <td>-0.377866</td>\n",
       "      <td>-0.945723</td>\n",
       "      <td>-1.0</td>\n",
       "    </tr>\n",
       "    <tr>\n",
       "      <th>3</th>\n",
       "      <td>0.546088</td>\n",
       "      <td>0.131415</td>\n",
       "      <td>-0.456387</td>\n",
       "      <td>-0.859553</td>\n",
       "      <td>-0.377866</td>\n",
       "      <td>-0.945723</td>\n",
       "      <td>-1.0</td>\n",
       "    </tr>\n",
       "    <tr>\n",
       "      <th>4</th>\n",
       "      <td>-0.102987</td>\n",
       "      <td>-0.394994</td>\n",
       "      <td>-0.140816</td>\n",
       "      <td>0.979703</td>\n",
       "      <td>-0.377866</td>\n",
       "      <td>1.013566</td>\n",
       "      <td>-1.0</td>\n",
       "    </tr>\n",
       "    <tr>\n",
       "      <th>...</th>\n",
       "      <td>...</td>\n",
       "      <td>...</td>\n",
       "      <td>...</td>\n",
       "      <td>...</td>\n",
       "      <td>...</td>\n",
       "      <td>...</td>\n",
       "      <td>...</td>\n",
       "    </tr>\n",
       "    <tr>\n",
       "      <th>11178</th>\n",
       "      <td>-0.250012</td>\n",
       "      <td>-0.377300</td>\n",
       "      <td>-0.321142</td>\n",
       "      <td>1.269157</td>\n",
       "      <td>3.652984</td>\n",
       "      <td>1.092791</td>\n",
       "      <td>1.0</td>\n",
       "    </tr>\n",
       "    <tr>\n",
       "      <th>11179</th>\n",
       "      <td>0.281343</td>\n",
       "      <td>-0.417112</td>\n",
       "      <td>-0.366224</td>\n",
       "      <td>0.851010</td>\n",
       "      <td>2.789649</td>\n",
       "      <td>1.345700</td>\n",
       "      <td>1.0</td>\n",
       "    </tr>\n",
       "    <tr>\n",
       "      <th>11180</th>\n",
       "      <td>1.204988</td>\n",
       "      <td>1.763724</td>\n",
       "      <td>-0.501468</td>\n",
       "      <td>1.562408</td>\n",
       "      <td>6.489072</td>\n",
       "      <td>0.931294</td>\n",
       "      <td>1.0</td>\n",
       "    </tr>\n",
       "    <tr>\n",
       "      <th>11181</th>\n",
       "      <td>0.736644</td>\n",
       "      <td>-0.222474</td>\n",
       "      <td>-0.050653</td>\n",
       "      <td>1.509665</td>\n",
       "      <td>0.539269</td>\n",
       "      <td>1.315229</td>\n",
       "      <td>1.0</td>\n",
       "    </tr>\n",
       "    <tr>\n",
       "      <th>11182</th>\n",
       "      <td>0.177003</td>\n",
       "      <td>-0.191508</td>\n",
       "      <td>-0.501468</td>\n",
       "      <td>1.578864</td>\n",
       "      <td>7.750705</td>\n",
       "      <td>1.555951</td>\n",
       "      <td>1.0</td>\n",
       "    </tr>\n",
       "  </tbody>\n",
       "</table>\n",
       "<p>11183 rows × 7 columns</p>\n",
       "</div>"
      ],
      "text/plain": [
       "       feature_1  feature_2  feature_3  feature_4  feature_5  feature_6    y\n",
       "0       0.230020   5.072578  -0.276061   0.832444  -0.377866   0.480322 -1.0\n",
       "1       0.155491  -0.169390   0.670652  -0.859553  -0.377866  -0.945723 -1.0\n",
       "2      -0.784415  -0.443654   5.674705  -0.859553  -0.377866  -0.945723 -1.0\n",
       "3       0.546088   0.131415  -0.456387  -0.859553  -0.377866  -0.945723 -1.0\n",
       "4      -0.102987  -0.394994  -0.140816   0.979703  -0.377866   1.013566 -1.0\n",
       "...          ...        ...        ...        ...        ...        ...  ...\n",
       "11178  -0.250012  -0.377300  -0.321142   1.269157   3.652984   1.092791  1.0\n",
       "11179   0.281343  -0.417112  -0.366224   0.851010   2.789649   1.345700  1.0\n",
       "11180   1.204988   1.763724  -0.501468   1.562408   6.489072   0.931294  1.0\n",
       "11181   0.736644  -0.222474  -0.050653   1.509665   0.539269   1.315229  1.0\n",
       "11182   0.177003  -0.191508  -0.501468   1.578864   7.750705   1.555951  1.0\n",
       "\n",
       "[11183 rows x 7 columns]"
      ]
     },
     "execution_count": 11,
     "metadata": {},
     "output_type": "execute_result"
    }
   ],
   "source": [
    "df = pd.DataFrame(np.hstack([X,y.reshape(-1,1)]))\n",
    "df.columns = [f\"feature_{i}\" for i in range(1,7)] + ['y']\n",
    "df"
   ]
  },
  {
   "cell_type": "code",
   "execution_count": 7,
   "id": "0c77dc82-0ae7-485e-af22-531f85880eac",
   "metadata": {},
   "outputs": [
    {
     "data": {
      "text/plain": [
       "((11183, 6), (11183,))"
      ]
     },
     "execution_count": 7,
     "metadata": {},
     "output_type": "execute_result"
    }
   ],
   "source": [
    "X.shape, y.shape"
   ]
  },
  {
   "cell_type": "code",
   "execution_count": null,
   "id": "c4456200-195e-4f96-8c78-0f8a9b7e5c51",
   "metadata": {},
   "outputs": [],
   "source": []
  }
 ],
 "metadata": {
  "kernelspec": {
   "display_name": "Python 3 (ipykernel)",
   "language": "python",
   "name": "python3"
  },
  "language_info": {
   "codemirror_mode": {
    "name": "ipython",
    "version": 3
   },
   "file_extension": ".py",
   "mimetype": "text/x-python",
   "name": "python",
   "nbconvert_exporter": "python",
   "pygments_lexer": "ipython3",
   "version": "3.10.12"
  }
 },
 "nbformat": 4,
 "nbformat_minor": 5
}
